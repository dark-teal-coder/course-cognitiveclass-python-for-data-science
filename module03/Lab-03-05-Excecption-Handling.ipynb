{
  "cells": [
    {
      "attachments": {},
      "cell_type": "markdown",
      "metadata": {},
      "source": [
        "# Exception Handling\n",
        "\n",
        "Estimated time needed: **15** minutes\n",
        "\n",
        "## Objectives\n",
        "\n",
        "After completing this lab you will be able to:\n",
        "\n",
        "- Understand exceptions\n",
        "- Handle the exceptions\n",
        "\n",
        "## Table of Contents\n",
        "\n",
        "- [Introduction to Exceptions](#introduction-to-exceptions)\n",
        "- [Exception Handling](#exception-handling)"
      ]
    },
    {
      "attachments": {},
      "cell_type": "markdown",
      "metadata": {},
      "source": [
        "---"
      ]
    },
    {
      "attachments": {},
      "cell_type": "markdown",
      "metadata": {},
      "source": [
        "## Introduction to Exceptions"
      ]
    },
    {
      "attachments": {},
      "cell_type": "markdown",
      "metadata": {},
      "source": [
        "### Definition"
      ]
    },
    {
      "attachments": {},
      "cell_type": "markdown",
      "metadata": {},
      "source": [
        "An exception is an error that occurs during the execution of code. This error causes the code to raise an exception and if not prepared, it will halt the execution of the code."
      ]
    },
    {
      "attachments": {},
      "cell_type": "markdown",
      "metadata": {},
      "source": [
        "### Examples"
      ]
    },
    {
      "cell_type": "markdown",
      "metadata": {},
      "source": [
        "Run each piece of code and observe the exception raised\n"
      ]
    },
    {
      "cell_type": "code",
      "execution_count": 1,
      "metadata": {
        "trusted": true
      },
      "outputs": [],
      "source": [
        "# 1 / 0"
      ]
    },
    {
      "attachments": {},
      "cell_type": "markdown",
      "metadata": {},
      "source": [
        "#### Error"
      ]
    },
    {
      "attachments": {},
      "cell_type": "markdown",
      "metadata": {},
      "source": [
        "```powershell\n",
        "---------------------------------------------------------------------------\n",
        "ZeroDivisionError                         Traceback (most recent call last)\n",
        "Cell In[1], line 1\n",
        "----> 1 1/0\n",
        "\n",
        "ZeroDivisionError: division by zero\n",
        "```"
      ]
    },
    {
      "attachments": {},
      "cell_type": "markdown",
      "metadata": {},
      "source": [
        "`ZeroDivisionError` occurs when we divide by zero."
      ]
    },
    {
      "cell_type": "code",
      "execution_count": 2,
      "metadata": {
        "trusted": true
      },
      "outputs": [],
      "source": [
        "# y = a + 5"
      ]
    },
    {
      "attachments": {},
      "cell_type": "markdown",
      "metadata": {},
      "source": [
        "#### Error"
      ]
    },
    {
      "attachments": {},
      "cell_type": "markdown",
      "metadata": {},
      "source": [
        "```powershell\n",
        "---------------------------------------------------------------------------\n",
        "NameError                                 Traceback (most recent call last)\n",
        "Cell In[2], line 1\n",
        "----> 1 y = a + 5\n",
        "\n",
        "NameError: name 'a' is not defined\n",
        "```"
      ]
    },
    {
      "attachments": {},
      "cell_type": "markdown",
      "metadata": {},
      "source": [
        "`NameError` occurs when we use a variable not defined before."
      ]
    },
    {
      "cell_type": "code",
      "execution_count": 3,
      "metadata": {
        "trusted": true
      },
      "outputs": [],
      "source": [
        "# a = [1, 2, 3]\n",
        "# a[10]"
      ]
    },
    {
      "attachments": {},
      "cell_type": "markdown",
      "metadata": {},
      "source": [
        "#### Error"
      ]
    },
    {
      "attachments": {},
      "cell_type": "markdown",
      "metadata": {},
      "source": [
        "```powershell\n",
        "---------------------------------------------------------------------------\n",
        "IndexError                                Traceback (most recent call last)\n",
        "Cell In[3], line 2\n",
        "      1 a = [1, 2, 3]\n",
        "----> 2 a[10]\n",
        "\n",
        "IndexError: list index out of range\n",
        "```"
      ]
    },
    {
      "attachments": {},
      "cell_type": "markdown",
      "metadata": {},
      "source": [
        "`IndexError` occurs when we access data from a list using an index that does not exist for this list."
      ]
    },
    {
      "attachments": {},
      "cell_type": "markdown",
      "metadata": {},
      "source": [
        "There are many more exceptions that are built into Python. See [Built-in Exceptions](https://docs.python.org/3/library/exceptions.html)."
      ]
    },
    {
      "attachments": {},
      "cell_type": "markdown",
      "metadata": {},
      "source": [
        "## Exception Handling"
      ]
    },
    {
      "attachments": {},
      "cell_type": "markdown",
      "metadata": {},
      "source": [
        "In this section, we will learn how to handle exceptions. We will understand how to make our program perform specified tasks instead of halting code execution when an exception is encountered."
      ]
    },
    {
      "attachments": {},
      "cell_type": "markdown",
      "metadata": {},
      "source": [
        "### Try Except Any Error"
      ]
    },
    {
      "attachments": {},
      "cell_type": "markdown",
      "metadata": {},
      "source": [
        "A `try ... except` allows us to execute code that might raise an exception and in the case of any exception or a specific one, we can handle or catch the exception and execute specific code. This will allow us to continue the execution of our program even if there is an exception.\n",
        "\n",
        "Python tries to execute the code in the `try` block. In this case if there is any exception raised by the code in the block, it will be caught and the `except` block will be executed. Finally, the code that comes after the try-except block will be executed."
      ]
    },
    {
      "cell_type": "code",
      "execution_count": 4,
      "metadata": {
        "trusted": true
      },
      "outputs": [],
      "source": [
        "## Code before try-except block\n",
        "\n",
        "try:\n",
        "\t## If an error occurs here, jump to \"except\"\n",
        "\tpass\n",
        "except:\n",
        "\t## Code to execute if there is an exception in \"try\"\n",
        "\tpass\n",
        "\n",
        "## Code to execute after try-except block no matter if there's an error or not"
      ]
    },
    {
      "attachments": {},
      "cell_type": "markdown",
      "metadata": {},
      "source": [
        "In this example, we are trying to divide a number given by the user, save the outcome in the variable `result`, and then we would like to print the result of the operation. When taking user input and dividing a number by it, there are a couple of exceptions that can be raised. For example, if we divide by zero. Try running the following block of code with `divisor` as a number. An exception will only be raised if divisor is zero."
      ]
    },
    {
      "cell_type": "code",
      "execution_count": 5,
      "metadata": {
        "trusted": true
      },
      "outputs": [
        {
          "name": "stdout",
          "output_type": "stream",
          "text": [
            "1 / 1 = 1.0\n"
          ]
        }
      ],
      "source": [
        "dividend = 1\n",
        "\n",
        "try:\n",
        "\tdivisor = int(input(\"Please enter an integer to divide:\"))\n",
        "\tresult = dividend / divisor\n",
        "\tprint(f\"{dividend} / {divisor} = {result}\")\n",
        "except:\n",
        "\tprint(\"An error occurred.\")"
      ]
    },
    {
      "attachments": {},
      "cell_type": "markdown",
      "metadata": {},
      "source": [
        "### Try Except Specific Error"
      ]
    },
    {
      "attachments": {},
      "cell_type": "markdown",
      "metadata": {},
      "source": [
        "A specific try-except allows us to catch certain exceptions and also execute certain code depending on the exception. This is useful if we do not want to deal with some exceptions and the execution should halt. It can also help identify errors in our code that we might not be aware of. Furthermore, it can help differentiate responses to different exceptions. In this case, the code after the try-except block might not run depending on the error."
      ]
    },
    {
      "attachments": {},
      "cell_type": "markdown",
      "metadata": {},
      "source": [
        "Don't run the following cells. "
      ]
    },
    {
      "cell_type": "code",
      "execution_count": 6,
      "metadata": {
        "trusted": true
      },
      "outputs": [],
      "source": [
        "## Code before try-except block\n",
        "\n",
        "try:\n",
        "\t## If an error occurs here, jump to \"except\"\n",
        "\tpass\n",
        "except (ZeroDivisionError, NameError):\n",
        "\t## Code to execute if there is an exception in \"try\"\n",
        "\tpass\n",
        "\n",
        "## Code to execute after try-except block if there's no error or it's one of those handled"
      ]
    },
    {
      "cell_type": "code",
      "execution_count": 7,
      "metadata": {
        "trusted": true
      },
      "outputs": [],
      "source": [
        "## Code before try-except block\n",
        "\n",
        "try:\n",
        "\t## If an error occurs here, jump to \"except\"\n",
        "\tpass\n",
        "except ZeroDivisionError:\n",
        "\t## Code to execute if ZeroDivisionError occurs\n",
        "\tpass\n",
        "except NameError:\n",
        "\t## Code to execute if NameError occurs\n",
        "\tpass\n",
        "\n",
        "## Code to execute after try-except block if there's no error or it's one of those handled"
      ]
    },
    {
      "attachments": {},
      "cell_type": "markdown",
      "metadata": {},
      "source": [
        "We can also have an empty `except` at the end to catch an unexpected exception."
      ]
    },
    {
      "attachments": {},
      "cell_type": "markdown",
      "metadata": {},
      "source": [
        "Don't run the following cell. "
      ]
    },
    {
      "cell_type": "code",
      "execution_count": 8,
      "metadata": {
        "trusted": true
      },
      "outputs": [],
      "source": [
        "## Code before try-except block\n",
        "\n",
        "try:\n",
        "\t## If an error occurs here, jump to \"except\"\n",
        "\tpass\n",
        "except ZeroDivisionError:\n",
        "\t## Code to execute if ZeroDivisionError occurs\n",
        "\tpass\n",
        "except NameError:\n",
        "\t## Code to execute if NameError occurs\n",
        "\tpass\n",
        "except:\n",
        "\t## Code to execute if other errors occur\n",
        "\tpass\n",
        "\n",
        "## Code to execute after try-except block if there's no error or it's one of those handled"
      ]
    },
    {
      "attachments": {},
      "cell_type": "markdown",
      "metadata": {},
      "source": [
        "This is the same example as above but now we will add differentiated messages depending on the exception, letting the user know what is wrong with the input."
      ]
    },
    {
      "cell_type": "code",
      "execution_count": 9,
      "metadata": {
        "trusted": true
      },
      "outputs": [
        {
          "name": "stdout",
          "output_type": "stream",
          "text": [
            "1 / 2 = 0.5\n"
          ]
        }
      ],
      "source": [
        "dividend = 1\n",
        "\n",
        "try:\n",
        "\tdivisor = int(input(\"Please enter a number to divide:\"))\n",
        "\tresult = dividend / divisor\n",
        "\tprint(f\"{dividend} / {divisor} = {result}\")\n",
        "except ZeroDivisionError:\n",
        "\tprint(\"0 can't be a divisor.\")\n",
        "except ValueError:\n",
        "\tprint(\"Please provide a number.\")\n",
        "except:\n",
        "\tprint(\"An error occurred.\")"
      ]
    },
    {
      "attachments": {},
      "cell_type": "markdown",
      "metadata": {},
      "source": [
        "### Try-Except-Else-Finally"
      ]
    },
    {
      "attachments": {},
      "cell_type": "markdown",
      "metadata": {},
      "source": [
        "The `else` statement allows us to check if there was no exception when executing the \"try\" block. This is useful when we want to execute something only if there were no errors."
      ]
    },
    {
      "attachments": {},
      "cell_type": "markdown",
      "metadata": {},
      "source": [
        "```python\n",
        "## Code before try-except block\n",
        "\n",
        "try:\n",
        "\t## If an error occurs here, jump to \"except\"\n",
        "\tpass\n",
        "except ZeroDivisionError:\n",
        "\t## Code to execute if ZeroDivisionError occurs\n",
        "\tpass\n",
        "except NameError:\n",
        "\t## Code to execute if NameError occurs\n",
        "\tpass\n",
        "except:\n",
        "\t## Code to execute if other errors occur\n",
        "\tpass\n",
        "else:\n",
        "\t## Code to execute if there is no exception\n",
        "\tpass\n",
        "\n",
        "## Code to execute after try-except block if there's no error or it's one of those handled\n",
        "```"
      ]
    },
    {
      "attachments": {},
      "cell_type": "markdown",
      "metadata": {},
      "source": [
        "The `finally` allows us to always execute something even if there is an exception or not. This is usually used to signify the end of the try-except."
      ]
    },
    {
      "cell_type": "markdown",
      "metadata": {
        "trusted": true
      },
      "source": [
        "```python\n",
        "## Code before try-except block\n",
        "\n",
        "try:\n",
        "\t## If an error occurs here, jump to \"except\"\n",
        "\tpass\n",
        "except ZeroDivisionError:\n",
        "\t## Code to execute if ZeroDivisionError occurs\n",
        "\tpass\n",
        "except NameError:\n",
        "\t## Code to execute if NameError occurs\n",
        "\tpass\n",
        "except:\n",
        "\t## Code to execute if other errors occur\n",
        "\tpass\n",
        "else:\n",
        "\t## Code to execute if there is no exception\n",
        "\tpass\n",
        "finally:\n",
        "\t## Code to execute after try-except block with or without exception\n",
        "\tpass\n",
        "\n",
        "## Code to execute after try-except block if there's no error or it's one of those handled\n",
        "```"
      ]
    },
    {
      "attachments": {},
      "cell_type": "markdown",
      "metadata": {},
      "source": [
        "Notice that even if there is an error, the value of `dividend` is always printed. Let's use `else` and print the value of `dividend` only if there is no error."
      ]
    },
    {
      "cell_type": "code",
      "execution_count": 10,
      "metadata": {},
      "outputs": [
        {
          "name": "stdout",
          "output_type": "stream",
          "text": [
            "1 / 3 = 0.3333333333333333\n",
            "dividend = 1\n"
          ]
        }
      ],
      "source": [
        "dividend = 1\n",
        "\n",
        "try:\n",
        "\tdivisor = int(input(\"Please enter a non-zero number:\"))\n",
        "\tresult = dividend / divisor\n",
        "\tprint(f\"{dividend} / {divisor} = {result}\")\n",
        "except ZeroDivisionError:\n",
        "\tprint(\"0 can't be a divisor.\")\n",
        "except ValueError:\n",
        "\tprint(\"Please provide a number.\")\n",
        "except:\n",
        "\tprint(\"An error occurred.\")\n",
        "else: \n",
        "\tprint(f\"dividend = {dividend}\")"
      ]
    },
    {
      "attachments": {},
      "cell_type": "markdown",
      "metadata": {},
      "source": [
        "Now let the user know that we are done processing their using `finally`."
      ]
    },
    {
      "cell_type": "code",
      "execution_count": 11,
      "metadata": {},
      "outputs": [
        {
          "name": "stdout",
          "output_type": "stream",
          "text": [
            "1 / 3 = 0.3333333333333333\n",
            "dividend = 1\n",
            "Processing complete.\n"
          ]
        }
      ],
      "source": [
        "dividend = 1\n",
        "\n",
        "try:\n",
        "\tdivisor = int(input(\"Please enter a non-zero number:\"))\n",
        "\tresult = dividend / divisor\n",
        "\tprint(f\"{dividend} / {divisor} = {result}\")\n",
        "except ZeroDivisionError:\n",
        "\tprint(\"0 can't be a divisor.\")\n",
        "except ValueError:\n",
        "\tprint(\"Please provide a number.\")\n",
        "except:\n",
        "\tprint(\"An error occurred.\")\n",
        "else: \n",
        "\tprint(f\"dividend = {dividend}\")\n",
        "finally: \n",
        "\tprint(\"Processing complete.\")"
      ]
    },
    {
      "attachments": {},
      "cell_type": "markdown",
      "metadata": {},
      "source": [
        "---"
      ]
    },
    {
      "attachments": {},
      "cell_type": "markdown",
      "metadata": {},
      "source": [
        "Author(s):\n",
        "\n",
        "- [Joseph Santarcangelo](https://www.linkedin.com/in/joseph-s-50398b136/?utm_medium=Exinfluencer&utm_source=Exinfluencer&utm_content=000026UJ&utm_term=10006555&utm_id=NA-SkillsNetwork-Channel-SkillsNetworkCoursesIBMDeveloperSkillsNetworkPY0101ENSkillsNetwork19487395-2022-01-01)\n",
        "\n",
        "Other Contributor(s):\n",
        "\n",
        "- N/A"
      ]
    }
  ],
  "metadata": {
    "kernelspec": {
      "display_name": "base",
      "language": "python",
      "name": "python3"
    },
    "language_info": {
      "codemirror_mode": {
        "name": "ipython",
        "version": 3
      },
      "file_extension": ".py",
      "mimetype": "text/x-python",
      "name": "python",
      "nbconvert_exporter": "python",
      "pygments_lexer": "ipython3",
      "version": "3.8.13"
    },
    "vscode": {
      "interpreter": {
        "hash": "2011e8f1b66e4ca782a16183c079a9a8ceaa771eb94b3143f514bb5560527e59"
      }
    }
  },
  "nbformat": 4,
  "nbformat_minor": 4
}
