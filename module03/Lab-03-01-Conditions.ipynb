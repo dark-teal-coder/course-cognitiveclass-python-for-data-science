{
  "cells": [
    {
      "attachments": {},
      "cell_type": "markdown",
      "metadata": {},
      "source": [
        "# Conditions\n",
        "\n",
        "Estimated time needed: **20** minutes\n",
        "\n",
        "## Objectives\n",
        "\n",
        "- Work with condition statements in Python, including operators, and branching.\n",
        "\n",
        "## Table of Contents\n",
        "\n",
        "- [Conditional Statements](#conditional-statements)\n",
        "- [Exercises](#exercises)"
      ]
    },
    {
      "attachments": {},
      "cell_type": "markdown",
      "metadata": {},
      "source": [
        "---"
      ]
    },
    {
      "attachments": {},
      "cell_type": "markdown",
      "metadata": {},
      "source": [
        "## Conditional Statements"
      ]
    },
    {
      "attachments": {},
      "cell_type": "markdown",
      "metadata": {},
      "source": [
        "### Comparison Operators"
      ]
    },
    {
      "attachments": {},
      "cell_type": "markdown",
      "metadata": {},
      "source": [
        "Comparison operations compare some values/operands based on a condition and return a Boolean value. \n",
        "\n",
        "**Comparison Operators**\n",
        "\n",
        "| Operator | Name | \n",
        "| :------: | :--- |\n",
        "| `==`     | Equal |\n",
        "| `!=`     | Not equal |\n",
        "| `>`      | Greater than |\n",
        "| `<`      | Less than |\n",
        "| `>=`     | Greater than or equal to |\n",
        "| `<=`     | Less than or equal to | "
      ]
    },
    {
      "attachments": {},
      "cell_type": "markdown",
      "metadata": {},
      "source": [
        "Let's assign `a` a value of 5. Use the equality operator denoted with two equal signs (`==`) to determine if two values are equal. The case below compares the variable with 6. The result is `False` as 5 does not equal to 6."
      ]
    },
    {
      "cell_type": "code",
      "execution_count": 1,
      "metadata": {},
      "outputs": [
        {
          "name": "stdout",
          "output_type": "stream",
          "text": [
            "False\n"
          ]
        }
      ],
      "source": [
        "## Assign value\n",
        "a = 5\n",
        "## Check if equal\n",
        "print(a == 6)"
      ]
    },
    {
      "attachments": {},
      "cell_type": "markdown",
      "metadata": {},
      "source": [
        "Consider the following comparison operation: `i > 5`. If the value of the left operand (in this case the variable `i`) is greater than the value of the right operand (in this case 5), then the statement is `True` or `False` otherwise. Because 6 is larger than 5, the output is `True`. If `i = 2`, then the statement is `False` as 2 is not greater than 5."
      ]
    },
    {
      "cell_type": "code",
      "execution_count": 2,
      "metadata": {
        "trusted": true
      },
      "outputs": [
        {
          "name": "stdout",
          "output_type": "stream",
          "text": [
            "True\n",
            "False\n"
          ]
        }
      ],
      "source": [
        "## Check if greater than\n",
        "i = 6\n",
        "print(i > 5)\n",
        "## Check if greater than\n",
        "i = 2\n",
        "print(i > 5)"
      ]
    },
    {
      "attachments": {},
      "cell_type": "markdown",
      "metadata": {},
      "source": [
        "This is illustrated below.\n",
        "\n",
        "<img src=\"https://cf-courses-data.s3.us.cloud-object-storage.appdomain.cloud/IBMDeveloperSkillsNetwork-PY0101EN-SkillsNetwork/labs/Module%203/images/CondsGreater.gif\" width=\"650\" />"
      ]
    },
    {
      "attachments": {},
      "cell_type": "markdown",
      "metadata": {},
      "source": [
        "The inequality test uses an exclamation mark preceding the equal sign. If two operands are not equal, then the condition becomes `True`. For example, the following condition will produce `True` as long as the value of `i` is not equal to 6. When `i` equals 6, the inequality expression produces `False`."
      ]
    },
    {
      "cell_type": "code",
      "execution_count": 3,
      "metadata": {
        "trusted": true
      },
      "outputs": [
        {
          "name": "stdout",
          "output_type": "stream",
          "text": [
            "True\n",
            "False\n"
          ]
        }
      ],
      "source": [
        "## Check if unequal\n",
        "i = 2\n",
        "print(i != 6)\n",
        "## Check if unequal\n",
        "i = 6\n",
        "print(i != 6)"
      ]
    },
    {
      "attachments": {},
      "cell_type": "markdown",
      "metadata": {},
      "source": [
        "This is illustrated below.\n",
        "\n",
        "<img src=\"https://cf-courses-data.s3.us.cloud-object-storage.appdomain.cloud/IBMDeveloperSkillsNetwork-PY0101EN-SkillsNetwork/labs/Module%203/images/CondsIneq.gif\" width=\"550\" />"
      ]
    },
    {
      "attachments": {},
      "cell_type": "markdown",
      "metadata": {},
      "source": [
        "We can apply the same methods on strings. For example, we can use an equality operator on two different strings. As the strings are not equal, we get a `False`."
      ]
    },
    {
      "cell_type": "code",
      "execution_count": 4,
      "metadata": {
        "trusted": true
      },
      "outputs": [
        {
          "name": "stdout",
          "output_type": "stream",
          "text": [
            "False\n"
          ]
        }
      ],
      "source": [
        "## Compare strings with equal operator\n",
        "print(\"ACDC\" == \"Michael Jackson\")"
      ]
    },
    {
      "attachments": {},
      "cell_type": "markdown",
      "metadata": {},
      "source": [
        "If we use the inequality operator, the output will be `True` as the strings are not equal."
      ]
    },
    {
      "cell_type": "code",
      "execution_count": 5,
      "metadata": {
        "trusted": true
      },
      "outputs": [
        {
          "name": "stdout",
          "output_type": "stream",
          "text": [
            "True\n"
          ]
        }
      ],
      "source": [
        "## Compare strings with unequal operator\n",
        "print(\"ACDC\" != \"Michael Jackson\")"
      ]
    },
    {
      "attachments": {},
      "cell_type": "markdown",
      "metadata": {},
      "source": [
        "The inequality operation is also used to compare the letters/words/symbols according to the ASCII value of letters. The decimal value shown in the following table represents the order of the character.\n",
        "\n",
        "<style type=\"text/css\">\n",
        ".tg {border-collapse:collapse;border-spacing:0;}\n",
        ".tg td{border-color:black;border-style:solid;border-width:1px;font-family:Arial, sans-serif;font-size:14px; overflow:hidden;padding:10px 5px;word-break:normal;}\n",
        ".tg th{border-color:black;border-style:solid;border-width:1px;font-family:Arial, sans-serif;font-size:14px; font-weight:normal;overflow:hidden;padding:10px 5px;word-break:normal;}\n",
        ".tg .tg-baqh{text-align:center;vertical-align:top}\n",
        ".tg .tg-7geq{background-color:#ffffc7;text-align:center;vertical-align:top}\n",
        ".tg .tg-1cln{background-color:#ffcc67;font-size:100%;font-weight:bold;text-align:center;vertical-align:top}\n",
        ".tg .tg-xozw{background-color:#ffcc67;font-weight:bold;text-align:center;vertical-align:top}\n",
        "</style>\n",
        "\n",
        "<table class=\"tg\">\n",
        "<thead>\n",
        "\t<tr>\n",
        "\t\t<th class=\"tg-1cln\">Char.</th>\n",
        "\t\t<th class=\"tg-xozw\">ASCII</th>\n",
        "\t\t<th class=\"tg-xozw\">Char.</th>\n",
        "\t\t<th class=\"tg-xozw\">ASCII</th>\n",
        "\t\t<th class=\"tg-xozw\">Char.</th>\n",
        "\t\t<th class=\"tg-xozw\">ASCII</th>\n",
        "\t\t<th class=\"tg-xozw\">Char.</th>\n",
        "\t\t<th class=\"tg-xozw\">ASCII</th>\n",
        "\t</tr>\n",
        "</thead>\n",
        "<tbody>\n",
        "\t<tr>\n",
        "\t\t<td class=\"tg-7geq\">A</td>\n",
        "\t\t<td class=\"tg-baqh\">65</td>\n",
        "\t\t<td class=\"tg-7geq\">N</td>\n",
        "\t\t<td class=\"tg-baqh\">78</td>\n",
        "\t\t<td class=\"tg-7geq\">a</td>\n",
        "\t\t<td class=\"tg-baqh\">97</td>\n",
        "\t\t<td class=\"tg-7geq\">n</td>\n",
        "\t\t<td class=\"tg-baqh\">110</td>\n",
        "\t</tr>\n",
        "\t<tr>\n",
        "\t\t<td class=\"tg-7geq\">B</td>\n",
        "\t\t<td class=\"tg-baqh\">66</td>\n",
        "\t\t<td class=\"tg-7geq\">O</td>\n",
        "\t\t<td class=\"tg-baqh\">79</td>\n",
        "\t\t<td class=\"tg-7geq\">b</td>\n",
        "\t\t<td class=\"tg-baqh\">98</td>\n",
        "\t\t<td class=\"tg-7geq\">o</td>\n",
        "\t\t<td class=\"tg-baqh\">111</td>\n",
        "\t</tr>\n",
        "\t<tr>\n",
        "\t\t<td class=\"tg-7geq\">C</td>\n",
        "\t\t<td class=\"tg-baqh\">67</td>\n",
        "\t\t<td class=\"tg-7geq\">P</td>\n",
        "\t\t<td class=\"tg-baqh\">80</td>\n",
        "\t\t<td class=\"tg-7geq\">c</td>\n",
        "\t\t<td class=\"tg-baqh\">99</td>\n",
        "\t\t<td class=\"tg-7geq\">p</td>\n",
        "\t\t<td class=\"tg-baqh\">112</td>\n",
        "\t</tr>\n",
        "\t<tr>\n",
        "\t\t<td class=\"tg-7geq\">D</td>\n",
        "\t\t<td class=\"tg-baqh\">68</td>\n",
        "\t\t<td class=\"tg-7geq\">Q</td>\n",
        "\t\t<td class=\"tg-baqh\">81</td>\n",
        "\t\t<td class=\"tg-7geq\">d</td>\n",
        "\t\t<td class=\"tg-baqh\">100</td>\n",
        "\t\t<td class=\"tg-7geq\">q</td>\n",
        "\t\t<td class=\"tg-baqh\">113</td>\n",
        "\t</tr>\n",
        "\t<tr>\n",
        "\t\t<td class=\"tg-7geq\">E</td>\n",
        "\t\t<td class=\"tg-baqh\">69</td>\n",
        "\t\t<td class=\"tg-7geq\">R</td>\n",
        "\t\t<td class=\"tg-baqh\">82</td>\n",
        "\t\t<td class=\"tg-7geq\">e</td>\n",
        "\t\t<td class=\"tg-baqh\">101</td>\n",
        "\t\t<td class=\"tg-7geq\">r</td>\n",
        "\t\t<td class=\"tg-baqh\">114</td>\n",
        "\t</tr>\n",
        "\t<tr>\n",
        "\t\t<td class=\"tg-7geq\">F</td>\n",
        "\t\t<td class=\"tg-baqh\">70</td>\n",
        "\t\t<td class=\"tg-7geq\">S</td>\n",
        "\t\t<td class=\"tg-baqh\">83</td>\n",
        "\t\t<td class=\"tg-7geq\">f</td>\n",
        "\t\t<td class=\"tg-baqh\">102</td>\n",
        "\t\t<td class=\"tg-7geq\">s</td>\n",
        "\t\t<td class=\"tg-baqh\">115</td>\n",
        "\t</tr>\n",
        "\t<tr>\n",
        "\t\t<td class=\"tg-7geq\">G</td>\n",
        "\t\t<td class=\"tg-baqh\">71</td>\n",
        "\t\t<td class=\"tg-7geq\">T</td>\n",
        "\t\t<td class=\"tg-baqh\">84</td>\n",
        "\t\t<td class=\"tg-7geq\">g</td>\n",
        "\t\t<td class=\"tg-baqh\">103</td>\n",
        "\t\t<td class=\"tg-7geq\">t</td>\n",
        "\t\t<td class=\"tg-baqh\">116</td>\n",
        "\t</tr>\n",
        "\t<tr>\n",
        "\t\t<td class=\"tg-7geq\">H</td>\n",
        "\t\t<td class=\"tg-baqh\">72</td>\n",
        "\t\t<td class=\"tg-7geq\">U</td>\n",
        "\t\t<td class=\"tg-baqh\">85</td>\n",
        "\t\t<td class=\"tg-7geq\">h</td>\n",
        "\t\t<td class=\"tg-baqh\">104</td>\n",
        "\t\t<td class=\"tg-7geq\">u</td>\n",
        "\t\t<td class=\"tg-baqh\">117</td>\n",
        "\t</tr>\n",
        "\t<tr>\n",
        "\t\t<td class=\"tg-7geq\">I</td>\n",
        "\t\t<td class=\"tg-baqh\">73</td>\n",
        "\t\t<td class=\"tg-7geq\">V</td>\n",
        "\t\t<td class=\"tg-baqh\">86</td>\n",
        "\t\t<td class=\"tg-7geq\">i</td>\n",
        "\t\t<td class=\"tg-baqh\">105</td>\n",
        "\t\t<td class=\"tg-7geq\">v</td>\n",
        "\t\t<td class=\"tg-baqh\">118</td>\n",
        "\t</tr>\n",
        "\t<tr>\n",
        "\t\t<td class=\"tg-7geq\">J</td>\n",
        "\t\t<td class=\"tg-baqh\">74</td>\n",
        "\t\t<td class=\"tg-7geq\">W</td>\n",
        "\t\t<td class=\"tg-baqh\">87</td>\n",
        "\t\t<td class=\"tg-7geq\">j</td>\n",
        "\t\t<td class=\"tg-baqh\">106</td>\n",
        "\t\t<td class=\"tg-7geq\">w</td>\n",
        "\t\t<td class=\"tg-baqh\">119</td>\n",
        "\t</tr>\n",
        "\t<tr>\n",
        "\t\t<td class=\"tg-7geq\">K</td>\n",
        "\t\t<td class=\"tg-baqh\">75</td>\n",
        "\t\t<td class=\"tg-7geq\">X</td>\n",
        "\t\t<td class=\"tg-baqh\">88</td>\n",
        "\t\t<td class=\"tg-7geq\">k</td>\n",
        "\t\t<td class=\"tg-baqh\">107</td>\n",
        "\t\t<td class=\"tg-7geq\">x</td>\n",
        "\t\t<td class=\"tg-baqh\">120</td>\n",
        "\t</tr>\n",
        "\t<tr>\n",
        "\t\t<td class=\"tg-7geq\">L</td>\n",
        "\t\t<td class=\"tg-baqh\">76</td>\n",
        "\t\t<td class=\"tg-7geq\">Y</td>\n",
        "\t\t<td class=\"tg-baqh\">89</td>\n",
        "\t\t<td class=\"tg-7geq\">l</td>\n",
        "\t\t<td class=\"tg-baqh\">108</td>\n",
        "\t\t<td class=\"tg-7geq\">y</td>\n",
        "\t\t<td class=\"tg-baqh\">121</td>\n",
        "\t</tr>\n",
        "\t<tr>\n",
        "\t\t<td class=\"tg-7geq\">M</td>\n",
        "\t\t<td class=\"tg-baqh\">77</td>\n",
        "\t\t<td class=\"tg-7geq\">Z</td>\n",
        "\t\t<td class=\"tg-baqh\">90</td>\n",
        "\t\t<td class=\"tg-7geq\">m</td>\n",
        "\t\t<td class=\"tg-baqh\">109</td>\n",
        "\t\t<td class=\"tg-7geq\">z</td>\n",
        "\t\t<td class=\"tg-baqh\">122</td>\n",
        "\t</tr>\n",
        "</tbody>\n",
        "</table>"
      ]
    },
    {
      "attachments": {},
      "cell_type": "markdown",
      "metadata": {},
      "source": [
        "For example, the ASCII code for `!` is 33 while the ASCII code for `+` is 43. Therefore `+` is larger than `!` as 43 is greater than 33. Similarly, from the table above, we see that the value for `A` is 65 and for `B` is 66. Therefore, `B > A` is true."
      ]
    },
    {
      "cell_type": "code",
      "execution_count": 6,
      "metadata": {
        "trusted": true
      },
      "outputs": [
        {
          "name": "stdout",
          "output_type": "stream",
          "text": [
            "True\n"
          ]
        }
      ],
      "source": [
        "## Compare characters\n",
        "print('B' > 'A')"
      ]
    },
    {
      "attachments": {},
      "cell_type": "markdown",
      "metadata": {},
      "source": [
        "When there are multiple letters, the 1st letter takes precedence in ordering."
      ]
    },
    {
      "cell_type": "code",
      "execution_count": 7,
      "metadata": {
        "trusted": true
      },
      "outputs": [
        {
          "name": "stdout",
          "output_type": "stream",
          "text": [
            "True\n"
          ]
        }
      ],
      "source": [
        "## Compare multiple characters\n",
        "print('BA' > 'AB')"
      ]
    },
    {
      "attachments": {},
      "cell_type": "markdown",
      "metadata": {},
      "source": [
        "**Note**: Upper case letters have different ASCII codes than lower case letters, which means the comparison between the letters in Python is case-sensitive."
      ]
    },
    {
      "attachments": {},
      "cell_type": "markdown",
      "metadata": {},
      "source": [
        "### Branching"
      ]
    },
    {
      "attachments": {},
      "cell_type": "markdown",
      "metadata": {},
      "source": [
        "Branching allows us to run different statements for different inputs. It is helpful to think of an \"if statement\" as a locked room. If the statement is true, we can enter the room and the program will run some predefined tasks, but if the statement is false, the program will ignore the tasks.\n",
        "\n",
        "For example, consider the blue rectangle representing an ACDC concert. If the individual is older than 18, they can enter the ACDC concert. If they are 18 or younger, they cannot enter the concert.\n",
        "\n",
        "We can use the conditional statements learned before as the conditions that need to be checked in the if-statement. The syntax is as simple as `if condition:`, which contains a word \"if\", condition and a colon at the end. Start your tasks which need to be executed under this condition in a new line with an indent. The lines of code after the colon and with an indent will only be executed when the if statement is true. The tasks will end when the line of code does not contain the indent.\n",
        "\n",
        "In the case below, the code `print(\"you can enter\")` is executed only if `age` is greater than 18 or is true because this line of code has the indent. However, the execution of `print(\"move on\")` will not be influenced by the if statement. Try uncommenting the `age` variable."
      ]
    },
    {
      "cell_type": "code",
      "execution_count": 8,
      "metadata": {
        "trusted": true
      },
      "outputs": [
        {
          "name": "stdout",
          "output_type": "stream",
          "text": [
            "You can enter\n",
            "Move on\n"
          ]
        }
      ],
      "source": [
        "age = 19\n",
        "# age = 18\n",
        "\n",
        "## Condition\n",
        "if age > 18:\n",
        "\t## Run if this condition is true\n",
        "\tprint(\"You can enter\")\n",
        "\n",
        "## Run regardless if the condition is true or false\n",
        "print(\"Move on\")"
      ]
    },
    {
      "attachments": {},
      "cell_type": "markdown",
      "metadata": {},
      "source": [
        "It is helpful to use the following diagram to illustrate the process. On the left side, we see what happens when the condition is `True`. The person enters the ACDC concert representing the code in the indent being executed; they then move on. On the right side, we see what happens when the condition is `False`; the person is not granted access, and the person moves on. In this case, the segment of code in the indent does not run, but the rest of the statements are run.\n",
        "\n",
        "<img src=\"https://cf-courses-data.s3.us.cloud-object-storage.appdomain.cloud/IBMDeveloperSkillsNetwork-PY0101EN-SkillsNetwork/labs/Module%203/images/CondsIf.gif\" width=\"650\" />"
      ]
    },
    {
      "attachments": {},
      "cell_type": "markdown",
      "metadata": {},
      "source": [
        "The `else` statement runs a block of code if none of the conditions before it are `True`. Let's use the ACDC concert analogy again. If the user is 17, they cannot go to the ACDC concert, but they can go to the Meatloaf concert.\n",
        "\n",
        "The syntax of the `else` statement is similar as the syntax of the `if` statement: `else:`. Notice that there is no condition for `else`.\n",
        "\n",
        "Try changing the values of `age` in the following example to see what happens."
      ]
    },
    {
      "cell_type": "code",
      "execution_count": 9,
      "metadata": {},
      "outputs": [
        {
          "name": "stdout",
          "output_type": "stream",
          "text": [
            "You can enter\n",
            "Move on\n"
          ]
        }
      ],
      "source": [
        "age = 19\n",
        "# age = 18\n",
        "\n",
        "## Condition\n",
        "if age > 18:\n",
        "\t## Run if this condition is true\n",
        "\tprint(\"You can enter\")\n",
        "else:\n",
        "\t## Run if if-statement is false\n",
        "\tprint(\"Go see Meat Loaf\")\n",
        "\n",
        "## Run regardless if the condition is true or false\n",
        "print(\"Move on\")"
      ]
    },
    {
      "attachments": {},
      "cell_type": "markdown",
      "metadata": {},
      "source": [
        "The process is demonstrated below, where each of the possibilities is illustrated on each side of the image. On the left is the case where the age is 17. We set the variable age to 17 and this corresponds to the individual attending the Meatloaf concert. The right case shows what happens when the individual is over 18, in this case 19, and the individual is granted access to the concert.\n",
        "\n",
        "<img src=\"https://cf-courses-data.s3.us.cloud-object-storage.appdomain.cloud/IBMDeveloperSkillsNetwork-PY0101EN-SkillsNetwork/labs/Module%203/images/CondsElse.gif\" width=\"650\" />"
      ]
    },
    {
      "attachments": {},
      "cell_type": "markdown",
      "metadata": {},
      "source": [
        "The `elif` statement, short for \"else if\", allows us to check additional conditions if the condition statements before it are false. If the condition for the `elif` statement is `True`, the alternate expressions will be run. \n",
        "\n",
        "Consider the concert example, where if the individual is 18, they will go to the Pink Floyd concert instead of attending the ACDC or Meat-loaf concert. A person that is 18 years of age enters the area and as they are not older than 18, they can not see ACDC. But since they are 18 years of age, they attend Pink Floyd. After seeing Pink Floyd, they move on. The syntax of the `elif` statement is similar to the `if` statement."
      ]
    },
    {
      "cell_type": "code",
      "execution_count": 10,
      "metadata": {},
      "outputs": [
        {
          "name": "stdout",
          "output_type": "stream",
          "text": [
            "You can enter\n",
            "Move on\n"
          ]
        }
      ],
      "source": [
        "age = 19\n",
        "# age = 18\n",
        "\n",
        "## Condition\n",
        "if age > 18:\n",
        "\t## Run if this condition is true\n",
        "\tprint(\"You can enter\")\n",
        "elif age == 18:\n",
        "\t## Run if this condition is true\n",
        "\tprint(\"Go see Pink Floyd\")\n",
        "else:\n",
        "\t## Run the above statements are false\n",
        "\tprint(\"Go see Meat Loaf\")\n",
        "\n",
        "## Run regardless if the condition is true or false\n",
        "print(\"Move on\")"
      ]
    },
    {
      "attachments": {},
      "cell_type": "markdown",
      "metadata": {},
      "source": [
        "The three combinations are shown in the figure below. The left-most region shows what happens when the individual is less than 18 years of age. The central component shows when the individual is exactly 18. The rightmost shows when the individual is over 18.\n",
        "\n",
        "<img src =\"https://cf-courses-data.s3.us.cloud-object-storage.appdomain.cloud/IBMDeveloperSkillsNetwork-PY0101EN-SkillsNetwork/labs/Module%203/images/CondsElif.gif\" width=\"650\" />"
      ]
    },
    {
      "attachments": {},
      "cell_type": "markdown",
      "metadata": {},
      "source": [
        "Look at the following code. Try changing `album_year` value to other values to see how the result changes."
      ]
    },
    {
      "cell_type": "code",
      "execution_count": 11,
      "metadata": {
        "trusted": true
      },
      "outputs": [
        {
          "name": "stdout",
          "output_type": "stream",
          "text": [
            "Album year is after 1980\n",
            "Do something\n"
          ]
        }
      ],
      "source": [
        "album_year = 1983\n",
        "# album_year = 1970\n",
        "\n",
        "if album_year > 1980:\n",
        "\tprint(\"Album year is after 1980\")\n",
        "\n",
        "print(\"Do something\")"
      ]
    },
    {
      "attachments": {},
      "cell_type": "markdown",
      "metadata": {},
      "source": [
        "As before, we can add an `else` block. The code in the `else` block will only be executed if the condition in the `if` statement is false.\n",
        "\n",
        "**Syntax**\n",
        "\n",
        "```\n",
        "if (condition):\n",
        "\tdo something\n",
        "else:\n",
        "\tdo something else\n",
        "```"
      ]
    },
    {
      "attachments": {},
      "cell_type": "markdown",
      "metadata": {},
      "source": [
        "This is demonstrated in the figure below.\n",
        "\n",
        "<img src=\"https://cf-courses-data.s3.us.cloud-object-storage.appdomain.cloud/IBMDeveloperSkillsNetwork-PY0101EN-SkillsNetwork/labs/Module%203/images/CondsLogicMap.png\" width=\"650\" />"
      ]
    },
    {
      "cell_type": "code",
      "execution_count": 12,
      "metadata": {},
      "outputs": [
        {
          "name": "stdout",
          "output_type": "stream",
          "text": [
            "Album year is after 1980\n",
            "Do something\n"
          ]
        }
      ],
      "source": [
        "album_year = 1983\n",
        "# album_year = 1970\n",
        "\n",
        "if album_year > 1980:\n",
        "\tprint(\"Album year is after 1980\")\n",
        "else:\n",
        "\tprint(\"Album came out before 1980\")\n",
        "\n",
        "print(\"Do something\")"
      ]
    },
    {
      "attachments": {},
      "cell_type": "markdown",
      "metadata": {},
      "source": [
        "### Logical Operators"
      ]
    },
    {
      "attachments": {},
      "cell_type": "markdown",
      "metadata": {},
      "source": [
        "Sometimes we want to check more than one condition at once. Logical operators allow us to combine conditions.\n",
        "\n",
        "**Logical Operators**\n",
        "\n",
        "| Operator | Description |\n",
        "| :------: | :---------- |\n",
        "| `and`    | Returns True if both statements are true |\t\n",
        "| `or`     | Returns True if one of the statements is true |\t\n",
        "| `not`\t   | Reverse the result, returns False if the result is true |"
      ]
    },
    {
      "attachments": {},
      "cell_type": "markdown",
      "metadata": {},
      "source": [
        "These operators are summarized for two variables using the following truth tables.\n",
        "\n",
        "<img src=\"https://cf-courses-data.s3.us.cloud-object-storage.appdomain.cloud/IBMDeveloperSkillsNetwork-PY0101EN-SkillsNetwork/labs/Module%203/images/CondsTable.png\" width=\"650\" />\n",
        "\n",
        "The `and` statement is only true when both conditions are true; the `or` statement is true if one condition or both are ture; the `not` statement outputs the opposite truth value."
      ]
    },
    {
      "attachments": {},
      "cell_type": "markdown",
      "metadata": {},
      "source": [
        "Let's see how to determine if an album was released after 1979 (1979 is not included) and before 1990 (1990 is not included). The time periods between 1980 and 1989 satisfy this condition. This is demonstrated in the figure below. The green on lines A and B represents periods where the statement is true. The green on line C represents where both conditions are ture, which corresponds to where the green regions overlap.\n",
        "\n",
        "<img src=\"https://cf-courses-data.s3.us.cloud-object-storage.appdomain.cloud/IBMDeveloperSkillsNetwork-PY0101EN-SkillsNetwork/labs/Module%203/images/CondsEgOne.png\" width=\"650\" />"
      ]
    },
    {
      "cell_type": "code",
      "execution_count": 13,
      "metadata": {},
      "outputs": [
        {
          "name": "stdout",
          "output_type": "stream",
          "text": [
            "Album year was in between 1980 and 1989\n",
            "\n",
            "Do something\n"
          ]
        }
      ],
      "source": [
        "album_year = 1980\n",
        "\n",
        "if (album_year > 1979) and (album_year < 1990):\n",
        "\tprint (\"Album year was in between 1980 and 1989\")\n",
        "\n",
        "print()\n",
        "print(\"Do something\")"
      ]
    },
    {
      "attachments": {},
      "cell_type": "markdown",
      "metadata": {},
      "source": [
        "To determine if an album was released before 1980 (1979 and earlier) or after 1989 (1990 and onward), an `or` statement can be used. Periods before 1980 (1979 and earlier) or after 1989 (1990 and onward) satisfy this condition. This is demonstrated in the following figure. The color green in A and B represents periods where the statement is true. The color green in C represents where at least one of the conditions\n",
        "is true.\n",
        "\n",
        "<img src=\"https://cf-courses-data.s3.us.cloud-object-storage.appdomain.cloud/IBMDeveloperSkillsNetwork-PY0101EN-SkillsNetwork/labs/Module%203/images/CondsEgTwo.png\" width=\"650\" />"
      ]
    },
    {
      "cell_type": "code",
      "execution_count": 14,
      "metadata": {
        "trusted": true
      },
      "outputs": [
        {
          "name": "stdout",
          "output_type": "stream",
          "text": [
            "Album was not made in the 1980s\n"
          ]
        }
      ],
      "source": [
        "album_year = 1990\n",
        "\n",
        "if (album_year < 1980) or (album_year > 1989):\n",
        "\tprint (\"Album was not made in the 1980s\")\n",
        "else:\n",
        "\tprint(\"Album was made in the 1980s\")"
      ]
    },
    {
      "attachments": {},
      "cell_type": "markdown",
      "metadata": {},
      "source": [
        "The `not` statement checks if the statement is false."
      ]
    },
    {
      "cell_type": "code",
      "execution_count": 15,
      "metadata": {
        "trusted": true
      },
      "outputs": [
        {
          "name": "stdout",
          "output_type": "stream",
          "text": [
            "Album year is not 1984\n"
          ]
        }
      ],
      "source": [
        "album_year = 1983\n",
        "\n",
        "## Not statement\n",
        "if not (album_year == 1984):\n",
        "\tprint(\"Album year is not 1984\")"
      ]
    },
    {
      "attachments": {},
      "cell_type": "markdown",
      "metadata": {},
      "source": [
        "---"
      ]
    },
    {
      "attachments": {},
      "cell_type": "markdown",
      "metadata": {},
      "source": [
        "## Exercises"
      ]
    },
    {
      "attachments": {},
      "cell_type": "markdown",
      "metadata": {},
      "source": [
        "1. Write an if statement to determine if an album had a rating greater than 8. Test it using the rating for the album \"Back in Black\" that had a rating of 8.5. If the statement is true, print \"This album is amazing!\"."
      ]
    },
    {
      "cell_type": "code",
      "execution_count": 16,
      "metadata": {
        "trusted": true
      },
      "outputs": [
        {
          "name": "stdout",
          "output_type": "stream",
          "text": [
            "This album is amazing!\n"
          ]
        }
      ],
      "source": [
        "album_rating = 8.5\n",
        "\n",
        "if album_rating > 8:\n",
        "\tprint(\"This album is amazing!\")"
      ]
    },
    {
      "attachments": {},
      "cell_type": "markdown",
      "metadata": {},
      "source": [
        "<details><summary>Click here for the solution</summary>\n",
        "\n",
        "```python\n",
        "rating = 8.5\n",
        "if rating > 8:\n",
        "    print(\"This album is Amazing!\")\n",
        "```\n",
        "\n",
        "</details>"
      ]
    },
    {
      "attachments": {},
      "cell_type": "markdown",
      "metadata": {},
      "source": [
        "2. Write an if-else statement that performs this: If the rating is larger than 8, print \"this album is amazing!\". If the rating is less than or equal to 8, print \"This album is OK\"."
      ]
    },
    {
      "cell_type": "code",
      "execution_count": 17,
      "metadata": {
        "trusted": true
      },
      "outputs": [
        {
          "name": "stdout",
          "output_type": "stream",
          "text": [
            "This album is amazing!\n"
          ]
        }
      ],
      "source": [
        "album_rating = 8.5\n",
        "\n",
        "if album_rating > 8:\n",
        "\tprint(\"This album is amazing!\")\n",
        "else:\n",
        "\tprint(\"This album is OK.\")"
      ]
    },
    {
      "attachments": {},
      "cell_type": "markdown",
      "metadata": {},
      "source": [
        "<details><summary>Click here for the solution</summary>\n",
        "\n",
        "```python\n",
        "rating = 8.5\n",
        "if rating > 8:\n",
        "    print(\"this album is amazing\")\n",
        "else:\n",
        "    print(\"this album is ok\")    \n",
        "```\n",
        "\n",
        "</details>"
      ]
    },
    {
      "attachments": {},
      "cell_type": "markdown",
      "metadata": {},
      "source": [
        "3. Write an if statement to determine if an album came out before 1980 or in the years: 1991 or 1993. If the condition is true, print out the year the album came out."
      ]
    },
    {
      "cell_type": "code",
      "execution_count": 18,
      "metadata": {
        "trusted": true
      },
      "outputs": [
        {
          "name": "stdout",
          "output_type": "stream",
          "text": [
            "This album came out in 1979\n"
          ]
        }
      ],
      "source": [
        "album_year = 1979\n",
        "\n",
        "if album_year < 1980 or album_year == 1991 or album_year == 1993:\n",
        "\tprint(f\"This album came out in {album_year}\")"
      ]
    },
    {
      "attachments": {},
      "cell_type": "markdown",
      "metadata": {},
      "source": [
        "<details><summary>Click here for the solution</summary>\n",
        "\n",
        "```python\n",
        "album_year = 1979\n",
        "\n",
        "if album_year < 1980 or album_year == 1991 or album_year == 1993:\n",
        "    print(\"This album came out in year\", album_year)    \n",
        "```\n",
        "\n",
        "</details>"
      ]
    },
    {
      "attachments": {},
      "cell_type": "markdown",
      "metadata": {},
      "source": [
        "---"
      ]
    },
    {
      "attachments": {},
      "cell_type": "markdown",
      "metadata": {},
      "source": [
        "Author(s):\n",
        "\n",
        "- [Joseph Santarcangelo](https://www.linkedin.com/in/joseph-s-50398b136/?utm_medium=Exinfluencer&utm_source=Exinfluencer&utm_content=000026UJ&utm_term=10006555&utm_id=NA-SkillsNetwork-Channel-SkillsNetworkCoursesIBMDeveloperSkillsNetworkPY0101ENSkillsNetwork19487395-2022-01-01)\n",
        "\n",
        "Other Contributor(s):\n",
        "\n",
        "- [Mavis Zhou](https://www.linkedin.com/in/jiahui-mavis-zhou-a4537814a?utm_medium=Exinfluencer&utm_source=Exinfluencer&utm_content=000026UJ&utm_term=10006555&utm_id=NA-SkillsNetwork-Channel-SkillsNetworkCoursesIBMDeveloperSkillsNetworkPY0101ENSkillsNetwork19487395-2022-01-01)"
      ]
    }
  ],
  "metadata": {
    "kernelspec": {
      "display_name": "base",
      "language": "python",
      "name": "python3"
    },
    "language_info": {
      "codemirror_mode": {
        "name": "ipython",
        "version": 3
      },
      "file_extension": ".py",
      "mimetype": "text/x-python",
      "name": "python",
      "nbconvert_exporter": "python",
      "pygments_lexer": "ipython3",
      "version": "3.8.13"
    },
    "metadata": {
      "interpreter": {
        "hash": "3abed311d39052675f1169a15d6f64f9745014cae486d494ad699e58cf37536b"
      }
    },
    "vscode": {
      "interpreter": {
        "hash": "2011e8f1b66e4ca782a16183c079a9a8ceaa771eb94b3143f514bb5560527e59"
      }
    }
  },
  "nbformat": 4,
  "nbformat_minor": 4
}
