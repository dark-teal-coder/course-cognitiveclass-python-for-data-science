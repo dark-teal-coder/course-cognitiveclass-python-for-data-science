{
  "cells": [
    {
      "attachments": {},
      "cell_type": "markdown",
      "metadata": {},
      "source": [
        "# Functions\n",
        "\n",
        "Estimated time needed: **40** minutes\n",
        "\n",
        "## Objectives\n",
        "\n",
        "After completing this lab you will be able to:\n",
        "\n",
        "- Understand functions and variables\n",
        "- Work with functions and variables\n",
        "\n",
        "## Table of Contents\n",
        "\n",
        "- [Functions](#functions)\n",
        "- [Pre-defined Functions](#pre-defined-functions)\n",
        "- [Global Variables](#global-variables)\n",
        "- [Collections and Functions](#collections-and-functions)\n",
        "- [Exercises](#exercises)"
      ]
    },
    {
      "attachments": {},
      "cell_type": "markdown",
      "metadata": {},
      "source": [
        "---"
      ]
    },
    {
      "attachments": {},
      "cell_type": "markdown",
      "metadata": {},
      "source": [
        "## Functions"
      ]
    },
    {
      "attachments": {},
      "cell_type": "markdown",
      "metadata": {},
      "source": [
        "A function is a reusable block of code which performs specified operations. They let us break down tasks and allow us to reuse code.\n",
        "\n",
        "There are 2 types of functions: \n",
        "\n",
        "- Pre-defined functions\n",
        "- User-defined functions"
      ]
    },
    {
      "attachments": {},
      "cell_type": "markdown",
      "metadata": {},
      "source": [
        "### What is a function?"
      ]
    },
    {
      "attachments": {},
      "cell_type": "markdown",
      "metadata": {},
      "source": [
        "We can define functions to provide the required functionality. Here are simple rules to define a function in Python:\n",
        "\n",
        "- Function blocks begin with the `def` keyword and are followed by the function name and parentheses (`()`).\n",
        "  - Input parameters or arguments should be placed within these parentheses.\n",
        "  - We can also define parameters inside parentheses.\n",
        "- The function body starts after a colon (`:`) and is indented.\n",
        "- We can also place documentation before the function body using 3 consecutive double quotes.\n",
        "- The `return` statement exits a function, optionally passing back a value.\n",
        "\n",
        "**Syntax**\n",
        "```python\n",
        "def function_name(): \n",
        "\t\"\"\"\n",
        "\tFunction documentation\n",
        "\t\"\"\"\n",
        "\tvar = value\n",
        "\treturn var\n",
        "```"
      ]
    },
    {
      "attachments": {},
      "cell_type": "markdown",
      "metadata": {},
      "source": [
        "Below is an example of a function that adds 1 to `a` and prints and returns the result as `b`."
      ]
    },
    {
      "cell_type": "code",
      "execution_count": 48,
      "metadata": {
        "collapsed": true,
        "jupyter": {
          "outputs_hidden": true
        }
      },
      "outputs": [],
      "source": [
        "## Example of function used to add 1\n",
        "def add(a):\n",
        "\t\"\"\"\n",
        "\tAdd 1 to the input\n",
        "\t\"\"\"\n",
        "\tb = a + 1\n",
        "\tprint(f\"{a} + 1 is {b}\")\n",
        "\treturn(b)"
      ]
    },
    {
      "attachments": {},
      "cell_type": "markdown",
      "metadata": {},
      "source": [
        "This is illustrated below.\n",
        "\n",
        "<img src=\"https://cf-courses-data.s3.us.cloud-object-storage.appdomain.cloud/IBMDeveloperSkillsNetwork-PY0101EN-SkillsNetwork/labs/Module%203/images/FuncsDefinition.png\" width=\"500\" /> "
      ]
    },
    {
      "attachments": {},
      "cell_type": "markdown",
      "metadata": {},
      "source": [
        "We can obtain see function documentation using `help()`."
      ]
    },
    {
      "cell_type": "code",
      "execution_count": 49,
      "metadata": {},
      "outputs": [
        {
          "name": "stdout",
          "output_type": "stream",
          "text": [
            "Help on function add in module __main__:\n",
            "\n",
            "add(a)\n",
            "    Add 1 to the input\n",
            "\n"
          ]
        }
      ],
      "source": [
        "## Get help on function\n",
        "help(add)"
      ]
    },
    {
      "attachments": {},
      "cell_type": "markdown",
      "metadata": {},
      "source": [
        "After defininig the function, we can call the function to use."
      ]
    },
    {
      "cell_type": "code",
      "execution_count": 50,
      "metadata": {},
      "outputs": [
        {
          "name": "stdout",
          "output_type": "stream",
          "text": [
            "1 + 1 is 2\n"
          ]
        },
        {
          "data": {
            "text/plain": [
              "2"
            ]
          },
          "execution_count": 50,
          "metadata": {},
          "output_type": "execute_result"
        }
      ],
      "source": [
        "## Call function\n",
        "add(1)"
      ]
    },
    {
      "attachments": {},
      "cell_type": "markdown",
      "metadata": {},
      "source": [
        "If we call the function with a different input, we get a new result."
      ]
    },
    {
      "cell_type": "code",
      "execution_count": 51,
      "metadata": {},
      "outputs": [
        {
          "name": "stdout",
          "output_type": "stream",
          "text": [
            "2 + 1 is 3\n"
          ]
        },
        {
          "data": {
            "text/plain": [
              "3"
            ]
          },
          "execution_count": 51,
          "metadata": {},
          "output_type": "execute_result"
        }
      ],
      "source": [
        "## Call function\n",
        "add(2)"
      ]
    },
    {
      "attachments": {},
      "cell_type": "markdown",
      "metadata": {},
      "source": [
        "We can create different functions. For example, we can create another function that multiplies 2 numbers."
      ]
    },
    {
      "cell_type": "code",
      "execution_count": 53,
      "metadata": {},
      "outputs": [
        {
          "name": "stdout",
          "output_type": "stream",
          "text": [
            "24\n"
          ]
        }
      ],
      "source": [
        "## Define function used to multiply 2 numbers\n",
        "def multiply(a, b):\n",
        "\tc = a * b\n",
        "\treturn (c)\n",
        "\tprint(\"This line is not printed.\")\n",
        "\n",
        "## Assign the returned value to a variable\n",
        "result = multiply(12, 2)\n",
        "print(result)\n",
        "\n",
        "## Call the function with different inputs\n",
        "multiply(2, 3)"
      ]
    },
    {
      "attachments": {},
      "cell_type": "markdown",
      "metadata": {},
      "source": [
        "Note how the function terminates at the `return` statement while passing back a value. This value can be assigned to a variable for further use."
      ]
    },
    {
      "attachments": {},
      "cell_type": "markdown",
      "metadata": {},
      "source": [
        "The same function can be used for different data types. For example, we can multiply 2 floats."
      ]
    },
    {
      "cell_type": "code",
      "execution_count": 54,
      "metadata": {},
      "outputs": [
        {
          "data": {
            "text/plain": [
              "31.400000000000002"
            ]
          },
          "execution_count": 54,
          "metadata": {},
          "output_type": "execute_result"
        }
      ],
      "source": [
        "## Use the function to multiply 2 floats\n",
        "multiply(10.0, 3.14)"
      ]
    },
    {
      "attachments": {},
      "cell_type": "markdown",
      "metadata": {},
      "source": [
        "We can even use the function to replicate a string by multiplying a string with an integer."
      ]
    },
    {
      "cell_type": "code",
      "execution_count": 55,
      "metadata": {},
      "outputs": [
        {
          "data": {
            "text/plain": [
              "'Michael JacksonMichael Jackson'"
            ]
          },
          "execution_count": 55,
          "metadata": {},
          "output_type": "execute_result"
        }
      ],
      "source": [
        "## Use the function to replicate a string\n",
        "multiply(2, \"Michael Jackson\")"
      ]
    },
    {
      "attachments": {},
      "cell_type": "markdown",
      "metadata": {},
      "source": [
        "### Variables"
      ]
    },
    {
      "attachments": {},
      "cell_type": "markdown",
      "metadata": {},
      "source": [
        "The input to a function is called \"formal parameter\". A variable that is declared inside a function is called \"local variable\". The parameter only exists within the function (i.e. where the function starts and stops). A variable that is declared outside a function definition is called \"global variable\". Its value is accessible and modifiable throughout the program. "
      ]
    },
    {
      "cell_type": "code",
      "execution_count": 9,
      "metadata": {},
      "outputs": [],
      "source": [
        "## Global variables: variables outside function definition\n",
        "\n",
        "def square(a):\n",
        "\t## Local variables: variables inside function definition\n",
        "\tb = 1\n",
        "\tc = a * a + b\n",
        "\tprint(f\"{a} is squared and added 1 is {c}\")\n",
        "\treturn(c)\n",
        "\n",
        "## Global variables: variables outside function definition"
      ]
    },
    {
      "attachments": {},
      "cell_type": "markdown",
      "metadata": {},
      "source": [
        "This is illustrated below.\n",
        "\n",
        "<img src=\"https://cf-courses-data.s3.us.cloud-object-storage.appdomain.cloud/IBMDeveloperSkillsNetwork-PY0101EN-SkillsNetwork/labs/Module%203/images/FuncsVar.png\" width=\"500\" />"
      ]
    },
    {
      "attachments": {},
      "cell_type": "markdown",
      "metadata": {},
      "source": [
        "We can input 3 into the function."
      ]
    },
    {
      "cell_type": "code",
      "execution_count": 10,
      "metadata": {},
      "outputs": [
        {
          "name": "stdout",
          "output_type": "stream",
          "text": [
            "3 if you square + 1 10\n"
          ]
        },
        {
          "data": {
            "text/plain": [
              "10"
            ]
          },
          "execution_count": 10,
          "metadata": {},
          "output_type": "execute_result"
        }
      ],
      "source": [
        "## Initialize global variable\n",
        "x = 3\n",
        "## Call function and assign the returned value\n",
        "y = square(x)\n",
        "## Print the returned value\n",
        "print(y)"
      ]
    },
    {
      "attachments": {},
      "cell_type": "markdown",
      "metadata": {},
      "source": [
        "We can input 2 into the function. We can directly enter the numeric input as parameter this time."
      ]
    },
    {
      "cell_type": "code",
      "execution_count": 11,
      "metadata": {},
      "outputs": [
        {
          "name": "stdout",
          "output_type": "stream",
          "text": [
            "2 if you square + 1 5\n"
          ]
        },
        {
          "data": {
            "text/plain": [
              "5"
            ]
          },
          "execution_count": 11,
          "metadata": {},
          "output_type": "execute_result"
        }
      ],
      "source": [
        "## Directly enter the numeric input as parameter\n",
        "square(2)"
      ]
    },
    {
      "attachments": {},
      "cell_type": "markdown",
      "metadata": {},
      "source": [
        "If there is no `return` statement, the function returns `None`. `None` is default in the `return` statement. The following 2 functions are equivalent."
      ]
    },
    {
      "cell_type": "code",
      "execution_count": 12,
      "metadata": {},
      "outputs": [],
      "source": [
        "## 2 equivalent functions  \n",
        "\n",
        "## Function without the \"return\" statement\n",
        "def function1():\n",
        "\tprint('Michael Jackson')\n",
        "\n",
        "## Function with the \"return\" statement\n",
        "def function2():\n",
        "\tprint('Michael Jackson')\n",
        "\treturn None"
      ]
    },
    {
      "cell_type": "code",
      "execution_count": 13,
      "metadata": {},
      "outputs": [
        {
          "name": "stdout",
          "output_type": "stream",
          "text": [
            "Michael Jackson\n",
            "None\n",
            "Michael Jackson\n",
            "None\n"
          ]
        }
      ],
      "source": [
        "## Same returned value\n",
        "print(function1())\n",
        "print(function2())"
      ]
    },
    {
      "attachments": {},
      "cell_type": "markdown",
      "metadata": {},
      "source": [
        "Create a function `con()` that concatenates 2 strings using the addition operation."
      ]
    },
    {
      "cell_type": "code",
      "execution_count": 14,
      "metadata": {
        "collapsed": true,
        "jupyter": {
          "outputs_hidden": true
        }
      },
      "outputs": [],
      "source": [
        "def con(str1, str2):\n",
        "\t\"\"\"This function concatenates 2 strings.\"\"\"\n",
        "\treturn (str1 + str2)"
      ]
    },
    {
      "cell_type": "code",
      "execution_count": 15,
      "metadata": {},
      "outputs": [
        {
          "data": {
            "text/plain": [
              "'Learn Python'"
            ]
          },
          "execution_count": 15,
          "metadata": {},
          "output_type": "execute_result"
        }
      ],
      "source": [
        "## Test con()\n",
        "con(\"Learn \", \"Python\")"
      ]
    },
    {
      "attachments": {},
      "cell_type": "markdown",
      "metadata": {},
      "source": [
        "Here is a short reference card for some of the commonly-used pre-defined functions: [Python 3.6 Quick Reference Sheet](https://cf-courses-data.s3.us.cloud-object-storage.appdomain.cloud/IBMDeveloperSkillsNetwork-PY0101EN-SkillsNetwork/labs/Module%203/Python_reference_sheet.pdf)"
      ]
    },
    {
      "attachments": {},
      "cell_type": "markdown",
      "metadata": {},
      "source": [
        "### Functions Make Things Simple"
      ]
    },
    {
      "attachments": {},
      "cell_type": "markdown",
      "metadata": {},
      "source": [
        "Consider the 2 lines of code in the 2 code blocks below. The procedure for each block is identical but the differences are the variable names and values."
      ]
    },
    {
      "attachments": {},
      "cell_type": "markdown",
      "metadata": {},
      "source": [
        "###### Block 1"
      ]
    },
    {
      "cell_type": "code",
      "execution_count": 16,
      "metadata": {},
      "outputs": [
        {
          "data": {
            "text/plain": [
              "5"
            ]
          },
          "execution_count": 16,
          "metadata": {},
          "output_type": "execute_result"
        }
      ],
      "source": [
        "a1 = 4\n",
        "b1 = 5\n",
        "c1 = a1 + b1 + 2 * a1 * b1 - 1\n",
        "\n",
        "if(c1 < 0):\n",
        "\tc1 = 0\n",
        "else:\n",
        "\tc1 = 5\n",
        "\n",
        "c1"
      ]
    },
    {
      "attachments": {},
      "cell_type": "markdown",
      "metadata": {},
      "source": [
        "###### Block 2"
      ]
    },
    {
      "cell_type": "code",
      "execution_count": 17,
      "metadata": {},
      "outputs": [
        {
          "data": {
            "text/plain": [
              "0"
            ]
          },
          "execution_count": 17,
          "metadata": {},
          "output_type": "execute_result"
        }
      ],
      "source": [
        "a2 = 0\n",
        "b2 = 0\n",
        "c2 = a2 + b2 + 2 * a2 * b2 - 1\n",
        "\n",
        "if(c2 < 0):\n",
        "\tc2 = 0\n",
        "else:\n",
        "\tc2 = 5\n",
        "\n",
        "c2"
      ]
    },
    {
      "attachments": {},
      "cell_type": "markdown",
      "metadata": {},
      "source": [
        "We can replace the lines of code with a function. A function combines many instructions into a single line of code. Once a function is defined, it can be used repeatedly. We can invoke the same function many times in our program. We can save the function and use it in another program or use someone else's function. The lines of code in block 1 and block 2 can be replaced by the following function."
      ]
    },
    {
      "cell_type": "code",
      "execution_count": 18,
      "metadata": {},
      "outputs": [],
      "source": [
        "## Make a function for the calculation above\n",
        "def equation(a, b):\n",
        "\tc = a + b + 2 * a * b - 1\n",
        "\tif(c < 0):\n",
        "\t\tc = 0\n",
        "\telse:\n",
        "\t\tc = 5\n",
        "\treturn(c)"
      ]
    },
    {
      "attachments": {},
      "cell_type": "markdown",
      "metadata": {},
      "source": [
        "This function takes 2 inputs, `a` and `b`, applies several operations and returns `c`. We simply define the function, replace the instructions with the function and input the new values of `a1` and `b1` and `a2` and `b2`. The entire process is demonstrated in the figure below."
      ]
    },
    {
      "attachments": {},
      "cell_type": "markdown",
      "metadata": {},
      "source": [
        "<img src=\"https://cf-courses-data.s3.us.cloud-object-storage.appdomain.cloud/IBMDeveloperSkillsNetwork-PY0101EN-SkillsNetwork/labs/Module%203/images/FuncsPros.gif\" width=\"850\" />"
      ]
    },
    {
      "attachments": {},
      "cell_type": "markdown",
      "metadata": {},
      "source": [
        "Code Blocks 1 and Block 2 can now be replaced with Block 3 and Block 4."
      ]
    },
    {
      "attachments": {},
      "cell_type": "markdown",
      "metadata": {},
      "source": [
        "###### Block 3"
      ]
    },
    {
      "cell_type": "code",
      "execution_count": 19,
      "metadata": {},
      "outputs": [
        {
          "data": {
            "text/plain": [
              "5"
            ]
          },
          "execution_count": 19,
          "metadata": {},
          "output_type": "execute_result"
        }
      ],
      "source": [
        "a1 = 4\n",
        "b1 = 5\n",
        "c1 = equation(a1, b1)\n",
        "print(c1)"
      ]
    },
    {
      "attachments": {},
      "cell_type": "markdown",
      "metadata": {},
      "source": [
        "###### Block 4"
      ]
    },
    {
      "cell_type": "code",
      "execution_count": 20,
      "metadata": {},
      "outputs": [
        {
          "data": {
            "text/plain": [
              "0"
            ]
          },
          "execution_count": 20,
          "metadata": {},
          "output_type": "execute_result"
        }
      ],
      "source": [
        "a2 = 0\n",
        "b2 = 0\n",
        "c2 = equation(a2, b2)\n",
        "print(c2)"
      ]
    },
    {
      "attachments": {},
      "cell_type": "markdown",
      "metadata": {},
      "source": [
        "## Pre-defined Functions"
      ]
    },
    {
      "attachments": {},
      "cell_type": "markdown",
      "metadata": {},
      "source": [
        "There are many pre-defined functions in Python. Let's start with the simple ones."
      ]
    },
    {
      "cell_type": "code",
      "execution_count": 21,
      "metadata": {},
      "outputs": [
        {
          "name": "stdout",
          "output_type": "stream",
          "text": [
            "[10.0, 8.5, 9.5, 7.0, 7.0, 9.5, 9.0, 9.5]\n"
          ]
        }
      ],
      "source": [
        "## Build-in function \n",
        "album_ratings = [10.0, 8.5, 9.5, 7.0, 7.0, 9.5, 9.0, 9.5]\n",
        "print(album_ratings)"
      ]
    },
    {
      "attachments": {},
      "cell_type": "markdown",
      "metadata": {},
      "source": [
        "The `sum()` function adds all the elements in a list or tuple."
      ]
    },
    {
      "cell_type": "code",
      "execution_count": 22,
      "metadata": {},
      "outputs": [
        {
          "data": {
            "text/plain": [
              "70.0"
            ]
          },
          "execution_count": 22,
          "metadata": {},
          "output_type": "execute_result"
        }
      ],
      "source": [
        "## Sum values in list\n",
        "sum(album_ratings)"
      ]
    },
    {
      "attachments": {},
      "cell_type": "markdown",
      "metadata": {},
      "source": [
        "The `len()` function returns the length of a list or tuple."
      ]
    },
    {
      "cell_type": "code",
      "execution_count": 23,
      "metadata": {},
      "outputs": [
        {
          "data": {
            "text/plain": [
              "8"
            ]
          },
          "execution_count": 23,
          "metadata": {},
          "output_type": "execute_result"
        }
      ],
      "source": [
        "## Get the length of the list\n",
        "len(album_ratings)"
      ]
    },
    {
      "attachments": {},
      "cell_type": "markdown",
      "metadata": {},
      "source": [
        "### Using Conditional Statements and Loops in Functions"
      ]
    },
    {
      "attachments": {},
      "cell_type": "markdown",
      "metadata": {},
      "source": [
        "The `return()` function is particularly useful in if-statements in function when we want the output to be dependent on some conditions."
      ]
    },
    {
      "cell_type": "code",
      "execution_count": 24,
      "metadata": {},
      "outputs": [
        {
          "name": "stdout",
          "output_type": "stream",
          "text": [
            "Michael Jackson Thriller 1980\n",
            "Oldie\n"
          ]
        }
      ],
      "source": [
        "def type_of_album(artist, album, year_released):\n",
        "\tprint(artist, album, year_released)\n",
        "\tif year_released > 1980:\n",
        "\t\treturn \"Modern\"\n",
        "\telse:\n",
        "\t\treturn \"Oldie\"\n",
        "\n",
        "x = type_of_album(\"Michael Jackson\", \"Thriller\", 1980)\n",
        "print(x)"
      ]
    },
    {
      "attachments": {},
      "cell_type": "markdown",
      "metadata": {},
      "source": [
        "We can also use a loop in a function. For example, we can print out each element in a list."
      ]
    },
    {
      "cell_type": "code",
      "execution_count": 56,
      "metadata": {},
      "outputs": [],
      "source": [
        "## Print list using for-loop\n",
        "def print_list(lst):\n",
        "\tfor element in lst:\n",
        "\t\tprint(element)"
      ]
    },
    {
      "cell_type": "code",
      "execution_count": 57,
      "metadata": {},
      "outputs": [
        {
          "name": "stdout",
          "output_type": "stream",
          "text": [
            "1\n",
            "1\n",
            "Python\n",
            "Java\n"
          ]
        }
      ],
      "source": [
        "## Implement function\n",
        "print_list([\"1\", 1, \"Python\", \"Java\"])"
      ]
    },
    {
      "attachments": {},
      "cell_type": "markdown",
      "metadata": {},
      "source": [
        "### Default Argument Values in Functions"
      ]
    },
    {
      "attachments": {},
      "cell_type": "markdown",
      "metadata": {},
      "source": [
        "We can set a default value for arguments in functions. For example, what if we wanted to create a threshold for what we consider to be a good rating in the `is_good_rating()` function? Perhaps, we should have a default rating of 4."
      ]
    },
    {
      "cell_type": "code",
      "execution_count": 63,
      "metadata": {},
      "outputs": [],
      "source": [
        "## Example for setting parameter with default value\n",
        "def is_good_rating(rating=4):\n",
        "\tif rating < 7:\n",
        "\t\tprint(f\"This album sucks. It has a rating of {rating}.\")\n",
        "\telse:\n",
        "\t\tprint(f\"This album is good. It has a rating of {rating}.\")"
      ]
    },
    {
      "cell_type": "code",
      "execution_count": 64,
      "metadata": {},
      "outputs": [
        {
          "name": "stdout",
          "output_type": "stream",
          "text": [
            "This album sucks. It has a rating of 4.\n",
            "This album is good. It has a rating of 10.\n"
          ]
        }
      ],
      "source": [
        "## Test the default value\n",
        "is_good_rating()\n",
        "is_good_rating(10)"
      ]
    },
    {
      "attachments": {},
      "cell_type": "markdown",
      "metadata": {},
      "source": [
        "## Global Variables"
      ]
    },
    {
      "attachments": {},
      "cell_type": "markdown",
      "metadata": {},
      "source": [
        "So far, we've been creating variables within functions but we have not discussed variables outside functions. These are called \"global variables\".\n",
        "\n",
        "See what the example function returns below."
      ]
    },
    {
      "cell_type": "code",
      "execution_count": 69,
      "metadata": {},
      "outputs": [
        {
          "name": "stdout",
          "output_type": "stream",
          "text": [
            "Michael Jackson is an artist.\n"
          ]
        }
      ],
      "source": [
        "## Example of global variable\n",
        "artist = \"Michael Jackson\"\n",
        "\n",
        "def printer1(artist):\n",
        "\tinternal_var1 = artist\n",
        "\tprint(artist, \"is an artist.\")\n",
        "\n",
        "printer1(artist)\n",
        "\n",
        "## Try running the following code\n",
        "# printer1(internal_var1)"
      ]
    },
    {
      "attachments": {},
      "cell_type": "markdown",
      "metadata": {},
      "source": [
        "If we print `internal_var1`, we will receive the error message `NameError: name 'internal_var1' is not defined`. Why? This is because all the variables we create inside functions are \"local variables\" and do not exist outside functions. However, there is a way to create \"global variables\" from within a function - to use the `global` keyword."
      ]
    },
    {
      "cell_type": "code",
      "execution_count": 70,
      "metadata": {},
      "outputs": [
        {
          "name": "stdout",
          "output_type": "stream",
          "text": [
            "Michael Jackson is an artist.\n",
            "Whitney Houston is an artist.\n"
          ]
        }
      ],
      "source": [
        "artist = \"Michael Jackson\"\n",
        "\n",
        "def printer(artist):\n",
        "\t## Turn local variable into global variable\n",
        "\tglobal internal_var\n",
        "\tinternal_var = \"Whitney Houston\"\n",
        "\tprint(artist, \"is an artist.\")\n",
        "\n",
        "printer(artist)\n",
        "printer(internal_var)"
      ]
    },
    {
      "attachments": {},
      "cell_type": "markdown",
      "metadata": {},
      "source": [
        "### Variable Scope"
      ]
    },
    {
      "attachments": {},
      "cell_type": "markdown",
      "metadata": {},
      "source": [
        "The scope of a variable is the part of that program where that variable is accessible. Variables that are declared outside of all function definitions, such as the <code>favorite_band</code> variable in the code shown here, are accessible from anywhere within the program. As a result, such variables are said to have global scope, and are known as global variables. <code>favorite_band</code> is a global variable, so it is accessible from within the <code>get_band_rating</code> function, and we can use it to determine a band's rating. We can also use it outside of the function, such as when we pass it to the print function to display it:"
      ]
    },
    {
      "cell_type": "code",
      "execution_count": 31,
      "metadata": {},
      "outputs": [
        {
          "name": "stdout",
          "output_type": "stream",
          "text": [
            "AC/DC's rating is: 10.0\n",
            "Deep Purple's rating is: 0.0\n",
            "My favourite band is: AC/DC\n"
          ]
        }
      ],
      "source": [
        "## Example of global variable\n",
        "favorite_band = \"AC/DC\"\n",
        "\n",
        "def get_band_rating(bandname):\n",
        "\tif bandname == favorite_band:\n",
        "\t\treturn 10.0\n",
        "\telse:\n",
        "\t\treturn 0.0\n",
        "\n",
        "print(\"AC/DC's rating is:\", get_band_rating(\"AC/DC\"))\n",
        "print(\"Deep Purple's rating is:\", get_band_rating(\"Deep Purple\"))\n",
        "print(\"My favourite band is:\", favorite_band)"
      ]
    },
    {
      "attachments": {},
      "cell_type": "markdown",
      "metadata": {},
      "source": [
        "Take a look at the modified version of our code below. Now the `favorite_band` variable is defined within the `get_band_rating()` function. A variable that is defined within a function is said to be a local variable of that function. That means that it is only accessible from within the function in which it is defined. The function will still work. However, we can no longer print `favorite_band` outside the function, because it is only defined within the function."
      ]
    },
    {
      "cell_type": "code",
      "execution_count": 71,
      "metadata": {},
      "outputs": [
        {
          "ename": "NameError",
          "evalue": "name 'favorite_band' is not defined",
          "output_type": "error",
          "traceback": [
            "\u001b[1;31m---------------------------------------------------------------------------\u001b[0m",
            "\u001b[1;31mNameError\u001b[0m                                 Traceback (most recent call last)",
            "\u001b[1;32mc:\\Users\\Asus\\Coding\\course-cognitiveclass-python-for-data-science\\module03\\Lab-03-03-Functions.ipynb Cell 79\u001b[0m in \u001b[0;36m<cell line: 2>\u001b[1;34m()\u001b[0m\n\u001b[0;32m      <a href='vscode-notebook-cell:/c%3A/Users/Asus/Coding/course-cognitiveclass-python-for-data-science/module03/Lab-03-03-Functions.ipynb#Y146sZmlsZQ%3D%3D?line=0'>1</a>\u001b[0m \u001b[39m## Delete variable \"favorite_band\" from the previous example\u001b[39;00m\n\u001b[1;32m----> <a href='vscode-notebook-cell:/c%3A/Users/Asus/Coding/course-cognitiveclass-python-for-data-science/module03/Lab-03-03-Functions.ipynb#Y146sZmlsZQ%3D%3D?line=1'>2</a>\u001b[0m \u001b[39mdel\u001b[39;00m favorite_band\n\u001b[0;32m      <a href='vscode-notebook-cell:/c%3A/Users/Asus/Coding/course-cognitiveclass-python-for-data-science/module03/Lab-03-03-Functions.ipynb#Y146sZmlsZQ%3D%3D?line=3'>4</a>\u001b[0m \u001b[39m## Example of local variable\u001b[39;00m\n\u001b[0;32m      <a href='vscode-notebook-cell:/c%3A/Users/Asus/Coding/course-cognitiveclass-python-for-data-science/module03/Lab-03-03-Functions.ipynb#Y146sZmlsZQ%3D%3D?line=4'>5</a>\u001b[0m \u001b[39mdef\u001b[39;00m \u001b[39mget_band_rating\u001b[39m(bandname):\n",
            "\u001b[1;31mNameError\u001b[0m: name 'favorite_band' is not defined"
          ]
        }
      ],
      "source": [
        "## Delete variable \"favorite_band\" from the previous example\n",
        "del favorite_band\n",
        "\n",
        "## Example of local variable\n",
        "def get_band_rating(bandname):\n",
        "\tfavorite_band = \"AC/DC\"\n",
        "\tif bandname == favorite_band:\n",
        "\t\treturn 10.0\n",
        "\telse:\n",
        "\t\treturn 0.0\n",
        "\n",
        "print(\"AC/DC's rating is:\", get_band_rating(\"AC/DC\"))\n",
        "print(\"Deep Purple's rating is:\", get_band_rating(\"Deep Purple\"))\n",
        "print(\"My favourite band is\", favorite_band)"
      ]
    },
    {
      "attachments": {},
      "cell_type": "markdown",
      "metadata": {},
      "source": [
        "Finally, take a look at this example. We now have 2 `favorite_band` variable definitions. The 1st one of these has a global scope and the 2nd is a local variable within the function. Within the function, the local variable takes precedence. \"Deep Purple\" will receive a rating of 10.0 when passed to the function. However, outside of the function, the local variable is not defined so the `favorite_band` variable we print is the global variable, which has a value of \"AC/DC\"."
      ]
    },
    {
      "cell_type": "code",
      "execution_count": 72,
      "metadata": {},
      "outputs": [
        {
          "name": "stdout",
          "output_type": "stream",
          "text": [
            "AC/DC's rating is: 0.0\n",
            "Deep Purple's rating is: 10.0\n",
            "My favourite band is: AC/DC\n"
          ]
        }
      ],
      "source": [
        "## Example of global variable and local variable with the same name\n",
        "favorite_band = \"AC/DC\"\n",
        "\n",
        "def get_band_rating(bandname):\n",
        "\tfavorite_band = \"Deep Purple\"\n",
        "\tif bandname == favorite_band:\n",
        "\t\treturn 10.0\n",
        "\telse:\n",
        "\t\treturn 0.0\n",
        "\n",
        "print(\"AC/DC's rating is:\", get_band_rating(\"AC/DC\"))\n",
        "print(\"Deep Purple's rating is:\", get_band_rating(\"Deep Purple\"))\n",
        "print(\"My favourite band is:\", favorite_band)"
      ]
    },
    {
      "attachments": {},
      "cell_type": "markdown",
      "metadata": {},
      "source": [
        "## Collections and Functions"
      ]
    },
    {
      "attachments": {},
      "cell_type": "markdown",
      "metadata": {},
      "source": [
        "When the number of arguments are unknown for a function, they can all be packed into a tuple. See the following example."
      ]
    },
    {
      "cell_type": "code",
      "execution_count": 73,
      "metadata": {},
      "outputs": [
        {
          "name": "stdout",
          "output_type": "stream",
          "text": [
            "No. of arguments: 3\n",
            "Horsefeather\n",
            "Adonis\n",
            "Bone\n",
            "No. of arguments: 4\n",
            "Sidecar\n",
            "Long Island\n",
            "Mudslide\n",
            "Carriage\n"
          ]
        }
      ],
      "source": [
        "## All arguments packed into \"args\", which can be treated as a tuple\n",
        "def print_all(*args):\n",
        "\tprint(\"No. of arguments:\", len(args))\n",
        "\tfor argument in args:\n",
        "\t\tprint(argument)\n",
        "\n",
        "## With 3 arguments\n",
        "print_all(\"Horsefeather\", \"Adonis\", \"Bone\")\n",
        "## With 4 arguments\n",
        "print_all(\"Sidecar\", \"Long Island\", \"Mudslide\", \"Carriage\")"
      ]
    },
    {
      "attachments": {},
      "cell_type": "markdown",
      "metadata": {},
      "source": [
        "Similarly, the arguments can also be packed into a dictionary."
      ]
    },
    {
      "cell_type": "code",
      "execution_count": 74,
      "metadata": {},
      "outputs": [
        {
          "name": "stdout",
          "output_type": "stream",
          "text": [
            "Country: Canada\n",
            "Province: Ontario\n",
            "City: Toronto\n"
          ]
        }
      ],
      "source": [
        "def print_dict(**args):\n",
        "\tfor key in args:\n",
        "\t\tprint(key + \": \" + args[key])\n",
        "\n",
        "print_dict(Country='Canada', Province='Ontario', City='Toronto')"
      ]
    },
    {
      "attachments": {},
      "cell_type": "markdown",
      "metadata": {},
      "source": [
        "Functions can be incredibly powerful and versatile. They can accept (and return) data types, objects and even other functions as arguements. Consider the example below."
      ]
    },
    {
      "cell_type": "code",
      "execution_count": 76,
      "metadata": {},
      "outputs": [
        {
          "name": "stdout",
          "output_type": "stream",
          "text": [
            "['One', 'Two']\n",
            "['One', 'Two', 'Three', 'Four']\n"
          ]
        }
      ],
      "source": [
        "def add_items(lst):\n",
        "\tlst.append(\"Three\")\n",
        "\tlst.append(\"Four\")\n",
        "\n",
        "my_list = [\"One\", \"Two\"]\n",
        "\n",
        "print(my_list)\n",
        "add_items(my_list)\n",
        "print(my_list)"
      ]
    },
    {
      "attachments": {},
      "cell_type": "markdown",
      "metadata": {},
      "source": [
        "Note how the changes made to the list are not limited to the function scope. This occurs as it is the list's reference that is passed to the function - any changes made are on the orignal instance of the list. Therefore, one should be cautious when passing mutable objects into functions."
      ]
    },
    {
      "attachments": {},
      "cell_type": "markdown",
      "metadata": {},
      "source": [
        "---"
      ]
    },
    {
      "attachments": {},
      "cell_type": "markdown",
      "metadata": {},
      "source": [
        "## Exercises"
      ]
    },
    {
      "cell_type": "markdown",
      "metadata": {},
      "source": [
        "### Basics"
      ]
    },
    {
      "attachments": {},
      "cell_type": "markdown",
      "metadata": {},
      "source": [
        "1. Come up with a function that divides the first input by the second input."
      ]
    },
    {
      "cell_type": "code",
      "execution_count": 37,
      "metadata": {},
      "outputs": [],
      "source": [
        "def divide(a, b):\n",
        "\treturn a / b"
      ]
    },
    {
      "attachments": {},
      "cell_type": "markdown",
      "metadata": {},
      "source": [
        "<details><summary>Click here for the solution</summary>\n",
        "\n",
        "```python\n",
        "def div(a, b):\n",
        "    return(a/b)    \n",
        "```\n",
        "\n",
        "</details>"
      ]
    },
    {
      "attachments": {},
      "cell_type": "markdown",
      "metadata": {},
      "source": [
        "2. Can the `con()` function defined below be used to add 2 integers or strings?\n",
        "```\n",
        "def con(a, b):\n",
        "\treturn(a + b)\n",
        "```"
      ]
    },
    {
      "cell_type": "code",
      "execution_count": 38,
      "metadata": {},
      "outputs": [
        {
          "name": "stdout",
          "output_type": "stream",
          "text": [
            "ab\n",
            "3\n"
          ]
        }
      ],
      "source": [
        "print(con(\"a\", \"b\"))\n",
        "print(con(1, 2))"
      ]
    },
    {
      "attachments": {},
      "cell_type": "markdown",
      "metadata": {},
      "source": [
        "<details><summary>Click here for the solution</summary>\n",
        "\n",
        "Yes, for example:\n",
        "```python\n",
        "con(2, 2)\n",
        "```\n",
        "\n",
        "</details>"
      ]
    },
    {
      "attachments": {},
      "cell_type": "markdown",
      "metadata": {},
      "source": [
        "3. Can we use the `con()` function defined in the previous question to concatenate lists or tuples?"
      ]
    },
    {
      "cell_type": "code",
      "execution_count": 39,
      "metadata": {},
      "outputs": [
        {
          "name": "stdout",
          "output_type": "stream",
          "text": [
            "[1, 2, 3, 4]\n"
          ]
        }
      ],
      "source": [
        "print(con([1, 2], [3, 4]))"
      ]
    },
    {
      "attachments": {},
      "cell_type": "markdown",
      "metadata": {},
      "source": [
        "<details><summary>Click here for the solution</summary>\n",
        "\n",
        "Yes, for example:\n",
        "```python\n",
        "con(['a', 1], ['b', 1])    \n",
        "```\n",
        "\n",
        "</details>"
      ]
    },
    {
      "attachments": {},
      "cell_type": "markdown",
      "metadata": {},
      "source": [
        "### More on Functions"
      ]
    },
    {
      "attachments": {},
      "cell_type": "markdown",
      "metadata": {},
      "source": [
        "1. Complete the function `f` so that it returns the product of `a` and `b`. Use the next cell to test the function."
      ]
    },
    {
      "cell_type": "code",
      "execution_count": 40,
      "metadata": {
        "trusted": true
      },
      "outputs": [],
      "source": [
        "def f(a, b):\n",
        "\treturn a * b"
      ]
    },
    {
      "attachments": {},
      "cell_type": "markdown",
      "metadata": {},
      "source": [
        "<details><summary>Click here for the solution</summary>\n",
        "\n",
        "```python\n",
        "def f(a,b):\n",
        "    return a*b    \n",
        "```\n",
        "\n",
        "</details>"
      ]
    },
    {
      "attachments": {},
      "cell_type": "markdown",
      "metadata": {},
      "source": [
        "Test the function above using the following cell."
      ]
    },
    {
      "cell_type": "code",
      "execution_count": 41,
      "metadata": {
        "trusted": true
      },
      "outputs": [
        {
          "name": "stdout",
          "output_type": "stream",
          "text": [
            "Correct.\n"
          ]
        }
      ],
      "source": [
        "a = 4\n",
        "b = 2\n",
        "\n",
        "if a*b == f(a, b):\n",
        "\tprint(\"Correct.\")\n",
        "else:\n",
        "\tprint(\"Incorrect.\")"
      ]
    },
    {
      "attachments": {},
      "cell_type": "markdown",
      "metadata": {},
      "source": [
        "2. Complete the function `g` such that the input `c` is a list of integers and the output is the sum of all the elements in the list."
      ]
    },
    {
      "cell_type": "code",
      "execution_count": 42,
      "metadata": {
        "trusted": true
      },
      "outputs": [],
      "source": [
        "def g(c):\n",
        "\treturn sum(c)"
      ]
    },
    {
      "attachments": {},
      "cell_type": "markdown",
      "metadata": {},
      "source": [
        "<details><summary>Click here for the solution</summary>\n",
        "\n",
        "```python\n",
        "def g(c):\n",
        "    return sum(c)     \n",
        "```\n",
        "\n",
        "</details>"
      ]
    },
    {
      "cell_type": "markdown",
      "metadata": {},
      "source": [
        "Test the function above using the following cell."
      ]
    },
    {
      "cell_type": "code",
      "execution_count": 43,
      "metadata": {
        "trusted": true
      },
      "outputs": [
        {
          "name": "stdout",
          "output_type": "stream",
          "text": [
            "Correct.\n"
          ]
        }
      ],
      "source": [
        "c = [1, 2, 3, 4, 5]\n",
        "\n",
        "if sum(c) == g(c):\n",
        "\tprint(\"Correct.\")\n",
        "else:\n",
        "\tprint(\"Incorrect.\")"
      ]
    },
    {
      "attachments": {},
      "cell_type": "markdown",
      "metadata": {},
      "source": [
        "---"
      ]
    },
    {
      "attachments": {},
      "cell_type": "markdown",
      "metadata": {},
      "source": [
        "Author(s):\n",
        "\n",
        "- [Joseph Santarcangelo](https://www.linkedin.com/in/joseph-s-50398b136/?utm_medium=Exinfluencer&utm_source=Exinfluencer&utm_content=000026UJ&utm_term=10006555&utm_id=NA-SkillsNetwork-Channel-SkillsNetworkCoursesIBMDeveloperSkillsNetworkPY0101ENSkillsNetwork19487395-2022-01-01)\n",
        "\n",
        "Other Contributor(s):\n",
        "\n",
        "- [Mavis Zhou](https://www.linkedin.com/in/jiahui-mavis-zhou-a4537814a?utm_medium=Exinfluencer&utm_source=Exinfluencer&utm_content=000026UJ&utm_term=10006555&utm_id=NA-SkillsNetwork-Channel-SkillsNetworkCoursesIBMDeveloperSkillsNetworkPY0101ENSkillsNetwork19487395-2022-01-01)"
      ]
    }
  ],
  "metadata": {
    "kernelspec": {
      "display_name": "base",
      "language": "python",
      "name": "python3"
    },
    "language_info": {
      "codemirror_mode": {
        "name": "ipython",
        "version": 3
      },
      "file_extension": ".py",
      "mimetype": "text/x-python",
      "name": "python",
      "nbconvert_exporter": "python",
      "pygments_lexer": "ipython3",
      "version": "3.8.13"
    },
    "vscode": {
      "interpreter": {
        "hash": "2011e8f1b66e4ca782a16183c079a9a8ceaa771eb94b3143f514bb5560527e59"
      }
    }
  },
  "nbformat": 4,
  "nbformat_minor": 4
}
