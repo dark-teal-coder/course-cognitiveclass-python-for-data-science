{
  "cells": [
    {
      "attachments": {},
      "cell_type": "markdown",
      "metadata": {},
      "source": [
        "# Loops\n",
        "\n",
        "Estimated time needed: **20** minutes\n",
        "\n",
        "## Objectives\n",
        "\n",
        "After completing this lab you will be able to:\n",
        "\n",
        "*   work with the loop statements in Python, including for-loop and while-loop.\n",
        "\n",
        "## Table of Contents\n",
        "\n",
        "<div class=\"alert alert-block alert-info\" style=\"margin-top: 20px\">\n",
        "    <ul>\n",
        "        <li>\n",
        "            <a href=\"https://#loop\">Loops</a>\n",
        "            <ul>\n",
        "                <li><a href=\"https://range/?utm_medium=Exinfluencer&utm_source=Exinfluencer&utm_content=000026UJ&utm_term=10006555&utm_id=NA-SkillsNetwork-Channel-SkillsNetworkCoursesIBMDeveloperSkillsNetworkPY0101ENSkillsNetwork19487395-2022-01-01\">Range</a></li>\n",
        "                <li><a href=\"https://for/?utm_medium=Exinfluencer&utm_source=Exinfluencer&utm_content=000026UJ&utm_term=10006555&utm_id=NA-SkillsNetwork-Channel-SkillsNetworkCoursesIBMDeveloperSkillsNetworkPY0101ENSkillsNetwork19487395-2022-01-01\">What is <code>for</code> loop?</a></li>\n",
        "                <li><a href=\"https://while/?utm_medium=Exinfluencer&utm_source=Exinfluencer&utm_content=000026UJ&utm_term=10006555&utm_id=NA-SkillsNetwork-Channel-SkillsNetworkCoursesIBMDeveloperSkillsNetworkPY0101ENSkillsNetwork19487395-2022-01-01\">What is <code>while</code> loop?</a></li>\n",
        "            </ul>\n",
        "        </li>\n",
        "        <li>\n",
        "            <a href=\"https://#quiz\">Quiz on Loops</a>\n",
        "        </li>\n",
        "    </ul>\n",
        "\n",
        "</div>"
      ]
    },
    {
      "attachments": {},
      "cell_type": "markdown",
      "metadata": {},
      "source": [
        "---"
      ]
    },
    {
      "attachments": {},
      "cell_type": "markdown",
      "metadata": {},
      "source": [
        "## Range"
      ]
    },
    {
      "attachments": {},
      "cell_type": "markdown",
      "metadata": {},
      "source": [
        "Sometimes, we might want to repeat a given operation many times. Repeated executions like this are performed by \"loops\". We will look at two types of loops: `for` loop and `while` loop.\n",
        "\n",
        "One very useful function to use in loops is `range()`. The `range()` function returns a sequence of numbers, starting from 0 by default, and increments by 1 (by default), and stops before a specified number. It returns a `range` object. It is helpful to think of the \"range\" object as an ordered list. \n",
        "\n",
        "For now, let's look at the simplest case. If we would like to generate an object that contains elements ordered from 0 to 2, we simply use the following command."
      ]
    },
    {
      "cell_type": "code",
      "execution_count": 1,
      "metadata": {
        "trusted": true
      },
      "outputs": [
        {
          "name": "stdout",
          "output_type": "stream",
          "text": [
            "range(0, 3)\n"
          ]
        }
      ],
      "source": [
        "## A sequence of numbers from 0 to 2\n",
        "print(range(3))"
      ]
    },
    {
      "attachments": {},
      "cell_type": "markdown",
      "metadata": {},
      "source": [
        "```\n",
        "range(3) is equivalent to range(0, 3) \n",
        "```"
      ]
    },
    {
      "attachments": {},
      "cell_type": "markdown",
      "metadata": {},
      "source": [
        "**NOTE**: `range()` returns a list in Python 2 but a `range` object in Python 3."
      ]
    },
    {
      "attachments": {},
      "cell_type": "markdown",
      "metadata": {},
      "source": [
        "## What is For Loop?"
      ]
    },
    {
      "attachments": {},
      "cell_type": "markdown",
      "metadata": {},
      "source": [
        "A `for` loop enables us to execute a code block multiple times. "
      ]
    },
    {
      "cell_type": "markdown",
      "metadata": {},
      "source": [
        "In the following example, we use for-loop to print out a sequence of numbers from 0 to 7."
      ]
    },
    {
      "cell_type": "code",
      "execution_count": 2,
      "metadata": {},
      "outputs": [
        {
          "name": "stdout",
          "output_type": "stream",
          "text": [
            "0\n",
            "1\n",
            "2\n",
            "3\n",
            "4\n",
            "5\n",
            "6\n",
            "7\n"
          ]
        }
      ],
      "source": [
        "## Use for-loop to print a sequence of numbers\n",
        "for i in range(0, 8):\n",
        "\tprint(i)"
      ]
    },
    {
      "attachments": {},
      "cell_type": "markdown",
      "metadata": {},
      "source": [
        "We can print out every element in a list. Let's try to use a for-loop to print all the years presented in the list `years`."
      ]
    },
    {
      "attachments": {},
      "cell_type": "markdown",
      "metadata": {},
      "source": [
        "For-loop example:"
      ]
    },
    {
      "cell_type": "code",
      "execution_count": 3,
      "metadata": {
        "trusted": true
      },
      "outputs": [
        {
          "name": "stdout",
          "output_type": "stream",
          "text": [
            "1982\n",
            "1980\n",
            "1973\n"
          ]
        }
      ],
      "source": [
        "## Use for-loop to print every element in a list\n",
        "years = [1982, 1980, 1973]\n",
        "length = len(years)\n",
        "\n",
        "for i in range(length):\n",
        "\tprint(years[i])"
      ]
    },
    {
      "attachments": {},
      "cell_type": "markdown",
      "metadata": {},
      "source": [
        "The code in the indent is executed `length` times, each time the value of `i` is increased by 1, for every execution. The statement executed is to print out the value in the list at index `i`.\n",
        "\n",
        "- 1st iteration: `print(years[0])` => `1982`\n",
        "- 2nd iteration: `print(years[1])` => `1980`\n",
        "- 3rd iteration: `print(years[2])` => `1973`"
      ]
    },
    {
      "attachments": {},
      "cell_type": "markdown",
      "metadata": {},
      "source": [
        "In Python, we can directly access the elements in the list as follows."
      ]
    },
    {
      "cell_type": "code",
      "execution_count": 4,
      "metadata": {
        "trusted": true
      },
      "outputs": [
        {
          "name": "stdout",
          "output_type": "stream",
          "text": [
            "1982\n",
            "1980\n",
            "1973\n"
          ]
        }
      ],
      "source": [
        "## Pythonic for-loop\n",
        "for year in years:\n",
        "\tprint(year)"
      ]
    },
    {
      "attachments": {},
      "cell_type": "markdown",
      "metadata": {},
      "source": [
        "For each iteration, the value of the variable `year` behaves like the value of `years[i]` in the 1st example.\n",
        "\n",
        "- 1st iteration: `print(year)` => `1982`\n",
        "- 2nd iteration: `print(year)` => `1980`\n",
        "- 3rd iteration: `print(year)` => `1973`"
      ]
    },
    {
      "attachments": {},
      "cell_type": "markdown",
      "metadata": {},
      "source": [
        "We can also use it to change elements in a list. See the example below."
      ]
    },
    {
      "cell_type": "code",
      "execution_count": 5,
      "metadata": {
        "trusted": true
      },
      "outputs": [
        {
          "name": "stdout",
          "output_type": "stream",
          "text": [
            "squares[i] before change: red\n",
            "squares[i] after change: white\n",
            "squares[i] before change: yellow\n",
            "squares[i] after change: white\n",
            "squares[i] before change: green\n",
            "squares[i] after change: white\n",
            "squares[i] before change: purple\n",
            "squares[i] after change: white\n",
            "squares[i] before change: blue\n",
            "squares[i] after change: white\n"
          ]
        }
      ],
      "source": [
        "## Use for-loop to change elements in list\n",
        "squares = ['red', 'yellow', 'green', 'purple', 'blue']\n",
        "\n",
        "for i in range(0, 5):\n",
        "\tprint(f\"squares[i] before change: {squares[i]}\")\n",
        "\tsquares[i] = \"white\"\n",
        "\tprint(f\"squares[i] after change: {squares[i]}\")"
      ]
    },
    {
      "attachments": {},
      "cell_type": "markdown",
      "metadata": {},
      "source": [
        "We can access the elements and their corresponding index at the same time using `enumerate()`.\n",
        "\n",
        "> `enumerate()` method adds a counter to an iterable and returns it in a form of enumerating object."
      ]
    },
    {
      "cell_type": "code",
      "execution_count": 6,
      "metadata": {},
      "outputs": [
        {
          "name": "stdout",
          "output_type": "stream",
          "text": [
            "0 red\n",
            "1 yellow\n",
            "2 green\n",
            "3 purple\n",
            "4 blue\n"
          ]
        }
      ],
      "source": [
        "# Iterate on both index and element\n",
        "squares = ['red', 'yellow', 'green', 'purple', 'blue']\n",
        "\n",
        "for i, square in enumerate(squares):\n",
        "\tprint(i, square)"
      ]
    },
    {
      "attachments": {},
      "cell_type": "markdown",
      "metadata": {},
      "source": [
        "## What is While Loop?"
      ]
    },
    {
      "attachments": {},
      "cell_type": "markdown",
      "metadata": {},
      "source": [
        "The `for` loop is used for a controlled flow of repetition. However, what if we don't know when we want to stop the loop? What if we want to keep executing a code block until a certain condition is met? The `while` loop exists as a tool for repeated execution based on a condition. The code block will keep being executed until the given logical condition becomes `False`."
      ]
    },
    {
      "attachments": {},
      "cell_type": "markdown",
      "metadata": {},
      "source": [
        "Say, we would like to iterate through list `years` and stop at the year 1973, then print out the number of iterations. This can be done with the while-loop."
      ]
    },
    {
      "cell_type": "code",
      "execution_count": 7,
      "metadata": {
        "trusted": true
      },
      "outputs": [
        {
          "name": "stdout",
          "output_type": "stream",
          "text": [
            "1982\n",
            "1980\n",
            "It took 2 repetitions to get out of loop.\n"
          ]
        }
      ],
      "source": [
        "## While loop example\n",
        "years = [1982, 1980, 1973, 2000]\n",
        "\n",
        "i = 0\n",
        "year = years[0]\n",
        "\n",
        "while(year != 1973):\n",
        "\tprint(year)\n",
        "\ti = i + 1\n",
        "\tyear = years[i]\n",
        "\n",
        "print(\"It took\", i ,\"repetitions to get out of loop.\")"
      ]
    },
    {
      "attachments": {},
      "cell_type": "markdown",
      "metadata": {},
      "source": [
        "A while loop iterates merely until the condition in the argument is not  met. See the figure below.\n",
        "\n",
        "<img src=\"https://cf-courses-data.s3.us.cloud-object-storage.appdomain.cloud/IBMDeveloperSkillsNetwork-PY0101EN-SkillsNetwork/labs/Module%203/images/LoopsWhile.gif\" width=\"650\" />"
      ]
    },
    {
      "attachments": {},
      "cell_type": "markdown",
      "metadata": {},
      "source": [
        "---"
      ]
    },
    {
      "attachments": {},
      "cell_type": "markdown",
      "metadata": {},
      "source": [
        "## Exercises"
      ]
    },
    {
      "attachments": {},
      "cell_type": "markdown",
      "metadata": {},
      "source": [
        "1. Write a for loop the prints out all the elements between -5 and 5, excluding -5 and 5, using the `range()` function."
      ]
    },
    {
      "cell_type": "code",
      "execution_count": 8,
      "metadata": {
        "trusted": true
      },
      "outputs": [
        {
          "name": "stdout",
          "output_type": "stream",
          "text": [
            "-4\n",
            "-3\n",
            "-2\n",
            "-1\n",
            "0\n",
            "1\n",
            "2\n",
            "3\n",
            "4\n"
          ]
        }
      ],
      "source": [
        "for i in range(-4, 5):\n",
        "\tprint(i)"
      ]
    },
    {
      "attachments": {},
      "cell_type": "markdown",
      "metadata": {},
      "source": [
        "<details><summary>Click here for the solution</summary>\n",
        "\n",
        "```python\n",
        "for i in range(-4, 5):\n",
        "    print(i)    \n",
        "```\n",
        "\n",
        "</details>"
      ]
    },
    {
      "attachments": {},
      "cell_type": "markdown",
      "metadata": {},
      "source": [
        "2. Print the elements of the following list. Make sure you follow Python conventions. \n",
        "```python\n",
        "genres = [ 'rock', 'R&B', 'Soundtrack', 'R&B', 'soul', 'pop']\n",
        "```"
      ]
    },
    {
      "cell_type": "code",
      "execution_count": 9,
      "metadata": {
        "trusted": true
      },
      "outputs": [
        {
          "name": "stdout",
          "output_type": "stream",
          "text": [
            "rock\n",
            "R&B\n",
            "Soundtrack\n",
            "R&B\n",
            "soul\n",
            "pop\n"
          ]
        }
      ],
      "source": [
        "genres=['rock', 'R&B', 'Soundtrack', 'R&B', 'soul', 'pop']\n",
        "\n",
        "for genre in genres:\n",
        "\tprint(genre)"
      ]
    },
    {
      "attachments": {},
      "cell_type": "markdown",
      "metadata": {},
      "source": [
        "<details><summary>Click here for the solution</summary>\n",
        "\n",
        "```python\n",
        "genres = ['rock', 'R&B', 'Soundtrack', 'R&B', 'soul', 'pop']\n",
        "for genre in genres:\n",
        "\tprint(genre)\n",
        "```\n",
        "\n",
        "</details>"
      ]
    },
    {
      "attachments": {},
      "cell_type": "markdown",
      "metadata": {},
      "source": [
        "3. Write a for loop that prints out the following list.\n",
        "```\n",
        "squares = ['red', 'yellow', 'green', 'purple', 'blue']\n",
        "```"
      ]
    },
    {
      "cell_type": "code",
      "execution_count": 10,
      "metadata": {
        "trusted": true
      },
      "outputs": [
        {
          "name": "stdout",
          "output_type": "stream",
          "text": [
            "red\n",
            "yellow\n",
            "green\n",
            "purple\n",
            "blue\n"
          ]
        }
      ],
      "source": [
        "squares = ['red', 'yellow', 'green', 'purple', 'blue']\n",
        "\n",
        "for s in squares:\n",
        "\tprint(s)"
      ]
    },
    {
      "attachments": {},
      "cell_type": "markdown",
      "metadata": {},
      "source": [
        "<details><summary>Click here for the solution</summary>\n",
        "\n",
        "```python\n",
        "squares=['red', 'yellow', 'green', 'purple', 'blue']\n",
        "for square in squares:\n",
        "    print(square)    \n",
        "```\n",
        "\n",
        "</details>"
      ]
    },
    {
      "attachments": {},
      "cell_type": "markdown",
      "metadata": {},
      "source": [
        "4. Write a while loop to display the values of the rating of an album playlist stored in the list below. If the score is less than 6, exit the loop. \n",
        "```\n",
        "playlist_ratings = [10, 9.5, 10, 8, 7.5, 5, 10, 10]\n",
        "```"
      ]
    },
    {
      "cell_type": "code",
      "execution_count": 11,
      "metadata": {
        "trusted": true
      },
      "outputs": [
        {
          "name": "stdout",
          "output_type": "stream",
          "text": [
            "10\n",
            "9.5\n",
            "10\n",
            "8\n",
            "7.5\n"
          ]
        }
      ],
      "source": [
        "playlist_ratings = [10, 9.5, 10, 8, 7.5, 5, 10, 10]\n",
        "\n",
        "i = 0\n",
        "rating = playlist_ratings[i]\n",
        "\n",
        "while rating >= 6:\n",
        "\tprint(rating)\n",
        "\ti += 1\n",
        "\trating = playlist_ratings[i]"
      ]
    },
    {
      "attachments": {},
      "cell_type": "markdown",
      "metadata": {},
      "source": [
        "<details><summary>Click here for the solution</summary>\n",
        "\n",
        "```python\n",
        "playlist_ratings = [10, 9.5, 10, 8, 7.5, 5, 10, 10]\n",
        "i = 0\n",
        "rating = playlist_ratings[0]\n",
        "while(i < len(playlist_ratings) and rating >= 6):\n",
        "\tprint(rating)\n",
        "\ti = i + 1\n",
        "\trating = playlist_ratings[i]\n",
        "```\n",
        "\n",
        "</details>"
      ]
    },
    {
      "attachments": {},
      "cell_type": "markdown",
      "metadata": {},
      "source": [
        "5. Write a while loop to copy the strings `\"orange\"` of the list `squares` to a new list. Stop and exit the loop if the value on the list is not `\"orange\"`."
      ]
    },
    {
      "cell_type": "code",
      "execution_count": 12,
      "metadata": {
        "trusted": true
      },
      "outputs": [
        {
          "name": "stdout",
          "output_type": "stream",
          "text": [
            "['orange', 'orange']\n"
          ]
        }
      ],
      "source": [
        "squares = ['orange', 'orange', 'purple', 'blue ', 'orange']\n",
        "new_squares = []\n",
        "\n",
        "i = 0\n",
        "color = squares[i]\n",
        "\n",
        "while color == \"orange\":\n",
        "\tnew_squares.append(color)\n",
        "\ti += 1\n",
        "\tcolor = squares[i]\n",
        "\n",
        "print(new_squares)"
      ]
    },
    {
      "attachments": {},
      "cell_type": "markdown",
      "metadata": {},
      "source": [
        "<details><summary>Click here for the solution</summary>\n",
        "\n",
        "```python\n",
        "squares = ['orange', 'orange', 'purple', 'blue ', 'orange']\n",
        "new_squares = []\n",
        "i = 0\n",
        "while(i < len(squares) and squares[i] == 'orange'):\n",
        "    new_squares.append(squares[i])\n",
        "    i = i + 1\n",
        "print (new_squares)\n",
        "```\n",
        "\n",
        "</details>"
      ]
    },
    {
      "attachments": {},
      "cell_type": "markdown",
      "metadata": {},
      "source": [
        "6. Use loops to print out the elements in the list below.\n",
        "```\n",
        "A = [3, 4, 5]\n",
        "```"
      ]
    },
    {
      "cell_type": "code",
      "execution_count": 13,
      "metadata": {
        "trusted": true
      },
      "outputs": [
        {
          "name": "stdout",
          "output_type": "stream",
          "text": [
            "3\n",
            "4\n",
            "5\n"
          ]
        }
      ],
      "source": [
        "A = [3, 4, 5]\n",
        "for a in A:\n",
        "\tprint(a)"
      ]
    },
    {
      "attachments": {},
      "cell_type": "markdown",
      "metadata": {},
      "source": [
        "<details><summary>Click here for the solution</summary>\n",
        "\n",
        "```python\n",
        "for i in A:\n",
        "\tprint(i)\n",
        "```\n",
        "\n",
        "</details>"
      ]
    },
    {
      "attachments": {},
      "cell_type": "markdown",
      "metadata": {},
      "source": [
        "7. Find the value of `x` that will print out the sequence 1,2,..,10.\n",
        "```\n",
        "x = ??\n",
        "y = 1\n",
        "while(y != x):\n",
        "\tprint(y)\n",
        "\ty = y + 1\n",
        "```"
      ]
    },
    {
      "cell_type": "code",
      "execution_count": 14,
      "metadata": {
        "trusted": true
      },
      "outputs": [
        {
          "name": "stdout",
          "output_type": "stream",
          "text": [
            "1\n",
            "2\n",
            "3\n",
            "4\n",
            "5\n",
            "6\n",
            "7\n",
            "8\n",
            "9\n",
            "10\n"
          ]
        }
      ],
      "source": [
        "x = 11\n",
        "y = 1\n",
        "while(y != x):\n",
        "\tprint(y)\n",
        "\ty = y + 1"
      ]
    },
    {
      "attachments": {},
      "cell_type": "markdown",
      "metadata": {},
      "source": [
        "<details><summary>Click here for the solution</summary>\n",
        "\n",
        "```python\n",
        "x = 11\n",
        "```\n",
        "\n",
        "</details>"
      ]
    },
    {
      "attachments": {},
      "cell_type": "markdown",
      "metadata": {},
      "source": [
        "---"
      ]
    },
    {
      "attachments": {},
      "cell_type": "markdown",
      "metadata": {},
      "source": [
        "Author(s):\n",
        "\n",
        "- [Joseph Santarcangelo](https://www.linkedin.com/in/joseph-s-50398b136/?utm_medium=Exinfluencer&utm_source=Exinfluencer&utm_content=000026UJ&utm_term=10006555&utm_id=NA-SkillsNetwork-Channel-SkillsNetworkCoursesIBMDeveloperSkillsNetworkPY0101ENSkillsNetwork19487395-2022-01-01)\n",
        "\n",
        "Other Contributor(s):\n",
        "\n",
        "- [Mavis Zhou](https://www.linkedin.com/in/jiahui-mavis-zhou-a4537814a?utm_medium=Exinfluencer&utm_source=Exinfluencer&utm_content=000026UJ&utm_term=10006555&utm_id=NA-SkillsNetwork-Channel-SkillsNetworkCoursesIBMDeveloperSkillsNetworkPY0101ENSkillsNetwork19487395-2022-01-01)"
      ]
    }
  ],
  "metadata": {
    "kernelspec": {
      "display_name": "base",
      "language": "python",
      "name": "python3"
    },
    "language_info": {
      "codemirror_mode": {
        "name": "ipython",
        "version": 3
      },
      "file_extension": ".py",
      "mimetype": "text/x-python",
      "name": "python",
      "nbconvert_exporter": "python",
      "pygments_lexer": "ipython3",
      "version": "3.8.13"
    },
    "vscode": {
      "interpreter": {
        "hash": "2011e8f1b66e4ca782a16183c079a9a8ceaa771eb94b3143f514bb5560527e59"
      }
    }
  },
  "nbformat": 4,
  "nbformat_minor": 4
}
