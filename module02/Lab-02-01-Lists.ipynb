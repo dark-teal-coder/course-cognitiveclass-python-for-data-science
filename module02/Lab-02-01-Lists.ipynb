{
  "cells": [
    {
      "attachments": {},
      "cell_type": "markdown",
      "metadata": {},
      "source": [
        "# Lists\n",
        "\n",
        "Estimated time needed: **15** minutes\n",
        "\n",
        "## Objectives\n",
        "\n",
        "After completing this lab you will be able to:\n",
        "\n",
        "- Perform list operations in Python, including indexing, list manipulation, and copy/clone list.\n",
        "\n",
        "## Table of Contents\n",
        "\n",
        "- [Dataset](#dataset)\n",
        "- [Lists](#lists)\n",
        "- [Exercises](#exercises)"
      ]
    },
    {
      "attachments": {},
      "cell_type": "markdown",
      "metadata": {},
      "source": [
        "---"
      ]
    },
    {
      "attachments": {},
      "cell_type": "markdown",
      "metadata": {},
      "source": [
        "## Dataset"
      ]
    },
    {
      "attachments": {},
      "cell_type": "markdown",
      "metadata": {},
      "source": [
        "We will use the dataset about music album below."
      ]
    },
    {
      "cell_type": "markdown",
      "metadata": {},
      "source": [
        "The table has one row for each album and several columns.\n",
        "\n",
        "- `Artist`\n",
        "  - Artist name\n",
        "- `Album`\n",
        "  - Album name\n",
        "- `Released`\n",
        "  - Year the album was released\n",
        "- `Length`\n",
        "  - Length of the album (hours, minutes, seconds)\n",
        "- `Genre`\n",
        "  - Genre of the album\n",
        "- `Music Recording Sales (millions)`\n",
        "  - Music recording sales (millions in USD) on [song-database.com](http://www.song-database.com/?utm_medium=Exinfluencer&utm_source=Exinfluencer&utm_content=000026UJ&utm_term=10006555&utm_id=NA-SkillsNetwork-Channel-SkillsNetworkCoursesIBMDeveloperSkillsNetworkPY0101ENSkillsNetwork1005-2022-01-01)\n",
        "- `Claimed Sales (millions)`\n",
        "  - Album's claimed sales (millions in USD) on [song-database.com](http://www.song-database.com/?utm_medium=Exinfluencer&utm_source=Exinfluencer&utm_content=000026UJ&utm_term=10006555&utm_id=NA-SkillsNetwork-Channel-SkillsNetworkCoursesIBMDeveloperSkillsNetworkPY0101ENSkillsNetwork1005-2022-01-01)\n",
        "- `Released.1`\n",
        "  - Release date of the album\n",
        "- `Soundtrack`\n",
        "  - Whether the album is the movie soundtrack (Y) or (N)\n",
        "- `Rating`\n",
        "  - Rating from friends from 1 to 10"
      ]
    },
    {
      "attachments": {},
      "cell_type": "markdown",
      "metadata": {},
      "source": [
        "See the dataset here:\n",
        "\n",
        "<font size=\"1\">\n",
        "<table font-size:xx-small>\n",
        "\t<tr>\n",
        "\t\t<th>Artist</th>\n",
        "\t\t<th>Album</th>\n",
        "\t\t<th>Released</th>\n",
        "\t\t<th>Length</th>\n",
        "\t\t<th>Genre</th>\n",
        "\t\t<th>Music Recording Sales (millions)</th>\n",
        "\t\t<th>Claimed Sales (millions)</th>\n",
        "\t\t<th>Released.1</th>\n",
        "\t\t<th>Soundtrack</th>\n",
        "\t\t<th>Rating</th>\n",
        "\t</tr>\n",
        "\t<tr>\n",
        "\t\t<td>Michael Jackson</td>\n",
        "\t\t<td>Thriller</td>\n",
        "\t\t<td>1982</td>\n",
        "\t\t<td>00:42:19</td>\n",
        "\t\t<td>Pop, rock, R&B</td>\n",
        "\t\t<td>46</td>\n",
        "\t\t<td>65</td>\n",
        "\t\t<td>30-Nov-82</td>\n",
        "\t\t<td></td>\n",
        "\t\t<td>10.0</td>\n",
        "\t</tr>\n",
        "\t<tr>\n",
        "\t\t<td>AC/DC</td>\n",
        "\t\t<td>Back in Black</td>\n",
        "\t\t<td>1980</td>\n",
        "\t\t<td>00:42:11</td>\n",
        "\t\t<td>Hard rock</td>\n",
        "\t\t<td>26.1</td>\n",
        "\t\t<td>50</td>\n",
        "\t\t<td>25-Jul-80</td>\n",
        "\t\t<td></td>\n",
        "\t\t<td>8.5</td>\n",
        "\t</tr>\n",
        "\t<tr>\n",
        "\t\t<td>Pink Floyd</td>\n",
        "\t\t<td>The Dark Side of the Moon</td>\n",
        "\t\t<td>1973</td>\n",
        "\t\t<td>00:42:49</td>\n",
        "\t\t<td>Progressive rock</td>\n",
        "\t\t<td>24.2</td>\n",
        "\t\t<td>45</td>\n",
        "\t\t<td>01-Mar-73</td>\n",
        "\t\t<td></td>\n",
        "\t\t<td>9.5</td>\n",
        "\t</tr>\n",
        "\t<tr>\n",
        "\t\t<td>Whitney Houston</td>\n",
        "\t\t<td>The Bodyguard</td>\n",
        "\t\t<td>1992</td>\n",
        "\t\t<td>00:57:44</td>\n",
        "\t\t<td>Soundtrack/R&B, soul, pop</td>\n",
        "\t\t<td>26.1</td>\n",
        "\t\t<td>50</td>\n",
        "\t\t<td>25-Jul-80</td>\n",
        "\t\t<td>Y</td>\n",
        "\t\t<td>7.0</td>\n",
        "\t</tr>\n",
        "\t<tr>\n",
        "\t\t<td>Meat Loaf</td>\n",
        "\t\t<td>Bat Out of Hell</td>\n",
        "\t\t<td>1977</td>\n",
        "\t\t<td>00:46:33</td>\n",
        "\t\t<td>Hard rock, progressive rock</td>\n",
        "\t\t<td>20.6</td>\n",
        "\t\t<td>43</td>\n",
        "\t\t<td>21-Oct-77</td>\n",
        "\t\t<td></td>\n",
        "\t\t<td>7.0</td>\n",
        "\t</tr>\n",
        "\t<tr>\n",
        "\t\t<td>Eagles</td>\n",
        "\t\t<td>Their Greatest Hits (1971-1975)</td>\n",
        "\t\t<td>1976</td>\n",
        "\t\t<td>00:43:08</td>\n",
        "\t\t<td>Rock, soft rock, folk rock</td>\n",
        "\t\t<td>32.2</td>\n",
        "\t\t<td>42</td>\n",
        "\t\t<td>17-Feb-76</td>\n",
        "\t\t<td></td>\n",
        "\t\t<td>9.5</td>\n",
        "\t</tr>\n",
        "\t<tr>\n",
        "\t\t<td>Bee Gees</td>\n",
        "\t\t<td>Saturday Night Fever</td>\n",
        "\t\t<td>1977</td>\n",
        "\t\t<td>1:15:54</td>\n",
        "\t\t<td>Disco</td>\n",
        "\t\t<td>20.6</td>\n",
        "\t\t<td>40</td>\n",
        "\t\t<td>15-Nov-77</td>\n",
        "\t\t<td>Y</td>\n",
        "\t\t<td>9.0</td>\n",
        "\t</tr>\n",
        "\t<tr>\n",
        "\t\t<td>Fleetwood Mac</td>\n",
        "\t\t<td>Rumours</td>\n",
        "\t\t<td>1977</td>\n",
        "\t\t<td>00:40:01</td>\n",
        "\t\t<td>Soft rock</td>\n",
        "\t\t<td>27.9</td>\n",
        "\t\t<td>40</td>\n",
        "\t\t<td>04-Feb-77</td>\n",
        "\t\t<td></td>\n",
        "\t\t<td>9.5</td>\n",
        "\t</tr>\n",
        "</table>\n",
        "</font>"
      ]
    },
    {
      "attachments": {},
      "cell_type": "markdown",
      "metadata": {},
      "source": [
        "## Lists"
      ]
    },
    {
      "attachments": {},
      "cell_type": "markdown",
      "metadata": {},
      "source": [
        "### Indexing"
      ]
    },
    {
      "attachments": {},
      "cell_type": "markdown",
      "metadata": {},
      "source": [
        "A list is a sequenced collection of different objects such as integers, strings and even other lists as well. The address of each element within a list is called an \"index\". An index is used to access and refer to items within a list."
      ]
    },
    {
      "attachments": {},
      "cell_type": "markdown",
      "metadata": {},
      "source": [
        "![list-index.png](../images/list-index.png)"
      ]
    },
    {
      "cell_type": "code",
      "execution_count": 1,
      "metadata": {},
      "outputs": [
        {
          "name": "stdout",
          "output_type": "stream",
          "text": [
            "['Michael Jackson', 10.1, 1982]\n"
          ]
        }
      ],
      "source": [
        "## Create a list\n",
        "mix_list = [\"Michael Jackson\", 10.1, 1982]\n",
        "print(mix_list)"
      ]
    },
    {
      "attachments": {},
      "cell_type": "markdown",
      "metadata": {},
      "source": [
        "We can also use negative indexing with a list."
      ]
    },
    {
      "cell_type": "markdown",
      "metadata": {},
      "source": [
        "<img src=\"https://cf-courses-data.s3.us.cloud-object-storage.appdomain.cloud/IBMDeveloperSkillsNetwork-PY0101EN-SkillsNetwork/labs/Module%202/images/ListsNeg.png\" width=\"1000\" />\n"
      ]
    },
    {
      "cell_type": "code",
      "execution_count": 2,
      "metadata": {},
      "outputs": [
        {
          "name": "stdout",
          "output_type": "stream",
          "text": [
            "3\n",
            "The following pair of positive and negative indices refer to the same element:\n",
            "Negative index: 1982\n",
            "Positive index: 1982\n",
            "The following pair of positive and negative indices refer to the same element:\n",
            "Negative index: 10.1\n",
            "Positive index: 10.1\n",
            "The following pair of positive and negative indices refer to the same element:\n",
            "Negative index: Michael Jackson\n",
            "Positive index: Michael Jackson\n"
          ]
        }
      ],
      "source": [
        "## Length of list\n",
        "print(len(mix_list))\n",
        "## Positive and negative indices\n",
        "print(\"The following pair of positive and negative indices refer to the same element:\")\n",
        "print(f\"Negative index: {mix_list[-1]}\")\n",
        "print(f\"Positive index: {mix_list[2]}\")\n",
        "print(\"The following pair of positive and negative indices refer to the same element:\")\n",
        "print(f\"Negative index: {mix_list[-2]}\")\n",
        "print(f\"Positive index: {mix_list[1]}\")\n",
        "print(\"The following pair of positive and negative indices refer to the same element:\")\n",
        "print(f\"Negative index: {mix_list[-3]}\")\n",
        "print(f\"Positive index: {mix_list[0]}\")"
      ]
    },
    {
      "attachments": {},
      "cell_type": "markdown",
      "metadata": {},
      "source": [
        "### List Content"
      ]
    },
    {
      "attachments": {},
      "cell_type": "markdown",
      "metadata": {},
      "source": [
        "Lists can contain strings, floats, and integers. We can nest other lists, and we can also nest tuples and other data structures. The same indexing conventions apply for nesting."
      ]
    },
    {
      "cell_type": "code",
      "execution_count": 3,
      "metadata": {},
      "outputs": [
        {
          "name": "stdout",
          "output_type": "stream",
          "text": [
            "['Michael Jackson', 10.1, 1982, [1, 2], ('A', 1)]\n"
          ]
        }
      ],
      "source": [
        "## Nested list\n",
        "nested_list = [\"Michael Jackson\", 10.1, 1982, [1, 2], (\"A\", 1)]\n",
        "print(nested_list )"
      ]
    },
    {
      "attachments": {},
      "cell_type": "markdown",
      "metadata": {},
      "source": [
        "### List Operations"
      ]
    },
    {
      "attachments": {},
      "cell_type": "markdown",
      "metadata": {},
      "source": [
        "We can also perform slicing on lists. "
      ]
    },
    {
      "cell_type": "markdown",
      "metadata": {},
      "source": [
        "<img src=\"https://cf-courses-data.s3.us.cloud-object-storage.appdomain.cloud/IBMDeveloperSkillsNetwork-PY0101EN-SkillsNetwork/labs/Module%202/images/ListsSlice.png\" width=\"1000\">\n"
      ]
    },
    {
      "cell_type": "code",
      "execution_count": 4,
      "metadata": {},
      "outputs": [
        {
          "name": "stdout",
          "output_type": "stream",
          "text": [
            "['Michael Jackson', 10.1, 1982, 'MJ', 1]\n",
            "['MJ', 1]\n"
          ]
        }
      ],
      "source": [
        "## Sample list\n",
        "mix_list_1 = [\"Michael Jackson\", 10.1, 1982, \"MJ\", 1]\n",
        "print(mix_list_1)\n",
        "## Slice list\n",
        "print(mix_list_1[3:5])"
      ]
    },
    {
      "attachments": {},
      "cell_type": "markdown",
      "metadata": {},
      "source": [
        "We can use the method `extend()` to add new elements to the list."
      ]
    },
    {
      "cell_type": "code",
      "execution_count": 5,
      "metadata": {},
      "outputs": [
        {
          "name": "stdout",
          "output_type": "stream",
          "text": [
            "['Michael Jackson', 10.2, 'pop', 10]\n"
          ]
        }
      ],
      "source": [
        "## Use extend() to add elements to list\n",
        "mix_list_2 = [\"Michael Jackson\", 10.2]\n",
        "mix_list_2.extend([\"pop\", 10])\n",
        "print(mix_list_2)"
      ]
    },
    {
      "attachments": {},
      "cell_type": "markdown",
      "metadata": {},
      "source": [
        "Another similar method is `append()`. `append()` adds one element, a nested list in this case, to the end of list."
      ]
    },
    {
      "cell_type": "code",
      "execution_count": 6,
      "metadata": {},
      "outputs": [
        {
          "name": "stdout",
          "output_type": "stream",
          "text": [
            "['Michael Jackson', 10.2, ['pop', 10]]\n"
          ]
        }
      ],
      "source": [
        "## Use append() to add elements to list\n",
        "mix_list_2 = [ \"Michael Jackson\", 10.2]\n",
        "mix_list_2.append([\"pop\", 10])\n",
        "print(mix_list_2)"
      ]
    },
    {
      "attachments": {},
      "cell_type": "markdown",
      "metadata": {},
      "source": [
        "Each time we apply these methods, the list changes."
      ]
    },
    {
      "attachments": {},
      "cell_type": "markdown",
      "metadata": {},
      "source": [
        "As lists are mutable, we can change them. "
      ]
    },
    {
      "cell_type": "code",
      "execution_count": 7,
      "metadata": {},
      "outputs": [
        {
          "name": "stdout",
          "output_type": "stream",
          "text": [
            "Before change: ['disco', 10, 1.2]\n",
            "After change: ['hard rock', 10, 1.2]\n"
          ]
        }
      ],
      "source": [
        "## Change element based on index\n",
        "mix_list_3 = [\"disco\", 10, 1.2]\n",
        "print(\"Before change:\", mix_list_3)\n",
        "mix_list_3[0] = 'hard rock'\n",
        "print(\"After change:\", mix_list_3)"
      ]
    },
    {
      "attachments": {},
      "cell_type": "markdown",
      "metadata": {},
      "source": [
        "We can also delete an element of a list using the `del` command."
      ]
    },
    {
      "cell_type": "code",
      "execution_count": 8,
      "metadata": {},
      "outputs": [
        {
          "name": "stdout",
          "output_type": "stream",
          "text": [
            "Before change: ['hard rock', 10, 1.2]\n",
            "After change: [10, 1.2]\n"
          ]
        }
      ],
      "source": [
        "## Delete element based on index\n",
        "print(\"Before change:\", mix_list_3)\n",
        "del mix_list_3[0]\n",
        "print('After change:', mix_list_3)"
      ]
    },
    {
      "attachments": {},
      "cell_type": "markdown",
      "metadata": {},
      "source": [
        "We can convert a string to a list using `split()`. It translates every group of characters separated by a space into an element in a list."
      ]
    },
    {
      "cell_type": "code",
      "execution_count": 9,
      "metadata": {},
      "outputs": [
        {
          "data": {
            "text/plain": [
              "['hard', 'rock']"
            ]
          },
          "execution_count": 9,
          "metadata": {},
          "output_type": "execute_result"
        }
      ],
      "source": [
        "## Split string, default by space\n",
        "\"hard rock\".split()"
      ]
    },
    {
      "attachments": {},
      "cell_type": "markdown",
      "metadata": {},
      "source": [
        "We can use `split()` to separate strings on a specific character which we call a \"delimiter\". We pass the character we would like to split on into the argument, which in this case is a comma. The result is a list and each element corresponds to a set of characters that have been separated by a comma."
      ]
    },
    {
      "cell_type": "code",
      "execution_count": 10,
      "metadata": {},
      "outputs": [
        {
          "data": {
            "text/plain": [
              "['A', 'B', 'C', 'D']"
            ]
          },
          "execution_count": 10,
          "metadata": {},
          "output_type": "execute_result"
        }
      ],
      "source": [
        "## Split string by comma\n",
        "\"A,B,C,D\".split(\",\")"
      ]
    },
    {
      "attachments": {},
      "cell_type": "markdown",
      "metadata": {},
      "source": [
        "### Copy and Clone List"
      ]
    },
    {
      "attachments": {},
      "cell_type": "markdown",
      "metadata": {},
      "source": [
        "Both of the lists below refer to the same list in memory."
      ]
    },
    {
      "cell_type": "code",
      "execution_count": 11,
      "metadata": {},
      "outputs": [
        {
          "name": "stdout",
          "output_type": "stream",
          "text": [
            "A: ['hard rock', 10, 1.2]\n",
            "B: ['hard rock', 10, 1.2]\n"
          ]
        }
      ],
      "source": [
        "## Copy (by reference) the list\n",
        "list_a = [\"hard rock\", 10, 1.2]\n",
        "list_b = list_a\n",
        "print(\"A:\", list_a)\n",
        "print(\"B:\", list_b)"
      ]
    },
    {
      "cell_type": "markdown",
      "metadata": {},
      "source": [
        "<img src=\"https://cf-courses-data.s3.us.cloud-object-storage.appdomain.cloud/IBMDeveloperSkillsNetwork-PY0101EN-SkillsNetwork/labs/Module%202/images/ListsRef.png\" width=\"1000\" align=\"center\">\n"
      ]
    },
    {
      "attachments": {},
      "cell_type": "markdown",
      "metadata": {},
      "source": [
        "Initially, the value of the 1st element in `list_b` is set as \"hard rock\". If we change the 1st element in `list_a` to `\"banana\"`, we get an unexpected side effect. As both `list_a` and `list_b` refer to the same list, if we change list `list_a`, then `list_b` also changes. If we check the 1st element of `list_b`, we get `\"banana\"` instead of `\"hard rock\"`."
      ]
    },
    {
      "cell_type": "code",
      "execution_count": 12,
      "metadata": {},
      "outputs": [
        {
          "name": "stdout",
          "output_type": "stream",
          "text": [
            "hard rock\n",
            "banana\n"
          ]
        }
      ],
      "source": [
        "## Examine the copy by reference\n",
        "print(list_b[0])\n",
        "list_a[0] = \"banana\"\n",
        "print(list_b[0])"
      ]
    },
    {
      "attachments": {},
      "cell_type": "markdown",
      "metadata": {},
      "source": [
        "This is demonstrated below.\n",
        "\n",
        "<img src = \"https://cf-courses-data.s3.us.cloud-object-storage.appdomain.cloud/IBMDeveloperSkillsNetwork-PY0101EN-SkillsNetwork/labs/Module%202/images/ListsRefGif.gif\" width=\"1000\" />"
      ]
    },
    {
      "attachments": {},
      "cell_type": "markdown",
      "metadata": {},
      "source": [
        "We can clone a list using the following syntax."
      ]
    },
    {
      "cell_type": "code",
      "execution_count": 13,
      "metadata": {},
      "outputs": [
        {
          "name": "stdout",
          "output_type": "stream",
          "text": [
            "['banana', 10, 1.2]\n"
          ]
        }
      ],
      "source": [
        "## Clone (by value) the list \n",
        "list_b = list_a[:]\n",
        "print(list_b)"
      ]
    },
    {
      "attachments": {},
      "cell_type": "markdown",
      "metadata": {},
      "source": [
        "Variable `list_b` references a new copy or clone of the original list. The 2 variables refer to different objects."
      ]
    },
    {
      "attachments": {},
      "cell_type": "markdown",
      "metadata": {},
      "source": [
        "This is demonstrated below.\n",
        "\n",
        "<img src=\"https://cf-courses-data.s3.us.cloud-object-storage.appdomain.cloud/IBMDeveloperSkillsNetwork-PY0101EN-SkillsNetwork/labs/Module%202/images/ListsVal.gif\" width=\"1000\" />"
      ]
    },
    {
      "cell_type": "markdown",
      "metadata": {},
      "source": [
        "Now if you change <b>A</b>, <b>B</b> will not change:\n"
      ]
    },
    {
      "cell_type": "code",
      "execution_count": 14,
      "metadata": {},
      "outputs": [
        {
          "name": "stdout",
          "output_type": "stream",
          "text": [
            "['banana', 10, 1.2]\n",
            "['banana', 10, 1.2]\n",
            "banana\n",
            "banana\n"
          ]
        }
      ],
      "source": [
        "print(list_a)\n",
        "print(list_b)\n",
        "## Examine the copy by reference\n",
        "print(list_b[0])\n",
        "list_a[0] = \"apple\"\n",
        "print(list_b[0])"
      ]
    },
    {
      "attachments": {},
      "cell_type": "markdown",
      "metadata": {},
      "source": [
        "---"
      ]
    },
    {
      "attachments": {},
      "cell_type": "markdown",
      "metadata": {},
      "source": [
        "## Exercises"
      ]
    },
    {
      "attachments": {},
      "cell_type": "markdown",
      "metadata": {},
      "source": [
        "1. Create a list with the following elements `1`, `\"hello\"`, `[1, 2, 3]` and `True`."
      ]
    },
    {
      "cell_type": "code",
      "execution_count": 15,
      "metadata": {},
      "outputs": [],
      "source": [
        "a_list = [1, \"hello\", [1, 2, 3], True]"
      ]
    },
    {
      "attachments": {},
      "cell_type": "markdown",
      "metadata": {},
      "source": [
        "<details><summary>Click here for the solution</summary>\n",
        "\n",
        "```python\n",
        "a_list = [1, 'hello', [1, 2, 3] , True]\n",
        "a_list\n",
        "```\n",
        "\n",
        "</details>"
      ]
    },
    {
      "attachments": {},
      "cell_type": "markdown",
      "metadata": {},
      "source": [
        "2. Find the value stored at index 1 of the list."
      ]
    },
    {
      "cell_type": "code",
      "execution_count": 16,
      "metadata": {},
      "outputs": [
        {
          "name": "stdout",
          "output_type": "stream",
          "text": [
            "hello\n"
          ]
        }
      ],
      "source": [
        "print(a_list[1])"
      ]
    },
    {
      "attachments": {},
      "cell_type": "markdown",
      "metadata": {},
      "source": [
        "<details><summary>Click here for the solution</summary>\n",
        "\n",
        "```python\n",
        "a_list[1]\n",
        "```\n",
        "\n",
        "</details>"
      ]
    },
    {
      "attachments": {},
      "cell_type": "markdown",
      "metadata": {},
      "source": [
        "3. Retrieve the elements stored at index 1, 2 and 3 of the list."
      ]
    },
    {
      "cell_type": "code",
      "execution_count": 17,
      "metadata": {},
      "outputs": [
        {
          "name": "stdout",
          "output_type": "stream",
          "text": [
            "['hello', [1, 2, 3], True]\n"
          ]
        }
      ],
      "source": [
        "print(a_list[1:4])"
      ]
    },
    {
      "attachments": {},
      "cell_type": "markdown",
      "metadata": {},
      "source": [
        "<details><summary>Click here for the solution</summary>\n",
        "\n",
        "```python\n",
        "a_list[1:4]\n",
        "```\n",
        "\n",
        "</details>"
      ]
    },
    {
      "attachments": {},
      "cell_type": "markdown",
      "metadata": {},
      "source": [
        "4. Concatenate the following lists.\n",
        "```python\n",
        "A = [1, 'a']\n",
        "B = [2, 1, 'd']\n",
        "```"
      ]
    },
    {
      "cell_type": "code",
      "execution_count": 18,
      "metadata": {
        "collapsed": true,
        "jupyter": {
          "outputs_hidden": true
        }
      },
      "outputs": [
        {
          "name": "stdout",
          "output_type": "stream",
          "text": [
            "[1, 'a', 2, 1, 'd']\n"
          ]
        }
      ],
      "source": [
        "A = [1, 'a']\n",
        "B = [2, 1, 'd']\n",
        "print(A + B)"
      ]
    },
    {
      "attachments": {},
      "cell_type": "markdown",
      "metadata": {},
      "source": [
        "<details><summary>Click here for the solution</summary>\n",
        "\n",
        "```python\n",
        "A = [1, 'a'] \n",
        "B = [2, 1, 'd']\n",
        "A + B\n",
        "```\n",
        "\n",
        "</details>"
      ]
    },
    {
      "attachments": {},
      "cell_type": "markdown",
      "metadata": {},
      "source": [
        "---"
      ]
    },
    {
      "attachments": {},
      "cell_type": "markdown",
      "metadata": {},
      "source": [
        "Author(s):\n",
        "\n",
        "- [Joseph Santarcangelo](https://www.linkedin.com/in/joseph-s-50398b136/?utm_medium=Exinfluencer&utm_source=Exinfluencer&utm_content=000026UJ&utm_term=10006555&utm_id=NA-SkillsNetwork-Channel-SkillsNetworkCoursesIBMDeveloperSkillsNetworkPY0101ENSkillsNetwork19487395-2022-01-01)\n",
        "\n",
        "Other Contributor(s):\n",
        "\n",
        "- [Mavis Zhou](https://www.linkedin.com/in/jiahui-mavis-zhou-a4537814a?utm_medium=Exinfluencer&utm_source=Exinfluencer&utm_content=000026UJ&utm_term=10006555&utm_id=NA-SkillsNetwork-Channel-SkillsNetworkCoursesIBMDeveloperSkillsNetworkPY0101ENSkillsNetwork19487395-2022-01-01)"
      ]
    }
  ],
  "metadata": {
    "kernelspec": {
      "display_name": "base",
      "language": "python",
      "name": "python3"
    },
    "language_info": {
      "codemirror_mode": {
        "name": "ipython",
        "version": 3
      },
      "file_extension": ".py",
      "mimetype": "text/x-python",
      "name": "python",
      "nbconvert_exporter": "python",
      "pygments_lexer": "ipython3",
      "version": "3.8.13"
    },
    "vscode": {
      "interpreter": {
        "hash": "2011e8f1b66e4ca782a16183c079a9a8ceaa771eb94b3143f514bb5560527e59"
      }
    }
  },
  "nbformat": 4,
  "nbformat_minor": 4
}
