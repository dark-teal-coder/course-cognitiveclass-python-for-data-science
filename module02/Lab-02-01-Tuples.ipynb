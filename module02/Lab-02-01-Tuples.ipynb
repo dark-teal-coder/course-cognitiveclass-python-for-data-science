{
  "cells": [
    {
      "attachments": {},
      "cell_type": "markdown",
      "metadata": {},
      "source": [
        "# Tuples\n",
        "\n",
        "Estimated time needed: **15** minutes\n",
        "\n",
        "## Objectives\n",
        "\n",
        "After completing this lab you will be able to:\n",
        "\n",
        "*   Perform the basics tuple operations in Python, including indexing, slicing and sorting\n",
        "\n",
        "## Table of Contents\n",
        "\n",
        "<div class=\"alert alert-block alert-info\" style=\"margin-top: 20px\">\n",
        "    <ul>\n",
        "        <li>\n",
        "            <a href=\"https://#dataset\">About the Dataset</a>\n",
        "        </li>\n",
        "        <li>\n",
        "            <a href=\"https://#tuple\">Tuples</a>\n",
        "            <ul>\n",
        "                <li><a href=\"https://index/?utm_medium=Exinfluencer&utm_source=Exinfluencer&utm_content=000026UJ&utm_term=10006555&utm_id=NA-SkillsNetwork-Channel-SkillsNetworkCoursesIBMDeveloperSkillsNetworkPY0101ENSkillsNetwork19487395-2022-01-01\">Indexing</a></li>\n",
        "                <li><a href=\"https://slice/?utm_medium=Exinfluencer&utm_source=Exinfluencer&utm_content=000026UJ&utm_term=10006555&utm_id=NA-SkillsNetwork-Channel-SkillsNetworkCoursesIBMDeveloperSkillsNetworkPY0101ENSkillsNetwork19487395-2022-01-01\">Slicing</a></li>\n",
        "                <li><a href=\"https://sort/?utm_medium=Exinfluencer&utm_source=Exinfluencer&utm_content=000026UJ&utm_term=10006555&utm_id=NA-SkillsNetwork-Channel-SkillsNetworkCoursesIBMDeveloperSkillsNetworkPY0101ENSkillsNetwork19487395-2022-01-01\">Sorting</a></li>\n",
        "            </ul>\n",
        "        </li>\n",
        "        <li>\n",
        "            <a href=\"https://#escape\">Quiz on Tuples</a>\n",
        "        </li>\n",
        "    </ul>\n",
        "\n",
        "</div>"
      ]
    },
    {
      "attachments": {},
      "cell_type": "markdown",
      "metadata": {},
      "source": [
        "---"
      ]
    },
    {
      "attachments": {},
      "cell_type": "markdown",
      "metadata": {},
      "source": [
        "## About the Dataset"
      ]
    },
    {
      "cell_type": "markdown",
      "metadata": {},
      "source": [
        "We will use the dataset about music album below."
      ]
    },
    {
      "cell_type": "markdown",
      "metadata": {},
      "source": [
        "The table has one row for each album and several columns.\n",
        "\n",
        "- `Artist`\n",
        "  - Artist name\n",
        "- `Album`\n",
        "  - Album name\n",
        "- `Released`\n",
        "  - Year the album was released\n",
        "- `Length`\n",
        "  - Length of the album (hours, minutes, seconds)\n",
        "- `Genre`\n",
        "  - Genre of the album\n",
        "- `Music Recording Sales (millions)`\n",
        "  - Music recording sales (millions in USD) on [song-database.com](http://www.song-database.com/?utm_medium=Exinfluencer&utm_source=Exinfluencer&utm_content=000026UJ&utm_term=10006555&utm_id=NA-SkillsNetwork-Channel-SkillsNetworkCoursesIBMDeveloperSkillsNetworkPY0101ENSkillsNetwork1005-2022-01-01)\n",
        "- `Claimed Sales (millions)`\n",
        "  - Album's claimed sales (millions in USD) on [song-database.com](http://www.song-database.com/?utm_medium=Exinfluencer&utm_source=Exinfluencer&utm_content=000026UJ&utm_term=10006555&utm_id=NA-SkillsNetwork-Channel-SkillsNetworkCoursesIBMDeveloperSkillsNetworkPY0101ENSkillsNetwork1005-2022-01-01)\n",
        "- `Released.1`\n",
        "  - Release date of the album\n",
        "- `Soundtrack`\n",
        "  - Whether the album is the movie soundtrack (Y) or (N)\n",
        "- `Rating`\n",
        "  - Rating from friends from 1 to 10"
      ]
    },
    {
      "cell_type": "markdown",
      "metadata": {},
      "source": [
        "See the dataset here:\n",
        "\n",
        "<font size=\"1\">\n",
        "<table font-size:xx-small>\n",
        "\t<tr>\n",
        "\t\t<th>Artist</th>\n",
        "\t\t<th>Album</th>\n",
        "\t\t<th>Released</th>\n",
        "\t\t<th>Length</th>\n",
        "\t\t<th>Genre</th>\n",
        "\t\t<th>Music Recording Sales (millions)</th>\n",
        "\t\t<th>Claimed Sales (millions)</th>\n",
        "\t\t<th>Released.1</th>\n",
        "\t\t<th>Soundtrack</th>\n",
        "\t\t<th>Rating</th>\n",
        "\t</tr>\n",
        "\t<tr>\n",
        "\t\t<td>Michael Jackson</td>\n",
        "\t\t<td>Thriller</td>\n",
        "\t\t<td>1982</td>\n",
        "\t\t<td>00:42:19</td>\n",
        "\t\t<td>Pop, rock, R&B</td>\n",
        "\t\t<td>46</td>\n",
        "\t\t<td>65</td>\n",
        "\t\t<td>30-Nov-82</td>\n",
        "\t\t<td></td>\n",
        "\t\t<td>10.0</td>\n",
        "\t</tr>\n",
        "\t<tr>\n",
        "\t\t<td>AC/DC</td>\n",
        "\t\t<td>Back in Black</td>\n",
        "\t\t<td>1980</td>\n",
        "\t\t<td>00:42:11</td>\n",
        "\t\t<td>Hard rock</td>\n",
        "\t\t<td>26.1</td>\n",
        "\t\t<td>50</td>\n",
        "\t\t<td>25-Jul-80</td>\n",
        "\t\t<td></td>\n",
        "\t\t<td>8.5</td>\n",
        "\t</tr>\n",
        "\t<tr>\n",
        "\t\t<td>Pink Floyd</td>\n",
        "\t\t<td>The Dark Side of the Moon</td>\n",
        "\t\t<td>1973</td>\n",
        "\t\t<td>00:42:49</td>\n",
        "\t\t<td>Progressive rock</td>\n",
        "\t\t<td>24.2</td>\n",
        "\t\t<td>45</td>\n",
        "\t\t<td>01-Mar-73</td>\n",
        "\t\t<td></td>\n",
        "\t\t<td>9.5</td>\n",
        "\t</tr>\n",
        "\t<tr>\n",
        "\t\t<td>Whitney Houston</td>\n",
        "\t\t<td>The Bodyguard</td>\n",
        "\t\t<td>1992</td>\n",
        "\t\t<td>00:57:44</td>\n",
        "\t\t<td>Soundtrack/R&B, soul, pop</td>\n",
        "\t\t<td>26.1</td>\n",
        "\t\t<td>50</td>\n",
        "\t\t<td>25-Jul-80</td>\n",
        "\t\t<td>Y</td>\n",
        "\t\t<td>7.0</td>\n",
        "\t</tr>\n",
        "\t<tr>\n",
        "\t\t<td>Meat Loaf</td>\n",
        "\t\t<td>Bat Out of Hell</td>\n",
        "\t\t<td>1977</td>\n",
        "\t\t<td>00:46:33</td>\n",
        "\t\t<td>Hard rock, progressive rock</td>\n",
        "\t\t<td>20.6</td>\n",
        "\t\t<td>43</td>\n",
        "\t\t<td>21-Oct-77</td>\n",
        "\t\t<td></td>\n",
        "\t\t<td>7.0</td>\n",
        "\t</tr>\n",
        "\t<tr>\n",
        "\t\t<td>Eagles</td>\n",
        "\t\t<td>Their Greatest Hits (1971-1975)</td>\n",
        "\t\t<td>1976</td>\n",
        "\t\t<td>00:43:08</td>\n",
        "\t\t<td>Rock, soft rock, folk rock</td>\n",
        "\t\t<td>32.2</td>\n",
        "\t\t<td>42</td>\n",
        "\t\t<td>17-Feb-76</td>\n",
        "\t\t<td></td>\n",
        "\t\t<td>9.5</td>\n",
        "\t</tr>\n",
        "\t<tr>\n",
        "\t\t<td>Bee Gees</td>\n",
        "\t\t<td>Saturday Night Fever</td>\n",
        "\t\t<td>1977</td>\n",
        "\t\t<td>1:15:54</td>\n",
        "\t\t<td>Disco</td>\n",
        "\t\t<td>20.6</td>\n",
        "\t\t<td>40</td>\n",
        "\t\t<td>15-Nov-77</td>\n",
        "\t\t<td>Y</td>\n",
        "\t\t<td>9.0</td>\n",
        "\t</tr>\n",
        "\t<tr>\n",
        "\t\t<td>Fleetwood Mac</td>\n",
        "\t\t<td>Rumours</td>\n",
        "\t\t<td>1977</td>\n",
        "\t\t<td>00:40:01</td>\n",
        "\t\t<td>Soft rock</td>\n",
        "\t\t<td>27.9</td>\n",
        "\t\t<td>40</td>\n",
        "\t\t<td>04-Feb-77</td>\n",
        "\t\t<td></td>\n",
        "\t\t<td>9.5</td>\n",
        "\t</tr>\n",
        "</table>\n",
        "</font>"
      ]
    },
    {
      "attachments": {},
      "cell_type": "markdown",
      "metadata": {},
      "source": [
        "## Tuples"
      ]
    },
    {
      "attachments": {},
      "cell_type": "markdown",
      "metadata": {},
      "source": [
        "In Python, there are different data types: string, integer, and float. These data types can all be contained in a tuple."
      ]
    },
    {
      "cell_type": "markdown",
      "metadata": {},
      "source": [
        "<img src=\"https://cf-courses-data.s3.us.cloud-object-storage.appdomain.cloud/IBMDeveloperSkillsNetwork-PY0101EN-SkillsNetwork/labs/Module%202/images/TuplesType.png\" width=\"750\" align=\"center\" />\n"
      ]
    },
    {
      "attachments": {},
      "cell_type": "markdown",
      "metadata": {},
      "source": [
        "Now, let us create our 1st tuple with string, integer and float."
      ]
    },
    {
      "cell_type": "code",
      "execution_count": 1,
      "metadata": {
        "trusted": true
      },
      "outputs": [
        {
          "name": "stdout",
          "output_type": "stream",
          "text": [
            "('disco', 10, 1.2)\n"
          ]
        }
      ],
      "source": [
        "## Create tuple\n",
        "tuple1 = (\"disco\", 10, 1.2)\n",
        "print(tuple1)"
      ]
    },
    {
      "cell_type": "code",
      "execution_count": 2,
      "metadata": {
        "trusted": true
      },
      "outputs": [
        {
          "name": "stdout",
          "output_type": "stream",
          "text": [
            "<class 'tuple'>\n"
          ]
        }
      ],
      "source": [
        "## Print data type\n",
        "print(type(tuple1))"
      ]
    },
    {
      "attachments": {},
      "cell_type": "markdown",
      "metadata": {},
      "source": [
        "### Indexing"
      ]
    },
    {
      "attachments": {},
      "cell_type": "markdown",
      "metadata": {},
      "source": [
        "Each element of a tuple can be accessed via an index. The following table represents the relationship between the index and the items in the tuple. Each element can be obtained by the name of the tuple followed by a square bracket with the index number."
      ]
    },
    {
      "attachments": {},
      "cell_type": "markdown",
      "metadata": {},
      "source": [
        "<center><img src=\"https://cf-courses-data.s3.us.cloud-object-storage.appdomain.cloud/IBMDeveloperSkillsNetwork-PY0101EN-SkillsNetwork/labs/Module%202/images/TuplesIndex.gif\" width=\"750\" /></center>"
      ]
    },
    {
      "attachments": {},
      "cell_type": "markdown",
      "metadata": {},
      "source": [
        "We can print out each value in the tuple."
      ]
    },
    {
      "cell_type": "code",
      "execution_count": 3,
      "metadata": {
        "trusted": true
      },
      "outputs": [
        {
          "name": "stdout",
          "output_type": "stream",
          "text": [
            "disco\n",
            "10\n",
            "1.2\n"
          ]
        }
      ],
      "source": [
        "## Print each value in the tuple\n",
        "print(tuple1[0])\n",
        "print(tuple1[1])\n",
        "print(tuple1[2])"
      ]
    },
    {
      "cell_type": "code",
      "execution_count": 4,
      "metadata": {
        "trusted": true
      },
      "outputs": [
        {
          "name": "stdout",
          "output_type": "stream",
          "text": [
            "<class 'str'>\n",
            "<class 'int'>\n",
            "<class 'float'>\n"
          ]
        }
      ],
      "source": [
        "## Print type of each value in the tuple\n",
        "print(type(tuple1[0]))\n",
        "print(type(tuple1[1]))\n",
        "print(type(tuple1[2]))"
      ]
    },
    {
      "attachments": {},
      "cell_type": "markdown",
      "metadata": {},
      "source": [
        "We can also use negative indexing to access tuple elements. "
      ]
    },
    {
      "cell_type": "markdown",
      "metadata": {},
      "source": [
        "<img src=\"https://cf-courses-data.s3.us.cloud-object-storage.appdomain.cloud/IBMDeveloperSkillsNetwork-PY0101EN-SkillsNetwork/labs/Module%202/images/TuplesNeg.png\" width=\"750\" align=\"center\">\n"
      ]
    },
    {
      "attachments": {},
      "cell_type": "markdown",
      "metadata": {},
      "source": [
        "We can obtain the last element in the tuple as follows."
      ]
    },
    {
      "cell_type": "code",
      "execution_count": 5,
      "metadata": {
        "trusted": true
      },
      "outputs": [
        {
          "name": "stdout",
          "output_type": "stream",
          "text": [
            "1.2\n"
          ]
        }
      ],
      "source": [
        "## Use negative indexing to access the last element in the tuple\n",
        "print(tuple1[-1])"
      ]
    },
    {
      "attachments": {},
      "cell_type": "markdown",
      "metadata": {},
      "source": [
        "We can display the 2nd last element as follows."
      ]
    },
    {
      "cell_type": "code",
      "execution_count": 6,
      "metadata": {
        "trusted": true
      },
      "outputs": [
        {
          "name": "stdout",
          "output_type": "stream",
          "text": [
            "10\n"
          ]
        }
      ],
      "source": [
        "## Use negative indexing to access the 2nd last element in the tuple\n",
        "print(tuple1[-2])"
      ]
    },
    {
      "cell_type": "code",
      "execution_count": 7,
      "metadata": {
        "trusted": true
      },
      "outputs": [
        {
          "name": "stdout",
          "output_type": "stream",
          "text": [
            "disco\n"
          ]
        }
      ],
      "source": [
        "## Use negative indexing to access the 3rd last element in the tuple\n",
        "print(tuple1[-3])"
      ]
    },
    {
      "attachments": {},
      "cell_type": "markdown",
      "metadata": {},
      "source": [
        "### Concatenating Tuples"
      ]
    },
    {
      "attachments": {},
      "cell_type": "markdown",
      "metadata": {},
      "source": [
        "We can concatenate or combine tuples by using the `+` sign."
      ]
    },
    {
      "cell_type": "code",
      "execution_count": 8,
      "metadata": {
        "trusted": true
      },
      "outputs": [
        {
          "name": "stdout",
          "output_type": "stream",
          "text": [
            "('disco', 10, 1.2, 'hard rock', 10)\n"
          ]
        }
      ],
      "source": [
        "## Concatenate tuples\n",
        "tuple2 = tuple1 + (\"hard rock\", 10)\n",
        "print(tuple2)"
      ]
    },
    {
      "attachments": {},
      "cell_type": "markdown",
      "metadata": {},
      "source": [
        "### Slicing"
      ]
    },
    {
      "cell_type": "markdown",
      "metadata": {},
      "source": [
        "We can obtain the length of a tuple using `len()`."
      ]
    },
    {
      "cell_type": "code",
      "execution_count": 9,
      "metadata": {},
      "outputs": [
        {
          "name": "stdout",
          "output_type": "stream",
          "text": [
            "5\n"
          ]
        }
      ],
      "source": [
        "## Get the length of tuple\n",
        "print(len(tuple2))"
      ]
    },
    {
      "cell_type": "markdown",
      "metadata": {},
      "source": [
        "This figure below shows the number of elements.\n",
        "\n",
        "<img src=\"https://cf-courses-data.s3.us.cloud-object-storage.appdomain.cloud/IBMDeveloperSkillsNetwork-PY0101EN-SkillsNetwork/labs/Module%202/images/TuplesElement.png\" width=\"750\" align=\"center\">"
      ]
    },
    {
      "attachments": {},
      "cell_type": "markdown",
      "metadata": {},
      "source": [
        "We can slice tuples obtaining multiple values."
      ]
    },
    {
      "attachments": {},
      "cell_type": "markdown",
      "metadata": {},
      "source": [
        "Illustrated below:\n",
        "\n",
        "<img src=\"https://cf-courses-data.s3.us.cloud-object-storage.appdomain.cloud/IBMDeveloperSkillsNetwork-PY0101EN-SkillsNetwork/labs/Module%202/images/TuplesSlice.gif\" width=\"750\" align=\"center\">"
      ]
    },
    {
      "attachments": {},
      "cell_type": "markdown",
      "metadata": {},
      "source": [
        "We can slice tuples, obtaining new tuples with the corresponding elements."
      ]
    },
    {
      "cell_type": "code",
      "execution_count": 10,
      "metadata": {
        "trusted": true
      },
      "outputs": [
        {
          "name": "stdout",
          "output_type": "stream",
          "text": [
            "('disco', 10, 1.2)\n"
          ]
        }
      ],
      "source": [
        "## Slice tuple\n",
        "print(tuple2[0:3])"
      ]
    },
    {
      "attachments": {},
      "cell_type": "markdown",
      "metadata": {},
      "source": [
        "We can obtain the last 2 elements of the tuple below."
      ]
    },
    {
      "cell_type": "code",
      "execution_count": 11,
      "metadata": {
        "trusted": true
      },
      "outputs": [
        {
          "name": "stdout",
          "output_type": "stream",
          "text": [
            "('hard rock', 10)\n"
          ]
        }
      ],
      "source": [
        "## Slice tuple\n",
        "print(tuple2[3:5])"
      ]
    },
    {
      "attachments": {},
      "cell_type": "markdown",
      "metadata": {},
      "source": [
        "### Sorting"
      ]
    },
    {
      "cell_type": "markdown",
      "metadata": {},
      "source": [
        "We can sort the values in a tuple and save it to a new tuple."
      ]
    },
    {
      "cell_type": "code",
      "execution_count": 12,
      "metadata": {
        "trusted": true
      },
      "outputs": [
        {
          "name": "stdout",
          "output_type": "stream",
          "text": [
            "[0, 2, 5, 6, 6, 8, 9, 9, 10]\n"
          ]
        }
      ],
      "source": [
        "## Create tuple\n",
        "ratings = (0, 9, 6, 5, 10, 8, 9, 6, 2)\n",
        "## Sort tuple\n",
        "ratings_sorted = sorted(ratings)\n",
        "print(ratings_sorted)"
      ]
    },
    {
      "attachments": {},
      "cell_type": "markdown",
      "metadata": {},
      "source": [
        "### Nested Tuple"
      ]
    },
    {
      "attachments": {},
      "cell_type": "markdown",
      "metadata": {},
      "source": [
        "A tuple can contain another tuple as well as other more complex data types. This process is called 'nesting'. Consider the following tuple with several elements:"
      ]
    },
    {
      "cell_type": "code",
      "execution_count": 13,
      "metadata": {
        "trusted": true
      },
      "outputs": [],
      "source": [
        "## Create nested tuple\n",
        "nested_tup =(1, 2, (\"pop\", \"rock\"), (3, 4), (\"disco\", (1, 2)))"
      ]
    },
    {
      "attachments": {},
      "cell_type": "markdown",
      "metadata": {},
      "source": [
        "Each element in the tuple, including other tuples, can be obtained via an index."
      ]
    },
    {
      "attachments": {},
      "cell_type": "markdown",
      "metadata": {},
      "source": [
        "<img src=\"https://cf-courses-data.s3.us.cloud-object-storage.appdomain.cloud/IBMDeveloperSkillsNetwork-PY0101EN-SkillsNetwork/labs/Module%202/images/TuplesNestOne.png\" width=\"750\" align=\"center\">"
      ]
    },
    {
      "cell_type": "code",
      "execution_count": 14,
      "metadata": {
        "trusted": true
      },
      "outputs": [
        {
          "name": "stdout",
          "output_type": "stream",
          "text": [
            "1st element of tuple:  1\n",
            "2nd element of tuple:  2\n",
            "3rd element of tuple:  ('pop', 'rock')\n",
            "4th element of tuple:  (3, 4)\n",
            "5th element of tuple:  ('disco', (1, 2))\n"
          ]
        }
      ],
      "source": [
        "## Print each element in tuple\n",
        "print(\"1st element of tuple: \", nested_tup[0])\n",
        "print(\"2nd element of tuple: \", nested_tup[1])\n",
        "print(\"3rd element of tuple: \", nested_tup[2])\n",
        "print(\"4th element of tuple: \", nested_tup[3])\n",
        "print(\"5th element of tuple: \", nested_tup[4])"
      ]
    },
    {
      "attachments": {},
      "cell_type": "markdown",
      "metadata": {},
      "source": [
        "We can use the 2nd index to access other tuples."
      ]
    },
    {
      "attachments": {},
      "cell_type": "markdown",
      "metadata": {},
      "source": [
        "Demonstrated in the figure below: \n",
        "\n",
        "<img src=\"https://cf-courses-data.s3.us.cloud-object-storage.appdomain.cloud/IBMDeveloperSkillsNetwork-PY0101EN-SkillsNetwork/labs/Module%202/images/TuplesNestTwo.png\" width=\"750\" align=\"center\">"
      ]
    },
    {
      "attachments": {},
      "cell_type": "markdown",
      "metadata": {},
      "source": [
        "We can access nested tuples."
      ]
    },
    {
      "cell_type": "code",
      "execution_count": 15,
      "metadata": {
        "trusted": true
      },
      "outputs": [
        {
          "name": "stdout",
          "output_type": "stream",
          "text": [
            "Element 2, 0 of tuple:  pop\n",
            "Element 2, 1 of tuple:  rock\n",
            "Element 3, 0 of tuple:  3\n",
            "Element 3, 1 of tuple:  4\n",
            "Element 4, 0 of tuple:  disco\n",
            "Element 4, 1 of tuple:  (1, 2)\n"
          ]
        }
      ],
      "source": [
        "## Print element each element, including those nested indices\n",
        "print(\"Element 2, 0 of tuple: \", nested_tup[2][0])\n",
        "print(\"Element 2, 1 of tuple: \", nested_tup[2][1])\n",
        "print(\"Element 3, 0 of tuple: \", nested_tup[3][0])\n",
        "print(\"Element 3, 1 of tuple: \", nested_tup[3][1])\n",
        "print(\"Element 4, 0 of tuple: \", nested_tup[4][0])\n",
        "print(\"Element 4, 1 of tuple: \", nested_tup[4][1])"
      ]
    },
    {
      "attachments": {},
      "cell_type": "markdown",
      "metadata": {},
      "source": [
        "We can access strings in the 2nd nested tuple using a 3rd index."
      ]
    },
    {
      "cell_type": "code",
      "execution_count": 16,
      "metadata": {
        "trusted": true
      },
      "outputs": [
        {
          "name": "stdout",
          "output_type": "stream",
          "text": [
            "r\n"
          ]
        }
      ],
      "source": [
        "## Print string the 1st element in the 2nd nested tuple\n",
        "print(nested_tup[2][1][0])"
      ]
    },
    {
      "cell_type": "code",
      "execution_count": 17,
      "metadata": {
        "trusted": true
      },
      "outputs": [
        {
          "name": "stdout",
          "output_type": "stream",
          "text": [
            "o\n"
          ]
        }
      ],
      "source": [
        "## Print the 2nd element in the 2nd nested tuple\n",
        "print(nested_tup[2][1][1])"
      ]
    },
    {
      "attachments": {},
      "cell_type": "markdown",
      "metadata": {},
      "source": [
        "We can use a tree to visualise the process. Each new index corresponds to a deeper level in the tree."
      ]
    },
    {
      "attachments": {},
      "cell_type": "markdown",
      "metadata": {},
      "source": [
        "<img src=\"https://cf-courses-data.s3.us.cloud-object-storage.appdomain.cloud/IBMDeveloperSkillsNetwork-PY0101EN-SkillsNetwork/labs/Module%202/images/TuplesNestThree.gif\" width=\"750\" align=\"center\">"
      ]
    },
    {
      "attachments": {},
      "cell_type": "markdown",
      "metadata": {},
      "source": [
        "Similarly, we can access elements nested deeper in the tree with a 3rd index."
      ]
    },
    {
      "cell_type": "code",
      "execution_count": 18,
      "metadata": {
        "trusted": true
      },
      "outputs": [
        {
          "name": "stdout",
          "output_type": "stream",
          "text": [
            "1\n",
            "2\n"
          ]
        }
      ],
      "source": [
        "## Print the 1st element in the 2nd nested tuple\n",
        "print(nested_tup[4][1][0])\n",
        "## Print the 2nd element in the 2nd nested tuple\n",
        "print(nested_tup[4][1][1])"
      ]
    },
    {
      "attachments": {},
      "cell_type": "markdown",
      "metadata": {},
      "source": [
        "The following figure shows the relationship of the tree and the element `nested_tup[4][1][1]`.\n",
        "\n",
        "<img src=\"https://cf-courses-data.s3.us.cloud-object-storage.appdomain.cloud/IBMDeveloperSkillsNetwork-PY0101EN-SkillsNetwork/labs/Module%202/images/TuplesNestFour.gif\" width=\"750\" align=\"center\">"
      ]
    },
    {
      "attachments": {},
      "cell_type": "markdown",
      "metadata": {},
      "source": [
        "## Exercises"
      ]
    },
    {
      "attachments": {},
      "cell_type": "markdown",
      "metadata": {},
      "source": [
        "1. Consider the following tuple. Find the length of the tuple.\n",
        "\n",
        "```python\n",
        "genres_tuple = (\"pop\", \"rock\", \"soul\", \"hard rock\", \"soft rock\", \"R&B\", \"progressive rock\", \"disco\")\n",
        "```"
      ]
    },
    {
      "cell_type": "code",
      "execution_count": 19,
      "metadata": {
        "trusted": true
      },
      "outputs": [],
      "source": [
        "genres_tuple = (\"pop\", \"rock\", \"soul\", \"hard rock\", \"soft rock\", \"R&B\", \"progressive rock\", \"disco\")"
      ]
    },
    {
      "cell_type": "code",
      "execution_count": 20,
      "metadata": {
        "trusted": true
      },
      "outputs": [
        {
          "name": "stdout",
          "output_type": "stream",
          "text": [
            "8\n"
          ]
        }
      ],
      "source": [
        "print(len(genres_tuple))"
      ]
    },
    {
      "attachments": {},
      "cell_type": "markdown",
      "metadata": {},
      "source": [
        "<details><summary>Click here for the solution</summary>\n",
        "\n",
        "```python\n",
        "len(genres_tuple)\n",
        "```\n",
        "\n",
        "</details>"
      ]
    },
    {
      "attachments": {},
      "cell_type": "markdown",
      "metadata": {},
      "source": [
        "2. Access the element with respect to index 3."
      ]
    },
    {
      "cell_type": "code",
      "execution_count": 21,
      "metadata": {
        "trusted": true
      },
      "outputs": [
        {
          "name": "stdout",
          "output_type": "stream",
          "text": [
            "hard rock\n"
          ]
        }
      ],
      "source": [
        "print(genres_tuple[3])"
      ]
    },
    {
      "attachments": {},
      "cell_type": "markdown",
      "metadata": {},
      "source": [
        "<details><summary>Click here for the solution</summary>\n",
        "\n",
        "```python\n",
        "genres_tuple[3]\n",
        "```\n",
        "\n",
        "</details>"
      ]
    },
    {
      "attachments": {},
      "cell_type": "markdown",
      "metadata": {},
      "source": [
        "3. Use slicing to obtain indexes 3, 4 and 5."
      ]
    },
    {
      "cell_type": "code",
      "execution_count": 22,
      "metadata": {
        "trusted": true
      },
      "outputs": [
        {
          "name": "stdout",
          "output_type": "stream",
          "text": [
            "('hard rock', 'soft rock', 'R&B')\n"
          ]
        }
      ],
      "source": [
        "print(genres_tuple[3:6])"
      ]
    },
    {
      "attachments": {},
      "cell_type": "markdown",
      "metadata": {},
      "source": [
        "<details><summary>Click here for the solution</summary>\n",
        "\n",
        "```python\n",
        "genres_tuple[3:6]\n",
        "```\n",
        "\n",
        "</details>"
      ]
    },
    {
      "attachments": {},
      "cell_type": "markdown",
      "metadata": {},
      "source": [
        "4. Find the 1st 2 elements of the tuple."
      ]
    },
    {
      "cell_type": "code",
      "execution_count": 23,
      "metadata": {
        "trusted": true
      },
      "outputs": [
        {
          "name": "stdout",
          "output_type": "stream",
          "text": [
            "('pop', 'rock')\n"
          ]
        }
      ],
      "source": [
        "print(genres_tuple[0:2])"
      ]
    },
    {
      "attachments": {},
      "cell_type": "markdown",
      "metadata": {},
      "source": [
        "<details><summary>Click here for the solution</summary>\n",
        "\n",
        "```python\n",
        "genres_tuple[0:2]\n",
        "```\n",
        "\n",
        "</details>"
      ]
    },
    {
      "attachments": {},
      "cell_type": "markdown",
      "metadata": {},
      "source": [
        "5. Find the 1st index of `\"disco\"`."
      ]
    },
    {
      "cell_type": "code",
      "execution_count": 24,
      "metadata": {
        "trusted": true
      },
      "outputs": [
        {
          "name": "stdout",
          "output_type": "stream",
          "text": [
            "7\n"
          ]
        }
      ],
      "source": [
        "print(genres_tuple.index(\"disco\"))"
      ]
    },
    {
      "attachments": {},
      "cell_type": "markdown",
      "metadata": {},
      "source": [
        "<details><summary>Click here for the solution</summary>\n",
        "\n",
        "```python\n",
        "genres_tuple.index(\"disco\")\n",
        "```\n",
        "\n",
        "</details>"
      ]
    },
    {
      "attachments": {},
      "cell_type": "markdown",
      "metadata": {},
      "source": [
        "6. Generate a sorted list from the tuple `C_tuple = (-5, 1, -3)`."
      ]
    },
    {
      "cell_type": "code",
      "execution_count": 25,
      "metadata": {
        "trusted": true
      },
      "outputs": [
        {
          "name": "stdout",
          "output_type": "stream",
          "text": [
            "[-5, -3, 1]\n"
          ]
        }
      ],
      "source": [
        "C_tuple = (-5, 1, -3)\n",
        "print(sorted(C_tuple))"
      ]
    },
    {
      "attachments": {},
      "cell_type": "markdown",
      "metadata": {},
      "source": [
        "<details><summary>Click here for the solution</summary>\n",
        "\n",
        "```python\n",
        "C_tuple = (-5, 1, -3)\n",
        "C_list = sorted(C_tuple)\n",
        "C_list\n",
        "```\n",
        "\n",
        "</details>"
      ]
    },
    {
      "attachments": {},
      "cell_type": "markdown",
      "metadata": {},
      "source": [
        "---"
      ]
    },
    {
      "attachments": {},
      "cell_type": "markdown",
      "metadata": {},
      "source": [
        "Author(s):\n",
        "\n",
        "- [Joseph Santarcangelo](https://www.linkedin.com/in/joseph-s-50398b136/?utm_medium=Exinfluencer&utm_source=Exinfluencer&utm_content=000026UJ&utm_term=10006555&utm_id=NA-SkillsNetwork-Channel-SkillsNetworkCoursesIBMDeveloperSkillsNetworkPY0101ENSkillsNetwork19487395-2022-01-01)\n",
        "\n",
        "Other Contributor(s):\n",
        "\n",
        "- [Mavis Zhou](https://www.linkedin.com/in/jiahui-mavis-zhou-a4537814a?utm_medium=Exinfluencer&utm_source=Exinfluencer&utm_content=000026UJ&utm_term=10006555&utm_id=NA-SkillsNetwork-Channel-SkillsNetworkCoursesIBMDeveloperSkillsNetworkPY0101ENSkillsNetwork19487395-2022-01-01)"
      ]
    }
  ],
  "metadata": {
    "kernelspec": {
      "display_name": "base",
      "language": "python",
      "name": "python3"
    },
    "language_info": {
      "codemirror_mode": {
        "name": "ipython",
        "version": 3
      },
      "file_extension": ".py",
      "mimetype": "text/x-python",
      "name": "python",
      "nbconvert_exporter": "python",
      "pygments_lexer": "ipython3",
      "version": "3.8.13"
    },
    "vscode": {
      "interpreter": {
        "hash": "2011e8f1b66e4ca782a16183c079a9a8ceaa771eb94b3143f514bb5560527e59"
      }
    }
  },
  "nbformat": 4,
  "nbformat_minor": 4
}
