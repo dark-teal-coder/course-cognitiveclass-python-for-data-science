{
  "cells": [
    {
      "attachments": {},
      "cell_type": "markdown",
      "metadata": {},
      "source": [
        "# Write and Save Files in Python\n",
        "\n",
        "\n",
        "Estimated time needed: **25** minutes\n",
        "    \n",
        "\n",
        "## Objectives\n",
        "\n",
        "After completing this lab you will be able to:\n",
        "\n",
        "* Write to files using Python libraries\n",
        "\n",
        "## Table of Contents\n",
        "\n",
        "<div class=\"alert alert-block alert-info\" style=\"margin-top: 20px\">\n",
        "    <ul>\n",
        "        <li><a href=\"write\">Writing Files</a></li>\n",
        "        <li><a href=\"Append\">Appending Files</a></li>\n",
        "        <li><a href=\"add\">Additional File modes</a></li>\n",
        "        <li><a href=\"copy\">Copy a File</a></li>\n",
        "    </ul>\n",
        "\n",
        "</div>"
      ]
    },
    {
      "attachments": {},
      "cell_type": "markdown",
      "metadata": {},
      "source": [
        "---"
      ]
    },
    {
      "cell_type": "markdown",
      "metadata": {},
      "source": [
        "<h2 id=\"write\">Writing Files</h2>\n"
      ]
    },
    {
      "attachments": {},
      "cell_type": "markdown",
      "metadata": {},
      "source": [
        "We can open a file object using the method <code>write()</code> to save the text file to a list. To write to a file, the mode argument must be set to **w**. "
      ]
    },
    {
      "cell_type": "code",
      "execution_count": 1,
      "metadata": {},
      "outputs": [],
      "source": [
        "## Write line to file\n",
        "written_file_name = 'WiteFile.txt'\n",
        "with open(written_file_name, 'w') as written_file:\n",
        "\twritten_file.write(\"This is line 1\")"
      ]
    },
    {
      "cell_type": "markdown",
      "metadata": {},
      "source": [
        " We can read the file to see if it worked:\n"
      ]
    },
    {
      "cell_type": "code",
      "execution_count": 2,
      "metadata": {},
      "outputs": [
        {
          "name": "stdout",
          "output_type": "stream",
          "text": [
            "This is line 1\n"
          ]
        }
      ],
      "source": [
        "## Read the written file above\n",
        "with open(written_file_name, 'r') as read_written_file:\n",
        "\tprint(read_written_file.read())"
      ]
    },
    {
      "attachments": {},
      "cell_type": "markdown",
      "metadata": {},
      "source": [
        "We can write multiple lines:\n"
      ]
    },
    {
      "cell_type": "code",
      "execution_count": 3,
      "metadata": {},
      "outputs": [],
      "source": [
        "## Write lines to file\n",
        "with open(written_file_name, 'w') as written_file:\n",
        "\twritten_file.write(\"This is line 1\\n\")\n",
        "\twritten_file.write(\"This is line 2\\n\")"
      ]
    },
    {
      "cell_type": "markdown",
      "metadata": {},
      "source": [
        "The method <code>.write()</code> works similar to the method <code>.readline()</code>, except instead of reading a new line it writes a new line. The process is illustrated in the figure. The different colour coding of the grid represents a new line added to the file after each method call.\n"
      ]
    },
    {
      "cell_type": "markdown",
      "metadata": {},
      "source": [
        "<img src=\"https://cf-courses-data.s3.us.cloud-object-storage.appdomain.cloud/IBMDeveloperSkillsNetwork-PY0101EN-SkillsNetwork/labs/Module%204/images/WriteLine.png\" width=\"500\">\n"
      ]
    },
    {
      "cell_type": "markdown",
      "metadata": {},
      "source": [
        "You can check the file to see if your results are correct \n"
      ]
    },
    {
      "cell_type": "code",
      "execution_count": 4,
      "metadata": {},
      "outputs": [
        {
          "name": "stdout",
          "output_type": "stream",
          "text": [
            "This is line 1\n",
            "This is line 2\n",
            "\n"
          ]
        }
      ],
      "source": [
        "## Check the written file above\n",
        "with open(written_file_name, 'r') as read_written_file:\n",
        "\tprint(read_written_file.read())"
      ]
    },
    {
      "cell_type": "markdown",
      "metadata": {},
      "source": [
        " We write a list to a **.txt** file  as follows:\n"
      ]
    },
    {
      "cell_type": "code",
      "execution_count": 5,
      "metadata": {},
      "outputs": [
        {
          "name": "stdout",
          "output_type": "stream",
          "text": [
            "['This is line A\\n', 'This is line B\\n', 'This is line C\\n']\n",
            "--------------------------------------------------\n",
            "This is line A\n",
            "\n",
            "This is line B\n",
            "\n",
            "This is line C\n",
            "\n",
            "--------------------------------------------------\n",
            "This is line A\n",
            "This is line B\n",
            "This is line C\n",
            "\n"
          ]
        }
      ],
      "source": [
        "## List of lines\n",
        "lines = [\"This is line A\\n\", \"This is line B\\n\", \"This is line C\\n\"]\n",
        "print(lines)\n",
        "\n",
        "print(\"-\"*50)\n",
        "\n",
        "## Write the strings in the list to text file\n",
        "with open('WiteFile.txt', 'w') as written_file:\n",
        "\tfor line in lines:\n",
        "\t\tprint(line)\n",
        "\t\twritten_file.write(line)\n",
        "\n",
        "print(\"-\"*50)\n",
        "\n",
        "## Verify the content written above\n",
        "with open('WiteFile.txt', 'r') as read_written_file:\n",
        "\tprint(read_written_file.read())"
      ]
    },
    {
      "cell_type": "markdown",
      "metadata": {},
      "source": [
        "However, note that setting the mode to __w__ overwrites all the existing data in the file.\n"
      ]
    },
    {
      "cell_type": "code",
      "execution_count": 6,
      "metadata": {},
      "outputs": [
        {
          "name": "stdout",
          "output_type": "stream",
          "text": [
            "Overwrite\n",
            "\n"
          ]
        }
      ],
      "source": [
        "with open('WiteFile.txt', 'w') as written_file:\n",
        "\twritten_file.write(\"Overwrite\\n\")\n",
        "with open('WiteFile.txt', 'r') as read_written_file:\n",
        "\tprint(read_written_file.read())"
      ]
    },
    {
      "attachments": {},
      "cell_type": "markdown",
      "metadata": {},
      "source": [
        "<h2 id=\"Append\">Appending Files</h2>"
      ]
    },
    {
      "cell_type": "markdown",
      "metadata": {},
      "source": [
        " We can write to files without losing any of the existing data as follows by setting the mode argument to append: **a**.  you can append a new line as follows:\n"
      ]
    },
    {
      "cell_type": "code",
      "execution_count": 7,
      "metadata": {},
      "outputs": [],
      "source": [
        "## Write to the existing file without overwriting \n",
        "with open('WiteFile.txt', 'a') as written_file:\n",
        "\twritten_file.write(\"This is line 1\\n\")\n",
        "\twritten_file.write(\"This is line 2\\n\")\n",
        "\twritten_file.write(\"This is line 3\\n\")"
      ]
    },
    {
      "cell_type": "markdown",
      "metadata": {},
      "source": [
        " You can verify the file has changed by running the following cell:\n"
      ]
    },
    {
      "cell_type": "code",
      "execution_count": 8,
      "metadata": {},
      "outputs": [
        {
          "name": "stdout",
          "output_type": "stream",
          "text": [
            "Overwrite\n",
            "This is line 1\n",
            "This is line 2\n",
            "This is line 3\n",
            "\n"
          ]
        }
      ],
      "source": [
        "## Verify the new lines were appended to the file \n",
        "with open('WiteFile.txt', 'r') as read_written_file:\n",
        "\tprint(read_written_file.read())"
      ]
    },
    {
      "attachments": {},
      "cell_type": "markdown",
      "metadata": {},
      "source": [
        "<h2 id=\"add\">Additional modes</h2>"
      ]
    },
    {
      "attachments": {},
      "cell_type": "markdown",
      "metadata": {},
      "source": [
        "It's fairly ineffecient to open the file in **a** or **w** and then reopening it in **r** to read any lines. Luckily we can access the file in the following modes:\n",
        "- **r+** : Reading and writing. Cannot truncate the file.\n",
        "- **w+** : Writing and reading. Truncates the file.\n",
        "- **a+** : Appending and Reading. Creates a new file, if none exists.\n",
        "You dont have to dwell on the specifics of each mode for this lab. "
      ]
    },
    {
      "cell_type": "markdown",
      "metadata": {},
      "source": [
        "Let's try out the __a+__ mode:\n"
      ]
    },
    {
      "cell_type": "code",
      "execution_count": 9,
      "metadata": {},
      "outputs": [
        {
          "name": "stdout",
          "output_type": "stream",
          "text": [
            "\n"
          ]
        }
      ],
      "source": [
        "with open('WiteFile.txt', 'a+') as file_append_plus:\n",
        "\tfile_append_plus.write(\"This is line 5\\n\")\n",
        "\tprint(file_append_plus.read())"
      ]
    },
    {
      "cell_type": "markdown",
      "metadata": {},
      "source": [
        "There were no errors but <code>read()</code> also did not output anything. This is because of our location in the file.\n"
      ]
    },
    {
      "cell_type": "markdown",
      "metadata": {},
      "source": [
        "Most of the file methods we've looked at work in a certain location in the file. <code>.write() </code> writes at a certain location in the file. <code>.read()</code> reads at a certain location in the file and so on. You can think of this as moving your pointer around in the notepad to make changes at specific location.\n"
      ]
    },
    {
      "cell_type": "markdown",
      "metadata": {},
      "source": [
        "Opening the file in **w** is akin to opening the .txt file, moving your cursor to the beginning of the text file, writing new text and deleting everything that follows.\n",
        "Whereas opening the file in **a** is similiar to opening the .txt file, moving your cursor to the very end and then adding the new pieces of text. <br>\n",
        "It is often very useful to know where the 'cursor' is in a file and be able to control it. The following methods allow us to do precisely this -\n",
        "- <code>.tell()</code> - returns the current position in bytes\n",
        "- <code>.seek(offset,from)</code> - changes the position by 'offset' bytes with respect to 'from'. From can take the value of 0,1,2 corresponding to beginning, relative to current position and end\n"
      ]
    },
    {
      "cell_type": "markdown",
      "metadata": {},
      "source": [
        "Now lets revisit **a+**\n"
      ]
    },
    {
      "cell_type": "code",
      "execution_count": 10,
      "metadata": {},
      "outputs": [
        {
          "name": "stdout",
          "output_type": "stream",
          "text": [
            "Initial Location: 75\n",
            "Nothing was read\n",
            "New Location: 0\n",
            "Overwrite\n",
            "This is line 1\n",
            "This is line 2\n",
            "This is line 3\n",
            "This is line 5\n",
            "\n",
            "New Location: 75\n"
          ]
        }
      ],
      "source": [
        "with open('WiteFile.txt', 'a+') as file_append_plus:\n",
        "\tprint(\"Initial Location: {}\".format(file_append_plus.tell()))\n",
        "\t\n",
        "\tdata = file_append_plus.read()\n",
        "\tif (not data):  ## Empty strings return False in python\n",
        "\t\tprint(\"Nothing was read\")\n",
        "\telse:\n",
        "\t\tprint(data)\n",
        "\t\n",
        "\t## Move 0 bytes from the beginning of the file\n",
        "\tfile_append_plus.seek(0, 0)\n",
        "\n",
        "\tprint(\"New Location: {}\".format(file_append_plus.tell()))\n",
        "\t\n",
        "\tdata = file_append_plus.read()\n",
        "\tif (not data):\n",
        "\t\tprint(\"Nothing was read\")\n",
        "\telse:\n",
        "\t\tprint(data)\n",
        "\t\n",
        "\tprint(\"New Location: {}\".format(file_append_plus.tell()) )"
      ]
    },
    {
      "cell_type": "markdown",
      "metadata": {},
      "source": [
        "Finally, a note on the difference between **w+** and **r+**. Both of these modes allow access to read and write methods, however, opening a file in **w+** overwrites it and deletes all pre-existing data. <br>\n",
        "To work with a file on existing data, use **r+** and **a+**. While using **r+**, it can be useful to add a <code>.truncate()</code> method at the end of your data. This will reduce the file to your data and delete everything that follows. <br>\n",
        "In the following code block, Run the code as it is first and then run it with the <code>.truncate()</code>.\n"
      ]
    },
    {
      "cell_type": "code",
      "execution_count": 11,
      "metadata": {},
      "outputs": [
        {
          "name": "stdout",
          "output_type": "stream",
          "text": [
            "['Overwrite\\n', 'This is line 1\\n', 'This is line 2\\n', 'This is line 3\\n', 'This is line 5\\n']\n",
            "Line 1\n",
            "Line 2\n",
            "Line 3\n",
            "Finished\n",
            " line 2\n",
            "This is line 3\n",
            "This is line 5\n",
            "\n"
          ]
        }
      ],
      "source": [
        "with open('WiteFile.txt', 'r+') as file_read_plus:\n",
        "\tdata = file_read_plus.readlines()\n",
        "\tprint(data)\n",
        "\t## Move 0 bytes from the beginning of the file\n",
        "\tfile_read_plus.seek(0, 0)\n",
        "\tfile_read_plus.write(\"Line 1\" + \"\\n\")\n",
        "\tfile_read_plus.write(\"Line 2\" + \"\\n\")\n",
        "\tfile_read_plus.write(\"Line 3\" + \"\\n\")\n",
        "\tfile_read_plus.write(\"Finished\\n\")\n",
        "\t## Truncates the file's size\n",
        "\t# file_read_plus.truncate()\n",
        "\t## Move 0 bytes from the beginning of the file\n",
        "\tfile_read_plus.seek(0, 0)\n",
        "\tprint(file_read_plus.read())"
      ]
    },
    {
      "cell_type": "markdown",
      "metadata": {},
      "source": [
        "<h2 id=\"copy\">Copy a File</h2> \n"
      ]
    },
    {
      "cell_type": "code",
      "execution_count": 12,
      "metadata": {},
      "outputs": [],
      "source": [
        "## Copy file to another\n",
        "with open('WiteFile.txt', 'r') as file_read:\n",
        "\twith open('WiteFile1.txt', 'w') as file_copied:\n",
        "\t\tfor line in file_read:\n",
        "\t\t\tfile_copied.write(line)"
      ]
    },
    {
      "cell_type": "markdown",
      "metadata": {},
      "source": [
        "We can read the file to see if everything works:\n"
      ]
    },
    {
      "cell_type": "code",
      "execution_count": 13,
      "metadata": {},
      "outputs": [
        {
          "name": "stdout",
          "output_type": "stream",
          "text": [
            "Line 1\n",
            "Line 2\n",
            "Line 3\n",
            "Finished\n",
            " line 2\n",
            "This is line 3\n",
            "This is line 5\n",
            "\n"
          ]
        }
      ],
      "source": [
        "## Check if the file content was copied successfully\n",
        "with open('WiteFile1.txt','r') as file_read_1:\n",
        "\tprint(file_read_1.read())"
      ]
    },
    {
      "cell_type": "markdown",
      "metadata": {},
      "source": [
        " After reading files, we can also write data into files and save them in different file formats like **.txt, .csv, .xls (for excel files) etc**. You will come across these in further examples\n"
      ]
    },
    {
      "cell_type": "markdown",
      "metadata": {},
      "source": [
        "**NOTE:** If you wish to open and view the `example3.txt` file, download this lab [here](https://cf-courses-data.s3.us.cloud-object-storage.appdomain.cloud/IBMDeveloperSkillsNetwork-PY0101EN-SkillsNetwork/labs/Module%204/PY0101EN-4-2-WriteFile.ipynb) and run it locally on your machine. Then go to the working directory to ensure the `example3.txt` file exists and contains the summary data that we wrote.\n"
      ]
    },
    {
      "cell_type": "markdown",
      "metadata": {},
      "source": [
        "<h2> Exercise </h2>\n"
      ]
    },
    {
      "attachments": {},
      "cell_type": "markdown",
      "metadata": {},
      "source": [
        "Your local university's Raptors fan club maintains a register of its active members on a .txt document. Every month they update the file by removing the members who are not active. You have been tasked with automating this with your Python skills. <br>\n",
        "Given the file `cur_mem_file_name`, Remove each member with a 'no' in their Active column. Keep track of each of the removed members and append them to the `ex_mem_file_name` file. Make sure that the format of the original files in preserved.   (*Hint: Do this by reading/writing whole lines and ensuring the header remains* )\n",
        "<br>\n",
        "Run the code block below prior to starting the exercise. The skeleton code has been provided for you. Edit only the `clean_files` function.\n"
      ]
    },
    {
      "cell_type": "code",
      "execution_count": 14,
      "metadata": {},
      "outputs": [],
      "source": [
        "## Generate text files for the exercise\n",
        "from random import randint as rnd\n",
        "\n",
        "cur_mem_file_name = 'CurrentMembers.txt'\n",
        "ex_mem_file_name = 'InactiveMembers.txt'\n",
        "fee = ('Yes', 'No')\n",
        "\n",
        "def gen_files(current, old):\n",
        "\tcol_name_1 = \"Membership ID\"\n",
        "\tcol_name_2 = \"Date Joined\"\n",
        "\tcol_name_3 = \"Active Status\"\n",
        "\tglobal file_header\n",
        "\tfile_header = f\"{col_name_1}\\t\\t{col_name_2}\\t\\t{col_name_3}\\n\"\n",
        "\n",
        "\twith open(current, 'w+') as file_current:\n",
        "\t\t## Write file header\n",
        "\t\tfile_current.write(file_header)\n",
        "\t\t## Number of rows in the file\n",
        "\t\tfor row_num in range(20):\n",
        "\t\t\t## Generate random dates\n",
        "\t\t\tdate = str(rnd(2015, 2020)) + \"-\" + str(rnd(1, 12)) + \"-\" + str(rnd(1, 28))\n",
        "\t\t\t## Member status active and inactive in cur_mem_file_name\n",
        "\t\t\tfile_current.write(\"{:^13}\\t\\t{:<11}\\t\\t{:<6}\\n\".format(rnd(10000, 99999), date, fee[rnd(0, 1)]))\n",
        "\t\n",
        "\twith open(old, 'w+') as file_old:\n",
        "\t\t## Write file header\n",
        "\t\tfile_old.write(file_header)\n",
        "\t\t## Number of rows in the file\n",
        "\t\tfor row_num in range(3):\n",
        "\t\t\t## Generate random dates\n",
        "\t\t\tdate = str(rnd(2015, 2020)) + \"-\" + str(rnd(1, 12)) + \"-\" + str(rnd(1, 28))\n",
        "\t\t\t## Member status always inactive in ex_members\n",
        "\t\t\tfile_old.write(\"{:^13}\\t\\t{:<11}\\t\\t{:<6}\\n\".format(rnd(10000, 99999), date, fee[1]))\n",
        "\n",
        "gen_files(cur_mem_file_name, ex_mem_file_name)"
      ]
    },
    {
      "attachments": {},
      "cell_type": "markdown",
      "metadata": {},
      "source": [
        "Now that you've run the prerequisite code cell above, which prepared the files for this exercise, you are ready to move on to the implementation.\n",
        "\n",
        "#### **Exercise:** Implement the clean_files() function in the code cell below."
      ]
    },
    {
      "cell_type": "code",
      "execution_count": 15,
      "metadata": {},
      "outputs": [
        {
          "name": "stdout",
          "output_type": "stream",
          "text": [
            "<_io.TextIOWrapper name='InactiveMembers.txt' mode='a+' encoding='UTF-8'>\n",
            "['    28516    \\t\\t2017-6-9   \\t\\tNo    \\n', '    55527    \\t\\t2017-8-10  \\t\\tYes   \\n', '    33968    \\t\\t2019-12-17 \\t\\tYes   \\n', '    76211    \\t\\t2020-2-26  \\t\\tYes   \\n', '    45861    \\t\\t2016-2-19  \\t\\tYes   \\n', '    59022    \\t\\t2018-8-13  \\t\\tYes   \\n', '    71340    \\t\\t2016-8-10  \\t\\tNo    \\n', '    77627    \\t\\t2019-5-5   \\t\\tNo    \\n', '    23669    \\t\\t2015-1-13  \\t\\tNo    \\n', '    91332    \\t\\t2015-6-1   \\t\\tNo    \\n', '    65515    \\t\\t2020-1-17  \\t\\tNo    \\n', '    32742    \\t\\t2017-10-11 \\t\\tYes   \\n', '    58737    \\t\\t2017-4-25  \\t\\tYes   \\n', '    90361    \\t\\t2020-9-7   \\t\\tNo    \\n', '    25411    \\t\\t2018-10-14 \\t\\tNo    \\n', '    87351    \\t\\t2017-9-21  \\t\\tYes   \\n', '    66476    \\t\\t2020-7-8   \\t\\tYes   \\n', '    90874    \\t\\t2016-9-18  \\t\\tNo    \\n', '    94507    \\t\\t2017-12-26 \\t\\tNo    \\n', '    62623    \\t\\t2018-5-19  \\t\\tNo    \\n']\n",
            "['    28516    \\t\\t2017-6-9   \\t\\tNo    \\n', '    71340    \\t\\t2016-8-10  \\t\\tNo    \\n', '    77627    \\t\\t2019-5-5   \\t\\tNo    \\n', '    23669    \\t\\t2015-1-13  \\t\\tNo    \\n', '    91332    \\t\\t2015-6-1   \\t\\tNo    \\n', '    65515    \\t\\t2020-1-17  \\t\\tNo    \\n', '    90361    \\t\\t2020-9-7   \\t\\tNo    \\n', '    25411    \\t\\t2018-10-14 \\t\\tNo    \\n', '    90874    \\t\\t2016-9-18  \\t\\tNo    \\n', '    94507    \\t\\t2017-12-26 \\t\\tNo    \\n', '    62623    \\t\\t2018-5-19  \\t\\tNo    \\n']\n",
            "Active Members: \n",
            "\n",
            "\n",
            "Membership ID\t\tDate Joined\t\tActive Status\n",
            "    55527    \t\t2017-8-10  \t\tYes   \n",
            "    33968    \t\t2019-12-17 \t\tYes   \n",
            "    76211    \t\t2020-2-26  \t\tYes   \n",
            "    45861    \t\t2016-2-19  \t\tYes   \n",
            "    59022    \t\t2018-8-13  \t\tYes   \n",
            "    32742    \t\t2017-10-11 \t\tYes   \n",
            "    58737    \t\t2017-4-25  \t\tYes   \n",
            "    87351    \t\t2017-9-21  \t\tYes   \n",
            "    66476    \t\t2020-7-8   \t\tYes   \n",
            "    91332    \t\t2015-6-1   \t\tNo    \n",
            "    65515    \t\t2020-1-17  \t\tNo    \n",
            "    32742    \t\t2017-10-11 \t\tYes   \n",
            "    58737    \t\t2017-4-25  \t\tYes   \n",
            "    90361    \t\t2020-9-7   \t\tNo    \n",
            "    25411    \t\t2018-10-14 \t\tNo    \n",
            "    87351    \t\t2017-9-21  \t\tYes   \n",
            "    66476    \t\t2020-7-8   \t\tYes   \n",
            "    90874    \t\t2016-9-18  \t\tNo    \n",
            "    94507    \t\t2017-12-26 \t\tNo    \n",
            "    62623    \t\t2018-5-19  \t\tNo    \n",
            "\n",
            "Inactive Members: \n",
            "\n",
            "\n",
            "Membership ID\t\tDate Joined\t\tActive Status\n",
            "    27335    \t\t2018-9-16  \t\tNo    \n",
            "    66684    \t\t2017-6-17  \t\tNo    \n",
            "    68782    \t\t2017-7-4   \t\tNo    \n",
            "    28516    \t\t2017-6-9   \t\tNo    \n",
            "    71340    \t\t2016-8-10  \t\tNo    \n",
            "    77627    \t\t2019-5-5   \t\tNo    \n",
            "    23669    \t\t2015-1-13  \t\tNo    \n",
            "    91332    \t\t2015-6-1   \t\tNo    \n",
            "    65515    \t\t2020-1-17  \t\tNo    \n",
            "    90361    \t\t2020-9-7   \t\tNo    \n",
            "    25411    \t\t2018-10-14 \t\tNo    \n",
            "    90874    \t\t2016-9-18  \t\tNo    \n",
            "    94507    \t\t2017-12-26 \t\tNo    \n",
            "    62623    \t\t2018-5-19  \t\tNo    \n",
            "\n"
          ]
        }
      ],
      "source": [
        "'''\n",
        "2 arguments for this function:\n",
        "\t- cur_mem_file_name: File containing list of current members\n",
        "\t- ex_mem_file_name: File containing list of old members\n",
        "This function should remove all rows from cur_mem_file_name containing 'no' \tin the 'Active' column and appends them to ex_mem_file_name.\n",
        "'''\n",
        "def clean_files(cur_mem_file_name, ex_mem_file_name):\n",
        "\t'''\n",
        "\tThis function moves inactive members from cur_mem_file_name to ex_mem_file_name.\n",
        "\t'''\n",
        "\t# TODO: Open cur_mem_file in r+ mode\n",
        "\twith open(cur_mem_file_name, 'r+') as cur_mem_file:\n",
        "\t\t# TODO: Open ex_mem_file in a+ mode\n",
        "\t\twith open(ex_mem_file_name, 'a+') as ex_mem_file:\n",
        "\t\t\tprint(ex_mem_file)\n",
        "\t\t\t# TODO: Read each member in cur_mem_file_name (1 member per row) into a list\n",
        "\t\t\t# HINT: Recall that the 1st line in the file is the header\n",
        "\t\t\tmember_list = cur_mem_file.readlines()\n",
        "\t\t\t## Remove the header row (1st row)\n",
        "\t\t\tmember_list = member_list[1:]\n",
        "\t\t\tprint(member_list)\n",
        "\t\t\t# TODO: Iterate through the members and create a new list of the innactive members\n",
        "\t\t\tinactive_members = []\n",
        "\t\t\tfor member in member_list: \n",
        "\t\t\t\tif \"No\" in member: \n",
        "\t\t\t\t\tinactive_members.append(member)\n",
        "\t\t\tprint(inactive_members)\n",
        "\t\t\t# TODO: Go to the beginning of cur_mem_file\n",
        "\t\t\tcur_mem_file.seek(0, 0)\n",
        "\t\t\t# TODO: Iterate through the members list\n",
        "\t\t\t# If a member is inactive, add them to ex_mem_file, otherwise, write them to cur_mem_file\n",
        "\t\t\tcur_mem_file.write(file_header)\n",
        "\t\t\tfor member in member_list: \n",
        "\t\t\t\tif member not in inactive_members:\n",
        "\t\t\t\t\tcur_mem_file.write(member)\n",
        "\t\t\t# ex_mem_file.seek(0, 2)\n",
        "\t\t\tfor ex_mem in inactive_members: \n",
        "\t\t\t\tex_mem_file.write(ex_mem)\n",
        "\n",
        "\n",
        "clean_files(cur_mem_file_name, ex_mem_file_name)\n",
        "\n",
        "## View the files\n",
        "\n",
        "col_name_1 = \"Membership ID\"\n",
        "col_name_2 = \"Date Joined\"\n",
        "col_name_3 = \"Active Status\"\n",
        "\n",
        "with open(cur_mem_file_name, 'r') as readFile:\n",
        "\tprint(\"Active Members: \\n\\n\")\n",
        "\tprint(readFile.read())\n",
        "\n",
        "with open(ex_mem_file_name, 'r') as readFile:\n",
        "\tprint(\"Inactive Members: \\n\\n\")\n",
        "\tprint(readFile.read())"
      ]
    },
    {
      "attachments": {},
      "cell_type": "markdown",
      "metadata": {},
      "source": [
        "The code cell below is to verify your solution. Please do not modify the code and run it to test your implementation of `clean_files`.\n"
      ]
    },
    {
      "cell_type": "code",
      "execution_count": 16,
      "metadata": {},
      "outputs": [
        {
          "name": "stdout",
          "output_type": "stream",
          "text": [
            "<_io.TextIOWrapper name='testAppend.txt' mode='a+' encoding='UTF-8'>\n",
            "['    32821    \\t\\t2018-1-20  \\t\\tNo    \\n', '    40626    \\t\\t2015-6-2   \\t\\tYes   \\n', '    62135    \\t\\t2020-2-7   \\t\\tYes   \\n', '    12076    \\t\\t2016-5-16  \\t\\tNo    \\n', '    31124    \\t\\t2015-2-1   \\t\\tNo    \\n', '    53063    \\t\\t2017-7-17  \\t\\tNo    \\n', '    83562    \\t\\t2020-11-1  \\t\\tNo    \\n', '    71061    \\t\\t2017-1-7   \\t\\tNo    \\n', '    27855    \\t\\t2018-10-17 \\t\\tNo    \\n', '    95670    \\t\\t2017-1-22  \\t\\tYes   \\n', '    66779    \\t\\t2020-5-26  \\t\\tYes   \\n', '    86665    \\t\\t2020-10-12 \\t\\tYes   \\n', '    54120    \\t\\t2019-3-8   \\t\\tYes   \\n', '    62090    \\t\\t2015-7-18  \\t\\tNo    \\n', '    32168    \\t\\t2020-4-11  \\t\\tYes   \\n', '    18823    \\t\\t2016-3-25  \\t\\tYes   \\n', '    35658    \\t\\t2018-10-1  \\t\\tYes   \\n', '    87516    \\t\\t2016-9-12  \\t\\tNo    \\n', '    52326    \\t\\t2015-4-1   \\t\\tYes   \\n', '    15428    \\t\\t2018-7-10  \\t\\tNo    \\n']\n",
            "['    32821    \\t\\t2018-1-20  \\t\\tNo    \\n', '    12076    \\t\\t2016-5-16  \\t\\tNo    \\n', '    31124    \\t\\t2015-2-1   \\t\\tNo    \\n', '    53063    \\t\\t2017-7-17  \\t\\tNo    \\n', '    83562    \\t\\t2020-11-1  \\t\\tNo    \\n', '    71061    \\t\\t2017-1-7   \\t\\tNo    \\n', '    27855    \\t\\t2018-10-17 \\t\\tNo    \\n', '    62090    \\t\\t2015-7-18  \\t\\tNo    \\n', '    87516    \\t\\t2016-9-12  \\t\\tNo    \\n', '    15428    \\t\\t2018-7-10  \\t\\tNo    \\n']\n",
            "The number of rows do not add up. Make sure your final files have the same header and format.\n",
            "Test Failed\n"
          ]
        }
      ],
      "source": [
        "def test_msg(passed):\n",
        "\tif passed:\n",
        "\t\treturn 'Test Passed'\n",
        "\telse:\n",
        "\t\treturn 'Test Failed'\n",
        "\n",
        "testWrite = \"testWrite.txt\"\n",
        "testAppend = \"testAppend.txt\"\n",
        "passed = True\n",
        "\n",
        "gen_files(testWrite,testAppend)\n",
        "\n",
        "with open(testWrite,'r') as file:\n",
        "\togWrite = file.readlines()\n",
        "\n",
        "with open(testAppend,'r') as file:\n",
        "\togAppend = file.readlines()\n",
        "\n",
        "try:\n",
        "\tclean_files(testWrite,testAppend)\n",
        "except:\n",
        "\tprint('Error')\n",
        "\n",
        "with open(testWrite,'r') as file:\n",
        "\tclWrite = file.readlines()\n",
        "\n",
        "with open(testAppend,'r') as file:\n",
        "\tclAppend = file.readlines()\n",
        "\n",
        "# checking if total no of rows is same, including headers\n",
        "\n",
        "if (len(ogWrite) + len(ogAppend) != len(clWrite) + len(clAppend)):\n",
        "\tprint(\"The number of rows do not add up. Make sure your final files have the same header and format.\")\n",
        "\tpassed = False\n",
        "\n",
        "for line in clWrite:\n",
        "\tif  'no' in line:\n",
        "\t\tpassed = False\n",
        "\t\tprint(\"Inactive members in file\")\n",
        "\t\tbreak\n",
        "\telse:\n",
        "\t\tif line not in ogWrite:\n",
        "\t\t\tprint(\"Data in file does not match original file\")\n",
        "\t\t\tpassed = False\n",
        "print (\"{}\".format(test_msg(passed)))"
      ]
    },
    {
      "attachments": {},
      "cell_type": "markdown",
      "metadata": {},
      "source": [
        "<details><summary>Click here for the solution</summary>\n",
        "\n",
        "```python\n",
        "def clean_files(cur_mem_file_name,ex_mem_file_name):\n",
        "    with open(cur_mem_file_name,'r+') as writeFile: \n",
        "        with open(ex_mem_file_name,'a+') as appendFile:\n",
        "            #get the data\n",
        "            writeFile.seek(0)\n",
        "            members = writeFile.readlines()\n",
        "            #remove header\n",
        "            header = members[0]\n",
        "            members.pop(0)\n",
        "                \n",
        "            inactive = [member for member in members if ('no' in member)]\n",
        "            '''\n",
        "            The above is the same as \n",
        "\n",
        "            for member in members:\n",
        "            if 'no' in member:\n",
        "                inactive.append(member)\n",
        "            '''\n",
        "            #go to the beginning of the write file\n",
        "            writeFile.seek(0) \n",
        "            writeFile.write(header)\n",
        "            for member in members:\n",
        "                if (member in inactive):\n",
        "                    appendFile.write(member)\n",
        "                else:\n",
        "                    writeFile.write(member)      \n",
        "            writeFile.truncate()\n",
        "                \n",
        "current_members = 'members.txt'\n",
        "ex_members = 'inactive.txt'\n",
        "clean_files(current_members,ex_members)\n",
        "\n",
        "# code to help you see the files\n",
        "\n",
        "headers = \"Membership No  Date Joined  Active  \\n\"\n",
        "\n",
        "with open(current_members,'r') as readFile:\n",
        "    print(\"Active Members: \\n\\n\")\n",
        "    print(readFile.read())\n",
        "    \n",
        "with open(ex_members,'r') as readFile:\n",
        "    print(\"Inactive Members: \\n\\n\")\n",
        "    print(readFile.read())\n",
        "    \n",
        "```\n",
        "\n",
        "</details>\n",
        "\n",
        "    \n"
      ]
    },
    {
      "attachments": {},
      "cell_type": "markdown",
      "metadata": {},
      "source": [
        "---"
      ]
    },
    {
      "attachments": {},
      "cell_type": "markdown",
      "metadata": {},
      "source": [
        "Author(s):\n",
        "\n",
        "- [Joseph Santarcangelo](https://www.linkedin.com/in/joseph-s-50398b136/?utm_medium=Exinfluencer&utm_source=Exinfluencer&utm_content=000026UJ&utm_term=10006555&utm_id=NA-SkillsNetwork-Channel-SkillsNetworkCoursesIBMDeveloperSkillsNetworkPY0101ENSkillsNetwork1005-2022-01-01)\n",
        "\n",
        "Other Contributor(s):\n",
        "\n",
        "- [Mavis Zhou](www.linkedin.com/in/jiahui-mavis-zhou-a4537814a)"
      ]
    }
  ],
  "metadata": {
    "kernelspec": {
      "display_name": "base",
      "language": "python",
      "name": "python3"
    },
    "language_info": {
      "codemirror_mode": {
        "name": "ipython",
        "version": 3
      },
      "file_extension": ".py",
      "mimetype": "text/x-python",
      "name": "python",
      "nbconvert_exporter": "python",
      "pygments_lexer": "ipython3",
      "version": "3.8.13"
    },
    "vscode": {
      "interpreter": {
        "hash": "2011e8f1b66e4ca782a16183c079a9a8ceaa771eb94b3143f514bb5560527e59"
      }
    }
  },
  "nbformat": 4,
  "nbformat_minor": 4
}
