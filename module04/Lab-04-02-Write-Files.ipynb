{
  "cells": [
    {
      "attachments": {},
      "cell_type": "markdown",
      "metadata": {},
      "source": [
        "# Write and Save Files in Python\n",
        "\n",
        "\n",
        "Estimated time needed: **25** minutes\n",
        "    \n",
        "\n",
        "## Objectives\n",
        "\n",
        "After completing this lab you will be able to:\n",
        "\n",
        "* Write to files using Python libraries\n",
        "\n",
        "## Table of Contents\n",
        "\n",
        "<div class=\"alert alert-block alert-info\" style=\"margin-top: 20px\">\n",
        "    <ul>\n",
        "        <li><a href=\"write\">Writing Files</a></li>\n",
        "        <li><a href=\"Append\">Appending Files</a></li>\n",
        "        <li><a href=\"add\">Additional File modes</a></li>\n",
        "        <li><a href=\"copy\">Copy a File</a></li>\n",
        "    </ul>\n",
        "\n",
        "</div>"
      ]
    },
    {
      "attachments": {},
      "cell_type": "markdown",
      "metadata": {},
      "source": [
        "---"
      ]
    },
    {
      "cell_type": "markdown",
      "metadata": {},
      "source": [
        "## Shell and Magic Commands"
      ]
    },
    {
      "attachments": {},
      "cell_type": "markdown",
      "metadata": {},
      "source": [
        "Before working with this notebook, it is a better practice for us to clean up the existing output files in the current directory."
      ]
    },
    {
      "cell_type": "markdown",
      "metadata": {},
      "source": [
        "In IPython syntax, the exclamation mark (`!`) allows users to run shell commands from inside a Jupyter Notebook code cell. Shell commands in the Jupyter Notebook are executed in a temporary subshell. To do it in a more enduring way, use shell-like magic functions, e.g. `%cd`, `%ls`, `%pwd`"
      ]
    },
    {
      "cell_type": "code",
      "execution_count": 1,
      "metadata": {},
      "outputs": [
        {
          "name": "stdout",
          "output_type": "stream",
          "text": [
            " Volume in drive C is OS\n",
            " Volume Serial Number is 9CF3-BBDB\n",
            "\n",
            " Directory of c:\\Users\\Asus\\Coding\\course-cognitiveclass-python-for-data-science\\module04\n",
            "\n",
            "2023-03-04  16:15               511 CurrentMembers.txt\n",
            "2023-03-04  16:15                45 DownloadedFile.txt\n",
            "2023-03-04  16:15               403 InactiveMembers.txt\n",
            "2023-03-04  16:15               475 TestAppend.txt\n",
            "2023-03-04  16:15               439 TestWrite.txt\n",
            "2023-03-04  16:15                75 WiteFile.txt\n",
            "2023-03-04  16:15                75 WiteFile1.txt\n",
            "               7 File(s)          2,023 bytes\n",
            "               0 Dir(s)  52,058,812,416 bytes free\n"
          ]
        }
      ],
      "source": [
        "## List all the .txt files\n",
        "## 1) Platform dependant shell commands\n",
        "# !dir *.txt\n",
        "## 2) Magic commands provided by IPython kernel\n",
        "%ls *.txt"
      ]
    },
    {
      "cell_type": "code",
      "execution_count": 2,
      "metadata": {},
      "outputs": [],
      "source": [
        "## Remove all the .txt files\n",
        "## 1) For Linux & Windows Powershell\n",
        "# !rm *.txt\n",
        "## 2) For Windows Command Prompt/CMD\n",
        "!del *.txt"
      ]
    },
    {
      "cell_type": "code",
      "execution_count": 3,
      "metadata": {},
      "outputs": [
        {
          "name": "stdout",
          "output_type": "stream",
          "text": [
            "DownloadedFile.txt\n",
            "r\n",
            "<class 'str'>\n",
            "'This is line 1 \\nThis is line 2\\nThis is line 3'\n",
            "This is line 1 \n",
            "This is line 2\n",
            "This is line 3\n",
            "This is line 1 \n",
            "This is line 2\n",
            "This is line 3\n",
            "This is line 1 \n",
            "This is line 2\n",
            "This is line 3\n",
            "This\n",
            "This\n",
            " is \n",
            "line 1 \n",
            "\n",
            "This is line 2\n",
            "This is line 1 \n",
            "\n",
            "This \n",
            "is line 2\n",
            "Read a line: This is line 1 \n",
            "\n",
            "Read a line: This is line 2\n",
            "\n",
            "This is line 1 \n",
            "\n",
            "This is line 2\n",
            "This \n",
            "Iteration 0: This is line 1 \n",
            "\n",
            "Iteration 1: This is line 2\n",
            "\n",
            "Iteration 2: This is line 3\n",
            "['This is line 1 \\n', 'This is line 2\\n', 'This is line 3']\n",
            "This is line 1 \n",
            "\n",
            "This is line 2\n",
            "\n",
            "This is line 3\n"
          ]
        },
        {
          "name": "stderr",
          "output_type": "stream",
          "text": [
            "'wget' is not recognized as an internal or external command,\n",
            "operable program or batch file.\n"
          ]
        }
      ],
      "source": [
        "## Run the notebook specified\n",
        "%run \".\\Lab-04-01-Reading-Files.ipynb\""
      ]
    },
    {
      "attachments": {},
      "cell_type": "markdown",
      "metadata": {},
      "source": [
        "## Writing Files"
      ]
    },
    {
      "attachments": {},
      "cell_type": "markdown",
      "metadata": {},
      "source": [
        "We can open a file object using the method `write()` to save the text file to a list. To write to a file, the mode argument must be set to `w`."
      ]
    },
    {
      "cell_type": "code",
      "execution_count": 4,
      "metadata": {},
      "outputs": [],
      "source": [
        "## Write line to file\n",
        "written_file_name = 'WiteFile.txt'\n",
        "with open(written_file_name, 'w') as written_file:\n",
        "\twritten_file.write(\"This is line 1\")"
      ]
    },
    {
      "attachments": {},
      "cell_type": "markdown",
      "metadata": {},
      "source": [
        "We can read the file to see if it worked."
      ]
    },
    {
      "cell_type": "code",
      "execution_count": 5,
      "metadata": {},
      "outputs": [
        {
          "name": "stdout",
          "output_type": "stream",
          "text": [
            "This is line 1\n"
          ]
        }
      ],
      "source": [
        "## Read the written file above\n",
        "with open(written_file_name, 'r') as read_written_file:\n",
        "\tprint(read_written_file.read())"
      ]
    },
    {
      "attachments": {},
      "cell_type": "markdown",
      "metadata": {},
      "source": [
        "We can write multiple lines:\n"
      ]
    },
    {
      "cell_type": "code",
      "execution_count": 6,
      "metadata": {},
      "outputs": [],
      "source": [
        "## Write lines to file\n",
        "with open(written_file_name, 'w') as written_file:\n",
        "\twritten_file.write(\"This is line 1\\n\")\n",
        "\twritten_file.write(\"This is line 2\\n\")"
      ]
    },
    {
      "attachments": {},
      "cell_type": "markdown",
      "metadata": {},
      "source": [
        "The method `write()` works similar to the method `readline()`, except that instead of reading a new line, it writes a new line."
      ]
    },
    {
      "attachments": {},
      "cell_type": "markdown",
      "metadata": {},
      "source": [
        "The process is illustrated in the figure below. The different colour coding of the grid represents a new line added to the file after each method call.\n",
        "\n",
        "<img src=\"https://cf-courses-data.s3.us.cloud-object-storage.appdomain.cloud/IBMDeveloperSkillsNetwork-PY0101EN-SkillsNetwork/labs/Module%204/images/WriteLine.png\" width=\"500\">"
      ]
    },
    {
      "attachments": {},
      "cell_type": "markdown",
      "metadata": {},
      "source": [
        "We can read the file to see if your results are correct."
      ]
    },
    {
      "cell_type": "code",
      "execution_count": 7,
      "metadata": {},
      "outputs": [
        {
          "name": "stdout",
          "output_type": "stream",
          "text": [
            "This is line 1\n",
            "This is line 2\n",
            "\n"
          ]
        }
      ],
      "source": [
        "## Check the file written above\n",
        "with open(written_file_name, 'r') as read_written_file:\n",
        "\tprint(read_written_file.read())"
      ]
    },
    {
      "attachments": {},
      "cell_type": "markdown",
      "metadata": {},
      "source": [
        "We can write a list to a .txt** file as follows."
      ]
    },
    {
      "cell_type": "code",
      "execution_count": 8,
      "metadata": {},
      "outputs": [
        {
          "name": "stdout",
          "output_type": "stream",
          "text": [
            "['This is line A\\n', 'This is line B\\n', 'This is line C\\n']\n",
            "--------------------------------------------------\n",
            "This is line A\n",
            "\n",
            "This is line B\n",
            "\n",
            "This is line C\n",
            "\n",
            "--------------------------------------------------\n",
            "This is line A\n",
            "This is line B\n",
            "This is line C\n",
            "\n"
          ]
        }
      ],
      "source": [
        "## List of lines\n",
        "lines = [\"This is line A\\n\", \"This is line B\\n\", \"This is line C\\n\"]\n",
        "print(lines)\n",
        "\n",
        "print(\"-\"*50)\n",
        "\n",
        "## Write the strings in the list to text file\n",
        "with open('WiteFile.txt', 'w') as written_file:\n",
        "\tfor line in lines:\n",
        "\t\tprint(line)\n",
        "\t\twritten_file.write(line)\n",
        "\n",
        "print(\"-\"*50)\n",
        "\n",
        "## Verify the content written above\n",
        "with open('WiteFile.txt', 'r') as read_written_file:\n",
        "\tprint(read_written_file.read())"
      ]
    },
    {
      "attachments": {},
      "cell_type": "markdown",
      "metadata": {},
      "source": [
        "However, note that setting the mode to `w` overwrites all the existing data in the file."
      ]
    },
    {
      "cell_type": "code",
      "execution_count": 9,
      "metadata": {},
      "outputs": [
        {
          "name": "stdout",
          "output_type": "stream",
          "text": [
            "Overwrite\n",
            "\n"
          ]
        }
      ],
      "source": [
        "## Overwrite existing data\n",
        "with open('WiteFile.txt', 'w') as written_file:\n",
        "\twritten_file.write(\"Overwrite\\n\")\n",
        "with open('WiteFile.txt', 'r') as read_written_file:\n",
        "\tprint(read_written_file.read())"
      ]
    },
    {
      "attachments": {},
      "cell_type": "markdown",
      "metadata": {},
      "source": [
        "## Appending Files"
      ]
    },
    {
      "attachments": {},
      "cell_type": "markdown",
      "metadata": {},
      "source": [
        "We can write to files without losing any of the existing data by setting the mode argument to `a` (append). Every `write()` is called, it will append the text to the file."
      ]
    },
    {
      "cell_type": "code",
      "execution_count": 10,
      "metadata": {},
      "outputs": [],
      "source": [
        "## Write to the existing file without overwriting \n",
        "with open('WiteFile.txt', 'a') as written_file:\n",
        "\twritten_file.write(\"This is line 1\\n\")\n",
        "\twritten_file.write(\"This is line 2\\n\")\n",
        "\twritten_file.write(\"This is line 3\\n\")"
      ]
    },
    {
      "cell_type": "code",
      "execution_count": 11,
      "metadata": {},
      "outputs": [
        {
          "name": "stdout",
          "output_type": "stream",
          "text": [
            "Overwrite\n",
            "This is line 1\n",
            "This is line 2\n",
            "This is line 3\n",
            "\n"
          ]
        }
      ],
      "source": [
        "## Verify the new lines were appended to the file \n",
        "with open('WiteFile.txt', 'r') as read_written_file:\n",
        "\tprint(read_written_file.read())"
      ]
    },
    {
      "attachments": {},
      "cell_type": "markdown",
      "metadata": {},
      "source": [
        "## Additional Modes"
      ]
    },
    {
      "attachments": {},
      "cell_type": "markdown",
      "metadata": {},
      "source": [
        "It's fairly ineffecient to open the file in `a` or `w` and then reopening it in `r` to read any lines. Luckily, we can access the file in the following modes:\n",
        "\n",
        "- `r+`\n",
        "  - Reading and writing. Unable to truncate the file.\n",
        "- `w+`\n",
        "  - Writing and reading. Able to truncate the file.\n",
        "- `a+`\n",
        "  - Appending and Reading. Create a new file, if none exists.\n",
        "\n",
        "We don't have to dwell on the specifics of each mode for this lab."
      ]
    },
    {
      "attachments": {},
      "cell_type": "markdown",
      "metadata": {},
      "source": [
        "Let's try out the `a+` mode."
      ]
    },
    {
      "cell_type": "code",
      "execution_count": 21,
      "metadata": {},
      "outputs": [
        {
          "name": "stdout",
          "output_type": "stream",
          "text": [
            "\n"
          ]
        }
      ],
      "source": [
        "with open('WiteFile.txt', 'a+') as file_append_plus:\n",
        "\tfile_append_plus.write(\"This line is appended in a+ mode.\")\n",
        "\tprint(file_append_plus.read())"
      ]
    },
    {
      "attachments": {},
      "cell_type": "markdown",
      "metadata": {},
      "source": [
        "There were no errors but `read()` also did not output anything. This is because of our location in the file. Most of the file methods above work in a certain location in the file. `write()` writes at a certain location in the file, `read()` reads at a certain location in the file and so on. We can think of this as moving a pointer around in the notepad to make changes at specific location.\n",
        "\n",
        "Opening the file in `w` is akin to opening the .txt file, moving the cursor to the beginning of the text file, writing new text and deleting everything that follows, whereas opening the file in `a` is similiar to opening the .txt file, moving the cursor to the very end and then adding the new pieces of text.\n",
        "\n",
        "It is often very useful to know where the pointer (the \"cursor\") is in a file and be able to control it. The following methods allow us to do precisely this:\n",
        "\n",
        "- `tell()` - returns the current position in bytes\n",
        "- `seek(offset, from)` - changes the position by `offset` bytes with respect to `from`, which can take the value of 0, 1, or 2 corresponding to beginning, relative to current position and end."
      ]
    },
    {
      "attachments": {},
      "cell_type": "markdown",
      "metadata": {},
      "source": [
        "Now lets revisit `a+`."
      ]
    },
    {
      "cell_type": "code",
      "execution_count": 13,
      "metadata": {},
      "outputs": [
        {
          "name": "stdout",
          "output_type": "stream",
          "text": [
            "Initial Location: 75\n",
            "Nothing was read\n",
            "New Location: 0\n",
            "Overwrite\n",
            "This is line 1\n",
            "This is line 2\n",
            "This is line 3\n",
            "This is line 5\n",
            "\n",
            "New Location: 75\n"
          ]
        }
      ],
      "source": [
        "with open('WiteFile.txt', 'a+') as file_append_plus:\n",
        "\tprint(\"Initial Location: {}\".format(file_append_plus.tell()))\n",
        "\t\n",
        "\tdata = file_append_plus.read()\n",
        "\tif (not data):  ## Empty strings return False in python\n",
        "\t\tprint(\"Nothing was read\")\n",
        "\telse:\n",
        "\t\tprint(data)\n",
        "\t\n",
        "\t## Move 0 bytes from the beginning of the file\n",
        "\tfile_append_plus.seek(0, 0)\n",
        "\n",
        "\tprint(\"New Location: {}\".format(file_append_plus.tell()))\n",
        "\t\n",
        "\tdata = file_append_plus.read()\n",
        "\tif (not data):\n",
        "\t\tprint(\"Nothing was read\")\n",
        "\telse:\n",
        "\t\tprint(data)\n",
        "\t\n",
        "\tprint(\"New Location: {}\".format(file_append_plus.tell()) )"
      ]
    },
    {
      "attachments": {},
      "cell_type": "markdown",
      "metadata": {},
      "source": [
        "Finally, a note on the difference between `w+` and `r+`. Both of these modes allow access to read and write methods; however, opening a file in `w+` overwrites it and deletes all pre-existing data.\n",
        "\n",
        "To work with a file on existing data, use `r+` and `a+`. While using `r+`, it can be useful to add the `truncate()` method at the end of our data. This will reduce the file size to our data and delete everything that follows.\n",
        "\n",
        "In the following code block, run the code with `truncate()` uncommented and then commented to see the difference."
      ]
    },
    {
      "cell_type": "code",
      "execution_count": 14,
      "metadata": {},
      "outputs": [
        {
          "name": "stdout",
          "output_type": "stream",
          "text": [
            "['Overwrite\\n', 'This is line 1\\n', 'This is line 2\\n', 'This is line 3\\n', 'This is line 5\\n']\n",
            "Line 1\n",
            "Line 2\n",
            "Line 3\n",
            "Finished\n",
            " line 2\n",
            "This is line 3\n",
            "This is line 5\n",
            "\n"
          ]
        }
      ],
      "source": [
        "with open('WiteFile.txt', 'r+') as file_read_plus:\n",
        "\tdata = file_read_plus.readlines()\n",
        "\tprint(data)\n",
        "\t## Move 0 bytes from the beginning of the file\n",
        "\tfile_read_plus.seek(0, 0)\n",
        "\tfile_read_plus.write(\"Line 1\" + \"\\n\")\n",
        "\tfile_read_plus.write(\"Line 2\" + \"\\n\")\n",
        "\tfile_read_plus.write(\"Line 3\" + \"\\n\")\n",
        "\tfile_read_plus.write(\"Finished\\n\")\n",
        "\t## Truncates the file's size\n",
        "\t# file_read_plus.truncate()\n",
        "\t## Move 0 bytes from the beginning of the file\n",
        "\tfile_read_plus.seek(0, 0)\n",
        "\tprint(file_read_plus.read())"
      ]
    },
    {
      "attachments": {},
      "cell_type": "markdown",
      "metadata": {},
      "source": [
        "## Copying a File"
      ]
    },
    {
      "cell_type": "code",
      "execution_count": 15,
      "metadata": {},
      "outputs": [],
      "source": [
        "## Copy file to another\n",
        "with open('WiteFile.txt', 'r') as file_read:\n",
        "\twith open('WiteFile1.txt', 'w') as file_copied:\n",
        "\t\tfor line in file_read:\n",
        "\t\t\tfile_copied.write(line)"
      ]
    },
    {
      "attachments": {},
      "cell_type": "markdown",
      "metadata": {},
      "source": [
        "We can read the file to see if everything works."
      ]
    },
    {
      "cell_type": "code",
      "execution_count": 16,
      "metadata": {},
      "outputs": [
        {
          "name": "stdout",
          "output_type": "stream",
          "text": [
            "Line 1\n",
            "Line 2\n",
            "Line 3\n",
            "Finished\n",
            " line 2\n",
            "This is line 3\n",
            "This is line 5\n",
            "\n"
          ]
        }
      ],
      "source": [
        "## Check if the file content was copied successfully\n",
        "with open('WiteFile1.txt','r') as file_read_1:\n",
        "\tprint(file_read_1.read())"
      ]
    },
    {
      "attachments": {},
      "cell_type": "markdown",
      "metadata": {},
      "source": [
        "After reading files, we can also write data into files and save them in different file formats like `.txt`, `.csv`, `.xls` (for Excel files), etc."
      ]
    },
    {
      "attachments": {},
      "cell_type": "markdown",
      "metadata": {},
      "source": [
        "---"
      ]
    },
    {
      "attachments": {},
      "cell_type": "markdown",
      "metadata": {},
      "source": [
        "## Exercises"
      ]
    },
    {
      "attachments": {},
      "cell_type": "markdown",
      "metadata": {},
      "source": [
        "Your local university's Raptors fan club maintains a register of its active members on a .txt document. Every month they update the file by removing the members who are not active. You have been tasked with automating this with your Python skills. <br>\n",
        "Given the file `cur_mem_file_name`, Remove each member with a 'no' in their Active column. Keep track of each of the removed members and append them to the `ex_mem_file_name` file. Make sure that the format of the original files in preserved.   (*Hint: Do this by reading/writing whole lines and ensuring the header remains* )\n",
        "<br>\n",
        "Run the code block below prior to starting the exercise. The skeleton code has been provided for you. Edit only the `clean_files` function.\n"
      ]
    },
    {
      "cell_type": "code",
      "execution_count": 17,
      "metadata": {},
      "outputs": [],
      "source": [
        "## Generate text files for the exercise\n",
        "from random import randint as rnd\n",
        "\n",
        "cur_mem_file_name = 'CurrentMembers.txt'\n",
        "ex_mem_file_name = 'InactiveMembers.txt'\n",
        "fee = ('Yes', 'No')\n",
        "\n",
        "def gen_files(current, old):\n",
        "\tcol_name_1 = \"Membership ID\"\n",
        "\tcol_name_2 = \"Date Joined\"\n",
        "\tcol_name_3 = \"Active Status\"\n",
        "\tglobal file_header\n",
        "\tfile_header = f\"{col_name_1}\\t\\t{col_name_2}\\t\\t{col_name_3}\\n\"\n",
        "\n",
        "\twith open(current, 'w+') as file_current:\n",
        "\t\t## Write file header\n",
        "\t\tfile_current.write(file_header)\n",
        "\t\t## Number of rows in the file\n",
        "\t\tfor row_num in range(20):\n",
        "\t\t\t## Generate random dates\n",
        "\t\t\tdate = str(rnd(2015, 2020)) + \"-\" + str(rnd(1, 12)) + \"-\" + str(rnd(1, 28))\n",
        "\t\t\t## Member status active and inactive in cur_mem_file_name\n",
        "\t\t\tfile_current.write(\"{:^13}\\t\\t{:<11}\\t\\t{:<6}\\n\".format(rnd(10000, 99999), date, fee[rnd(0, 1)]))\n",
        "\t\n",
        "\twith open(old, 'w+') as file_old:\n",
        "\t\t## Write file header\n",
        "\t\tfile_old.write(file_header)\n",
        "\t\t## Number of rows in the file\n",
        "\t\tfor row_num in range(3):\n",
        "\t\t\t## Generate random dates\n",
        "\t\t\tdate = str(rnd(2015, 2020)) + \"-\" + str(rnd(1, 12)) + \"-\" + str(rnd(1, 28))\n",
        "\t\t\t## Member status always inactive in ex_members\n",
        "\t\t\tfile_old.write(\"{:^13}\\t\\t{:<11}\\t\\t{:<6}\\n\".format(rnd(10000, 99999), date, fee[1]))\n",
        "\n",
        "gen_files(cur_mem_file_name, ex_mem_file_name)"
      ]
    },
    {
      "attachments": {},
      "cell_type": "markdown",
      "metadata": {},
      "source": [
        "Run the the prerequisite code cell above to prepare the files for this exercise and then implement the clean_files() function in the code cell below.\n",
        "\n",
        "2 arguments for this function:\n",
        "- `cur_mem_file_name`: Name of file containing list of current members\n",
        "- `ex_mem_file_name`: Name of file containing list of former members\n",
        "\n",
        "This function should remove all rows from cur_mem_file_name containing \"No\" in the \"Active Status\" column and append them to ex_mem_file_name."
      ]
    },
    {
      "cell_type": "code",
      "execution_count": 18,
      "metadata": {},
      "outputs": [
        {
          "name": "stdout",
          "output_type": "stream",
          "text": [
            "Number of all current members: 20\n",
            "----------------------------------------------------------------------------------------------------\n",
            "member_list:\n",
            "['    32765    \\t\\t2020-6-16  \\t\\tNo    \\n', '    62853    \\t\\t2019-10-10 \\t\\tYes   \\n', '    30520    \\t\\t2016-7-1   \\t\\tYes   \\n', '    13974    \\t\\t2019-12-11 \\t\\tNo    \\n', '    50250    \\t\\t2016-8-20  \\t\\tYes   \\n', '    82405    \\t\\t2017-7-3   \\t\\tNo    \\n', '    29624    \\t\\t2020-10-27 \\t\\tYes   \\n', '    15067    \\t\\t2016-7-26  \\t\\tNo    \\n', '    52327    \\t\\t2016-10-15 \\t\\tNo    \\n', '    14885    \\t\\t2016-5-13  \\t\\tNo    \\n', '    20888    \\t\\t2019-12-7  \\t\\tNo    \\n', '    89520    \\t\\t2020-7-6   \\t\\tNo    \\n', '    64747    \\t\\t2017-9-9   \\t\\tNo    \\n', '    36780    \\t\\t2015-3-13  \\t\\tNo    \\n', '    12583    \\t\\t2018-1-20  \\t\\tNo    \\n', '    74754    \\t\\t2017-8-14  \\t\\tNo    \\n', '    73935    \\t\\t2018-1-20  \\t\\tNo    \\n', '    45573    \\t\\t2020-8-16  \\t\\tYes   \\n', '    90830    \\t\\t2020-12-27 \\t\\tYes   \\n', '    19213    \\t\\t2016-2-15  \\t\\tYes   \\n']\n",
            "Number of active_members: 7\n",
            "----------------------------------------------------------------------------------------------------\n",
            "active_members:\n",
            "['    62853    \\t\\t2019-10-10 \\t\\tYes   \\n', '    30520    \\t\\t2016-7-1   \\t\\tYes   \\n', '    50250    \\t\\t2016-8-20  \\t\\tYes   \\n', '    29624    \\t\\t2020-10-27 \\t\\tYes   \\n', '    45573    \\t\\t2020-8-16  \\t\\tYes   \\n', '    90830    \\t\\t2020-12-27 \\t\\tYes   \\n', '    19213    \\t\\t2016-2-15  \\t\\tYes   \\n']\n",
            "Number of inactive members: 13\n",
            "----------------------------------------------------------------------------------------------------\n",
            "inactive_members:\n",
            "['    32765    \\t\\t2020-6-16  \\t\\tNo    \\n', '    13974    \\t\\t2019-12-11 \\t\\tNo    \\n', '    82405    \\t\\t2017-7-3   \\t\\tNo    \\n', '    15067    \\t\\t2016-7-26  \\t\\tNo    \\n', '    52327    \\t\\t2016-10-15 \\t\\tNo    \\n', '    14885    \\t\\t2016-5-13  \\t\\tNo    \\n', '    20888    \\t\\t2019-12-7  \\t\\tNo    \\n', '    89520    \\t\\t2020-7-6   \\t\\tNo    \\n', '    64747    \\t\\t2017-9-9   \\t\\tNo    \\n', '    36780    \\t\\t2015-3-13  \\t\\tNo    \\n', '    12583    \\t\\t2018-1-20  \\t\\tNo    \\n', '    74754    \\t\\t2017-8-14  \\t\\tNo    \\n', '    73935    \\t\\t2018-1-20  \\t\\tNo    \\n']\n",
            "Current position in the file cur_mem_file: 763\n",
            "Current position in the file cur_mem_file: 0\n",
            "Current position in the file cur_mem_file: 43\n",
            "Current position in the file cur_mem_file: 295\n",
            "Current position in the file ex_mem_file: 151\n"
          ]
        }
      ],
      "source": [
        "def clean_files(cur_mem_file_name, ex_mem_file_name):\n",
        "\t'''\n",
        "\tThis function moves inactive members from cur_mem_file_name to ex_mem_file_name.\n",
        "\t'''\n",
        "\t# TODO: Open cur_mem_file in r+ mode\n",
        "\twith open(cur_mem_file_name, 'r+') as cur_mem_file:\n",
        "\t\t# TODO: Open ex_mem_file in a+ mode\n",
        "\t\twith open(ex_mem_file_name, 'a+') as ex_mem_file:\n",
        "\t\t\t# TODO: Read each member in cur_mem_file_name (1 member per row) into a list\n",
        "\t\t\t# HINT: Recall that the 1st line in the file is the header\n",
        "\t\t\tmember_list = cur_mem_file.readlines()\n",
        "\t\t\t## Remove the header row (1st row)\n",
        "\t\t\tmember_list = member_list[1:]\n",
        "\t\t\tprint(f\"Number of all current members: {len(member_list)}\")\n",
        "\t\t\tprint(f\"{'-'*100}\\nmember_list:\\n{member_list}\")\n",
        "\t\t\t# TODO: Iterate through the members and create a new list of the inactive members\n",
        "\t\t\t# TODO: Go to the beginning of cur_mem_file\n",
        "\t\t\t# TODO: Iterate through the members list, add inactive members to ex_mem_file and write active ones to cur_mem_file  \n",
        "\t\t\tactive_members = []\n",
        "\t\t\tinactive_members = []\n",
        "\t\t\tfor member in member_list: \n",
        "\t\t\t\tif \"No\" in member:\n",
        "\t\t\t\t\tinactive_members.append(member)\n",
        "\t\t\t\telif \"Yes\" in member:\n",
        "\t\t\t\t\tactive_members.append(member)\n",
        "\t\t\t\telse: \n",
        "\t\t\t\t\tprint(\"Error!\".upper())\n",
        "\t\t\t\t\tprint(f\"The following member was not properly put into the active or inactive member list:\\n{member}\")\n",
        "\t\t\tprint(f\"Number of active_members: {len(active_members)}\")\n",
        "\t\t\tprint(f\"{'-'*100}\\nactive_members:\\n{active_members}\")\n",
        "\t\t\tprint(f\"Number of inactive members: {len(inactive_members)}\")\n",
        "\t\t\tprint(f\"{'-'*100}\\ninactive_members:\\n{inactive_members}\")\n",
        "\t\t\t## Move the file pointer to the beginning of the file\n",
        "\t\t\tprint(f\"Current position in the file cur_mem_file: {cur_mem_file.tell()}\")\n",
        "\t\t\tcur_mem_file.seek(0, 0)\n",
        "\t\t\tprint(f\"Current position in the file cur_mem_file: {cur_mem_file.tell()}\")\n",
        "\t\t\t## Write the header row\n",
        "\t\t\tcur_mem_file.write(file_header)\n",
        "\t\t\tprint(f\"Current position in the file cur_mem_file: {cur_mem_file.tell()}\")\n",
        "\t\t\tfor ac_mem in active_members: \n",
        "\t\t\t\tcur_mem_file.write(ac_mem)\n",
        "\t\t\tprint(f\"Current position in the file cur_mem_file: {cur_mem_file.tell()}\")\n",
        "\t\t\t## Need to limit the file size to remove the original lines before writing\n",
        "\t\t\tcur_mem_file.truncate()\n",
        "\t\t\t## File pointer should be at the end to append content to the file\n",
        "\t\t\tprint(f\"Current position in the file ex_mem_file: {ex_mem_file.tell()}\")\n",
        "\t\t\tfor ex_mem in inactive_members: \n",
        "\t\t\t\tex_mem_file.write(ex_mem)\n",
        "\n",
        "\n",
        "clean_files(cur_mem_file_name, ex_mem_file_name)"
      ]
    },
    {
      "cell_type": "code",
      "execution_count": 19,
      "metadata": {},
      "outputs": [
        {
          "name": "stdout",
          "output_type": "stream",
          "text": [
            "-------------------------------------------ACTIVE MEMBERS-------------------------------------------\n",
            "Membership ID\t\tDate Joined\t\tActive Status\n",
            "    62853    \t\t2019-10-10 \t\tYes   \n",
            "    30520    \t\t2016-7-1   \t\tYes   \n",
            "    50250    \t\t2016-8-20  \t\tYes   \n",
            "    29624    \t\t2020-10-27 \t\tYes   \n",
            "    45573    \t\t2020-8-16  \t\tYes   \n",
            "    90830    \t\t2020-12-27 \t\tYes   \n",
            "    19213    \t\t2016-2-15  \t\tYes   \n",
            "\n",
            "----------------------------------------------------------------------------------------------------\n",
            "------------------------------------------INACTIVE MEMBERS------------------------------------------\n",
            "Membership ID\t\tDate Joined\t\tActive Status\n",
            "    24495    \t\t2018-5-21  \t\tNo    \n",
            "    33057    \t\t2015-4-26  \t\tNo    \n",
            "    16577    \t\t2020-2-18  \t\tNo    \n",
            "    32765    \t\t2020-6-16  \t\tNo    \n",
            "    13974    \t\t2019-12-11 \t\tNo    \n",
            "    82405    \t\t2017-7-3   \t\tNo    \n",
            "    15067    \t\t2016-7-26  \t\tNo    \n",
            "    52327    \t\t2016-10-15 \t\tNo    \n",
            "    14885    \t\t2016-5-13  \t\tNo    \n",
            "    20888    \t\t2019-12-7  \t\tNo    \n",
            "    89520    \t\t2020-7-6   \t\tNo    \n",
            "    64747    \t\t2017-9-9   \t\tNo    \n",
            "    36780    \t\t2015-3-13  \t\tNo    \n",
            "    12583    \t\t2018-1-20  \t\tNo    \n",
            "    74754    \t\t2017-8-14  \t\tNo    \n",
            "    73935    \t\t2018-1-20  \t\tNo    \n",
            "\n",
            "----------------------------------------------------------------------------------------------------\n"
          ]
        }
      ],
      "source": [
        "## View the files\n",
        "\n",
        "with open(cur_mem_file_name, 'r') as cur_mem_file:\n",
        "\theader = \"Active Members\"\n",
        "\tprint(f\"{'-'*int((100-len(header))/2)}{header.upper()}{'-'*int((100-len(header))/2)}\")\n",
        "\tprint(cur_mem_file.read())\n",
        "\tprint(\"-\"*100)\n",
        "\n",
        "with open(ex_mem_file_name, 'r') as ex_mem_file:\n",
        "\theader = \"Inactive Members\"\n",
        "\tprint(f\"{'-'*int((100-len(header))/2)}{header.upper()}{'-'*int((100-len(header))/2)}\")\n",
        "\tprint(ex_mem_file.read())\n",
        "\tprint(\"-\"*100)"
      ]
    },
    {
      "attachments": {},
      "cell_type": "markdown",
      "metadata": {},
      "source": [
        "Run the code cell below to test `clean_files()`."
      ]
    },
    {
      "cell_type": "code",
      "execution_count": 20,
      "metadata": {},
      "outputs": [
        {
          "name": "stdout",
          "output_type": "stream",
          "text": [
            "Number of all current members: 20\n",
            "----------------------------------------------------------------------------------------------------\n",
            "member_list:\n",
            "['    57518    \\t\\t2016-5-21  \\t\\tNo    \\n', '    69316    \\t\\t2015-9-8   \\t\\tNo    \\n', '    17997    \\t\\t2015-10-26 \\t\\tNo    \\n', '    57630    \\t\\t2016-1-18  \\t\\tNo    \\n', '    31097    \\t\\t2017-5-8   \\t\\tYes   \\n', '    79910    \\t\\t2019-6-23  \\t\\tYes   \\n', '    63231    \\t\\t2015-2-5   \\t\\tYes   \\n', '    69291    \\t\\t2019-12-28 \\t\\tNo    \\n', '    69608    \\t\\t2017-3-18  \\t\\tNo    \\n', '    65823    \\t\\t2019-10-3  \\t\\tNo    \\n', '    97939    \\t\\t2015-1-14  \\t\\tYes   \\n', '    48786    \\t\\t2015-6-20  \\t\\tNo    \\n', '    88520    \\t\\t2019-10-17 \\t\\tNo    \\n', '    93359    \\t\\t2017-12-9  \\t\\tNo    \\n', '    89939    \\t\\t2015-4-1   \\t\\tYes   \\n', '    79016    \\t\\t2018-4-9   \\t\\tYes   \\n', '    96017    \\t\\t2016-1-12  \\t\\tYes   \\n', '    63848    \\t\\t2017-2-15  \\t\\tYes   \\n', '    68336    \\t\\t2020-3-14  \\t\\tYes   \\n', '    24736    \\t\\t2015-9-7   \\t\\tNo    \\n']\n",
            "Number of active_members: 9\n",
            "----------------------------------------------------------------------------------------------------\n",
            "active_members:\n",
            "['    31097    \\t\\t2017-5-8   \\t\\tYes   \\n', '    79910    \\t\\t2019-6-23  \\t\\tYes   \\n', '    63231    \\t\\t2015-2-5   \\t\\tYes   \\n', '    97939    \\t\\t2015-1-14  \\t\\tYes   \\n', '    89939    \\t\\t2015-4-1   \\t\\tYes   \\n', '    79016    \\t\\t2018-4-9   \\t\\tYes   \\n', '    96017    \\t\\t2016-1-12  \\t\\tYes   \\n', '    63848    \\t\\t2017-2-15  \\t\\tYes   \\n', '    68336    \\t\\t2020-3-14  \\t\\tYes   \\n']\n",
            "Number of inactive members: 11\n",
            "----------------------------------------------------------------------------------------------------\n",
            "inactive_members:\n",
            "['    57518    \\t\\t2016-5-21  \\t\\tNo    \\n', '    69316    \\t\\t2015-9-8   \\t\\tNo    \\n', '    17997    \\t\\t2015-10-26 \\t\\tNo    \\n', '    57630    \\t\\t2016-1-18  \\t\\tNo    \\n', '    69291    \\t\\t2019-12-28 \\t\\tNo    \\n', '    69608    \\t\\t2017-3-18  \\t\\tNo    \\n', '    65823    \\t\\t2019-10-3  \\t\\tNo    \\n', '    48786    \\t\\t2015-6-20  \\t\\tNo    \\n', '    88520    \\t\\t2019-10-17 \\t\\tNo    \\n', '    93359    \\t\\t2017-12-9  \\t\\tNo    \\n', '    24736    \\t\\t2015-9-7   \\t\\tNo    \\n']\n",
            "Current position in the file cur_mem_file: 763\n",
            "Current position in the file cur_mem_file: 0\n",
            "Current position in the file cur_mem_file: 43\n",
            "Current position in the file cur_mem_file: 367\n",
            "Current position in the file ex_mem_file: 151\n",
            "Test Passed\n"
          ]
        }
      ],
      "source": [
        "def test_msg(passed):\n",
        "\tif passed:\n",
        "\t\treturn 'Test Passed'\n",
        "\telse:\n",
        "\t\treturn 'Test Failed'\n",
        "\n",
        "test_write = \"TestWrite.txt\"\n",
        "test_append = \"TestAppend.txt\"\n",
        "passed = True\n",
        "\n",
        "gen_files(test_write, test_append)\n",
        "\n",
        "with open(test_write, 'r') as test_file_write:\n",
        "\tgen_files_write_lines = test_file_write.readlines()\n",
        "\n",
        "with open(test_append, 'r') as test_file_append:\n",
        "\tgen_files_append_lines = test_file_append.readlines()\n",
        "\n",
        "try:\n",
        "\tclean_files(test_write, test_append)\n",
        "except:\n",
        "\tprint(\"Error!\".upper())\n",
        "\n",
        "with open(test_write, 'r') as test_file_write:\n",
        "\tclean_files_write_lines = test_file_write.readlines()\n",
        "\n",
        "with open(test_append, 'r') as test_file_append:\n",
        "\tclean_files_append_lines = test_file_append.readlines()\n",
        "\n",
        "## Check if the total no. of rows, including header row, in each file is same\n",
        "\n",
        "if (len(gen_files_write_lines) + len(gen_files_append_lines) != len(clean_files_write_lines) + len(clean_files_append_lines)):\n",
        "\tprint(\"The numbers of rows do not add up. Make sure your final files have the same header and format.\")\n",
        "\tpassed = False\n",
        "\n",
        "for line in clean_files_write_lines:\n",
        "\tif 'No' in line:\n",
        "\t\tpassed = False\n",
        "\t\tprint(\"Inactive members in file\")\n",
        "\t\tbreak\n",
        "\telse:\n",
        "\t\tif line not in gen_files_write_lines:\n",
        "\t\t\tprint(\"Data in file does not match original file\")\n",
        "\t\t\tpassed = False\n",
        "print(\"{}\".format(test_msg(passed)))"
      ]
    },
    {
      "attachments": {},
      "cell_type": "markdown",
      "metadata": {},
      "source": [
        "<details><summary>Click here for the solution</summary>\n",
        "\n",
        "```python\n",
        "def clean_files(cur_mem_file_name,ex_mem_file_name):\n",
        "    with open(cur_mem_file_name,'r+') as writeFile: \n",
        "        with open(ex_mem_file_name,'a+') as appendFile:\n",
        "            # get the data\n",
        "            writeFile.seek(0)\n",
        "            members = writeFile.readlines()\n",
        "            # remove header\n",
        "            header = members[0]\n",
        "            members.pop(0)\n",
        "                \n",
        "            inactive = [member for member in members if ('no' in member)]\n",
        "            '''\n",
        "            The above is the same as \n",
        "\n",
        "            for member in members:\n",
        "            if 'no' in member:\n",
        "                inactive.append(member)\n",
        "            '''\n",
        "            # go to the beginning of the write file\n",
        "            writeFile.seek(0) \n",
        "            writeFile.write(header)\n",
        "            for member in members:\n",
        "                if (member in inactive):\n",
        "                    appendFile.write(member)\n",
        "                else:\n",
        "                    writeFile.write(member)      \n",
        "            writeFile.truncate()\n",
        "                \n",
        "current_members = 'members.txt'\n",
        "ex_members = 'inactive.txt'\n",
        "clean_files(current_members,ex_members)\n",
        "\n",
        "# code to help you see the files\n",
        "\n",
        "headers = \"Membership No  Date Joined  Active  \\n\"\n",
        "\n",
        "with open(current_members,'r') as readFile:\n",
        "    print(\"Active Members: \\n\\n\")\n",
        "    print(readFile.read())\n",
        "    \n",
        "with open(ex_members,'r') as readFile:\n",
        "    print(\"Inactive Members: \\n\\n\")\n",
        "    print(readFile.read())\n",
        "```\n",
        "\n",
        "</details>"
      ]
    },
    {
      "attachments": {},
      "cell_type": "markdown",
      "metadata": {},
      "source": [
        "---"
      ]
    },
    {
      "attachments": {},
      "cell_type": "markdown",
      "metadata": {},
      "source": [
        "Author(s):\n",
        "\n",
        "- [Joseph Santarcangelo](https://www.linkedin.com/in/joseph-s-50398b136/?utm_medium=Exinfluencer&utm_source=Exinfluencer&utm_content=000026UJ&utm_term=10006555&utm_id=NA-SkillsNetwork-Channel-SkillsNetworkCoursesIBMDeveloperSkillsNetworkPY0101ENSkillsNetwork1005-2022-01-01)\n",
        "\n",
        "Other Contributor(s):\n",
        "\n",
        "- [Mavis Zhou](www.linkedin.com/in/jiahui-mavis-zhou-a4537814a)"
      ]
    }
  ],
  "metadata": {
    "kernelspec": {
      "display_name": "base",
      "language": "python",
      "name": "python3"
    },
    "language_info": {
      "codemirror_mode": {
        "name": "ipython",
        "version": 3
      },
      "file_extension": ".py",
      "mimetype": "text/x-python",
      "name": "python",
      "nbconvert_exporter": "python",
      "pygments_lexer": "ipython3",
      "version": "3.8.13"
    },
    "vscode": {
      "interpreter": {
        "hash": "2011e8f1b66e4ca782a16183c079a9a8ceaa771eb94b3143f514bb5560527e59"
      }
    }
  },
  "nbformat": 4,
  "nbformat_minor": 4
}
