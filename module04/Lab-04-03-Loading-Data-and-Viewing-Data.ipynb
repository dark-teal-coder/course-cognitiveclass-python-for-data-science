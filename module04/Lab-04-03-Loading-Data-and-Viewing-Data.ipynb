{
  "cells": [
    {
      "attachments": {},
      "cell_type": "markdown",
      "metadata": {},
      "source": [
        "# Introduction to Pandas in Python\n",
        "\n",
        "\n",
        "Estimated time needed: **15** minutes\n",
        "    \n",
        "\n",
        "## Objectives\n",
        "\n",
        "After completing this lab you will be able to:\n",
        "\n",
        "* Use Pandas to access and view data\n",
        "\n",
        "## Table of Contents\n",
        "\n",
        "<div class=\"alert alert-block alert-info\" style=\"margin-top: 20px\">\n",
        "    <ul>\n",
        "        <li><a href=\"dataset\">About the Dataset</a></li>\n",
        "        <li><a href=\"pandas\">Introduction of <code>Pandas</code></a></li>\n",
        "        <li><a href=\"data\">Viewing Data and Accessing Data</a></li>\n",
        "        <li><a href=\"quiz\">Quiz on DataFrame</a></li>\n",
        "    </ul>\n",
        "  \n",
        "</div>"
      ]
    },
    {
      "attachments": {},
      "cell_type": "markdown",
      "metadata": {},
      "source": [
        "---"
      ]
    },
    {
      "attachments": {},
      "cell_type": "markdown",
      "metadata": {},
      "source": [
        "## Dataset"
      ]
    },
    {
      "attachments": {},
      "cell_type": "markdown",
      "metadata": {},
      "source": [
        "The table has one row for each album and several columns.\n",
        "\n",
        "- `Artist`\n",
        "  - Artist name\n",
        "- `Album`\n",
        "  - Album name\n",
        "- `Released`\n",
        "  - Year the album was released\n",
        "- `Length`\n",
        "  - Length of the album (hours, minutes, seconds)\n",
        "- `Genre`\n",
        "  - Genre of the album\n",
        "- `Music Recording Sales (millions)`\n",
        "  - Music recording sales (millions in USD) on [song-database.com](http://www.song-database.com/?utm_medium=Exinfluencer&utm_source=Exinfluencer&utm_content=000026UJ&utm_term=10006555&utm_id=NA-SkillsNetwork-Channel-SkillsNetworkCoursesIBMDeveloperSkillsNetworkPY0101ENSkillsNetwork1005-2022-01-01)\n",
        "- `Claimed Sales (millions)`\n",
        "  - Album's claimed sales (millions in USD) on [song-database.com](http://www.song-database.com/?utm_medium=Exinfluencer&utm_source=Exinfluencer&utm_content=000026UJ&utm_term=10006555&utm_id=NA-SkillsNetwork-Channel-SkillsNetworkCoursesIBMDeveloperSkillsNetworkPY0101ENSkillsNetwork1005-2022-01-01)\n",
        "- `Released.1`\n",
        "  - Release date of the album\n",
        "- `Soundtrack`\n",
        "  - Whether the album is the movie soundtrack (Y) or (N)\n",
        "- `Rating`\n",
        "  - Rating from friends from 1 to 10"
      ]
    },
    {
      "attachments": {},
      "cell_type": "markdown",
      "metadata": {},
      "source": [
        "See the dataset here:\n",
        "\n",
        "<font size=\"1\">\n",
        "<table font-size:xx-small>\n",
        "\t<tr>\n",
        "\t\t<th>Artist</th>\n",
        "\t\t<th>Album</th>\n",
        "\t\t<th>Released</th>\n",
        "\t\t<th>Length</th>\n",
        "\t\t<th>Genre</th>\n",
        "\t\t<th>Music Recording sales (millions)</th>\n",
        "\t\t<th>Claimed Sales (millions)</th>\n",
        "\t\t<th>Released</th>\n",
        "\t\t<th>Soundtrack</th>\n",
        "\t\t<th>Rating (friends)</th>\n",
        "\t</tr>\n",
        "\t<tr>\n",
        "\t\t<td>Michael Jackson</td>\n",
        "\t\t<td>Thriller</td>\n",
        "\t\t<td>1982</td>\n",
        "\t\t<td>00:42:19</td>\n",
        "\t\t<td>Pop, rock, R&B</td>\n",
        "\t\t<td>46</td>\n",
        "\t\t<td>65</td>\n",
        "\t\t<td>30-Nov-82</td>\n",
        "\t\t<td></td>\n",
        "\t\t<td>10.0</td>\n",
        "\t</tr>\n",
        "\t<tr>\n",
        "\t\t<td>AC/DC</td>\n",
        "\t\t<td>Back in Black</td>\n",
        "\t\t<td>1980</td>\n",
        "\t\t<td>00:42:11</td>\n",
        "\t\t<td>Hard rock</td>\n",
        "\t\t<td>26.1</td>\n",
        "\t\t<td>50</td>\n",
        "\t\t<td>25-Jul-80</td>\n",
        "\t\t<td></td>\n",
        "\t\t<td>8.5</td>\n",
        "\t</tr>\n",
        "\t<tr>\n",
        "\t\t<td>Pink Floyd</td>\n",
        "\t\t<td>The Dark Side of the Moon</td>\n",
        "\t\t<td>1973</td>\n",
        "\t\t<td>00:42:49</td>\n",
        "\t\t<td>Progressive rock</td>\n",
        "\t\t<td>24.2</td>\n",
        "\t\t<td>45</td>\n",
        "\t\t<td>01-Mar-73</td>\n",
        "\t\t<td></td>\n",
        "\t\t<td>9.5</td>\n",
        "\t</tr>\n",
        "\t<tr>\n",
        "\t\t<td>Whitney Houston</td>\n",
        "\t\t<td>The Bodyguard</td>\n",
        "\t\t<td>1992</td>\n",
        "\t\t<td>00:57:44</td>\n",
        "\t\t<td>Soundtrack/R&B, soul, pop</td>\n",
        "\t\t<td>26.1</td>\n",
        "\t\t<td>50</td>\n",
        "\t\t<td>25-Jul-80</td>\n",
        "\t\t<td>Y</td>\n",
        "\t\t<td>7.0</td>\n",
        "\t</tr>\n",
        "\t<tr>\n",
        "\t\t<td>Meat Loaf</td>\n",
        "\t\t<td>Bat Out of Hell</td>\n",
        "\t\t<td>1977</td>\n",
        "\t\t<td>00:46:33</td>\n",
        "\t\t<td>Hard rock, progressive rock</td>\n",
        "\t\t<td>20.6</td>\n",
        "\t\t<td>43</td>\n",
        "\t\t<td>21-Oct-77</td>\n",
        "\t\t<td></td>\n",
        "\t\t<td>7.0</td>\n",
        "\t</tr>\n",
        "\t<tr>\n",
        "\t\t<td>Eagles</td>\n",
        "\t\t<td>Their Greatest Hits (1971-1975)</td>\n",
        "\t\t<td>1976</td>\n",
        "\t\t<td>00:43:08</td>\n",
        "\t\t<td>Rock, soft rock, folk rock</td>\n",
        "\t\t<td>32.2</td>\n",
        "\t\t<td>42</td>\n",
        "\t\t<td>17-Feb-76</td>\n",
        "\t\t<td></td>\n",
        "\t\t<td>9.5</td>\n",
        "\t</tr>\n",
        "\t<tr>\n",
        "\t\t<td>Bee Gees</td>\n",
        "\t\t<td>Saturday Night Fever</td>\n",
        "\t\t<td>1977</td>\n",
        "\t\t<td>1:15:54</td>\n",
        "\t\t<td>Disco</td>\n",
        "\t\t<td>20.6</td>\n",
        "\t\t<td>40</td>\n",
        "\t\t<td>15-Nov-77</td>\n",
        "\t\t<td>Y</td>\n",
        "\t\t<td>9.0</td>\n",
        "\t</tr>\n",
        "\t<tr>\n",
        "\t\t<td>Fleetwood Mac</td>\n",
        "\t\t<td>Rumours</td>\n",
        "\t\t<td>1977</td>\n",
        "\t\t<td>00:40:01</td>\n",
        "\t\t<td>Soft rock</td>\n",
        "\t\t<td>27.9</td>\n",
        "\t\t<td>40</td>\n",
        "\t\t<td>04-Feb-77</td>\n",
        "\t\t<td></td>\n",
        "\t\t<td>9.5</td>\n",
        "\t</tr>\n",
        "</table>\n",
        "</font>"
      ]
    },
    {
      "attachments": {},
      "cell_type": "markdown",
      "metadata": {},
      "source": [
        "## Shell and Magic Commands"
      ]
    },
    {
      "attachments": {},
      "cell_type": "markdown",
      "metadata": {},
      "source": [
        "In IPython syntax, the exclamation mark (`!`) allows users to run shell commands from inside a Jupyter Notebook code cell. Shell commands in the Jupyter Notebook are executed in a temporary subshell. To do it in a more enduring way, use shell-like magic functions, e.g. `%cd`, `%ls`, `%pwd`"
      ]
    },
    {
      "cell_type": "code",
      "execution_count": 1,
      "metadata": {},
      "outputs": [
        {
          "name": "stdout",
          "output_type": "stream",
          "text": [
            "Requirement already satisfied: xlrd in c:\\users\\asus\\coding\\tools\\anaconda\\lib\\site-packages (2.0.1)\n",
            "Note: you may need to restart the kernel to use updated packages.\n"
          ]
        },
        {
          "name": "stderr",
          "output_type": "stream",
          "text": [
            "WARNING: Error parsing requirements for platformdirs: [Errno 2] No such file or directory: 'c:\\\\users\\\\asus\\\\coding\\\\tools\\\\anaconda\\\\lib\\\\site-packages\\\\platformdirs-2.5.2.dist-info\\\\METADATA'\n",
            "\n",
            "[notice] A new release of pip available: 22.3 -> 23.0.1\n",
            "[notice] To update, run: python.exe -m pip install --upgrade pip\n"
          ]
        },
        {
          "name": "stdout",
          "output_type": "stream",
          "text": [
            "Requirement already satisfied: openpyxl in c:\\users\\asus\\coding\\tools\\anaconda\\lib\\site-packages (3.0.10)\n",
            "Requirement already satisfied: et_xmlfile in c:\\users\\asus\\coding\\tools\\anaconda\\lib\\site-packages (from openpyxl) (1.1.0)\n",
            "Note: you may need to restart the kernel to use updated packages.\n"
          ]
        },
        {
          "name": "stderr",
          "output_type": "stream",
          "text": [
            "WARNING: Error parsing requirements for platformdirs: [Errno 2] No such file or directory: 'c:\\\\users\\\\asus\\\\coding\\\\tools\\\\anaconda\\\\lib\\\\site-packages\\\\platformdirs-2.5.2.dist-info\\\\METADATA'\n",
            "\n",
            "[notice] A new release of pip available: 22.3 -> 23.0.1\n",
            "[notice] To update, run: python.exe -m pip install --upgrade pip\n"
          ]
        }
      ],
      "source": [
        "## Install dependencies\n",
        "## Library for reading data and formatting information from Excel files \n",
        "## 1) Platform dependant shell commands\n",
        "# !pip install xlrd\n",
        "## 2) Magic commands provided by IPython kernel\n",
        "%pip install xlrd\n",
        "## Library to read and write Excel 2010 xlsx/xlsm/xltx/xltm files\n",
        "## 1) Platform dependant shell commands\n",
        "# !pip install openpyxl\n",
        "## 2) Magic commands provided by IPython kernel\n",
        "%pip install openpyxl"
      ]
    },
    {
      "attachments": {},
      "cell_type": "markdown",
      "metadata": {},
      "source": [
        "## Introduction to Pandas"
      ]
    },
    {
      "cell_type": "code",
      "execution_count": 2,
      "metadata": {},
      "outputs": [],
      "source": [
        "## Import the required library\n",
        "import pandas as pd"
      ]
    },
    {
      "attachments": {},
      "cell_type": "markdown",
      "metadata": {},
      "source": [
        "After the `import` command, we now have access to a large number of pre-built classes and functions. This assumes the library is installed. In our cloud lab environment, all the necessary libraries are installed. One way Pandas allows us to work with data is a `DataFrame`. Let's go through the process to go from a comma separated values (`.csv`) file to a dataframe. "
      ]
    },
    {
      "cell_type": "markdown",
      "metadata": {},
      "source": [
        "The variable `csv_path` stores the path of the `.csv` file used as an argument to the `read_csv()` function. The result is stored in the object `df` (common short form used for a variable referring to a Pandas dataframe)."
      ]
    },
    {
      "cell_type": "markdown",
      "metadata": {},
      "source": [
        "We can use `head()` to examine the 1st N rows, 5 rows by default, of a dataframe."
      ]
    },
    {
      "cell_type": "code",
      "execution_count": 3,
      "metadata": {},
      "outputs": [
        {
          "data": {
            "text/html": [
              "<div>\n",
              "<style scoped>\n",
              "    .dataframe tbody tr th:only-of-type {\n",
              "        vertical-align: middle;\n",
              "    }\n",
              "\n",
              "    .dataframe tbody tr th {\n",
              "        vertical-align: top;\n",
              "    }\n",
              "\n",
              "    .dataframe thead th {\n",
              "        text-align: right;\n",
              "    }\n",
              "</style>\n",
              "<table border=\"1\" class=\"dataframe\">\n",
              "  <thead>\n",
              "    <tr style=\"text-align: right;\">\n",
              "      <th></th>\n",
              "      <th>Artist</th>\n",
              "      <th>Album</th>\n",
              "      <th>Released</th>\n",
              "      <th>Length</th>\n",
              "      <th>Genre</th>\n",
              "      <th>Music Recording Sales (millions)</th>\n",
              "      <th>Claimed Sales (millions)</th>\n",
              "      <th>Released.1</th>\n",
              "      <th>Soundtrack</th>\n",
              "      <th>Rating</th>\n",
              "    </tr>\n",
              "  </thead>\n",
              "  <tbody>\n",
              "    <tr>\n",
              "      <th>0</th>\n",
              "      <td>Michael Jackson</td>\n",
              "      <td>Thriller</td>\n",
              "      <td>1982</td>\n",
              "      <td>0:42:19</td>\n",
              "      <td>pop, rock, R&amp;B</td>\n",
              "      <td>46.0</td>\n",
              "      <td>65</td>\n",
              "      <td>30-Nov-82</td>\n",
              "      <td>NaN</td>\n",
              "      <td>10.0</td>\n",
              "    </tr>\n",
              "    <tr>\n",
              "      <th>1</th>\n",
              "      <td>AC/DC</td>\n",
              "      <td>Back in Black</td>\n",
              "      <td>1980</td>\n",
              "      <td>0:42:11</td>\n",
              "      <td>hard rock</td>\n",
              "      <td>26.1</td>\n",
              "      <td>50</td>\n",
              "      <td>25-Jul-80</td>\n",
              "      <td>NaN</td>\n",
              "      <td>9.5</td>\n",
              "    </tr>\n",
              "    <tr>\n",
              "      <th>2</th>\n",
              "      <td>Pink Floyd</td>\n",
              "      <td>The Dark Side of the Moon</td>\n",
              "      <td>1973</td>\n",
              "      <td>0:42:49</td>\n",
              "      <td>progressive rock</td>\n",
              "      <td>24.2</td>\n",
              "      <td>45</td>\n",
              "      <td>01-Mar-73</td>\n",
              "      <td>NaN</td>\n",
              "      <td>9.0</td>\n",
              "    </tr>\n",
              "    <tr>\n",
              "      <th>3</th>\n",
              "      <td>Whitney Houston</td>\n",
              "      <td>The Bodyguard</td>\n",
              "      <td>1992</td>\n",
              "      <td>0:57:44</td>\n",
              "      <td>R&amp;B, soul, pop</td>\n",
              "      <td>27.4</td>\n",
              "      <td>44</td>\n",
              "      <td>17-Nov-92</td>\n",
              "      <td>Y</td>\n",
              "      <td>8.5</td>\n",
              "    </tr>\n",
              "    <tr>\n",
              "      <th>4</th>\n",
              "      <td>Meat Loaf</td>\n",
              "      <td>Bat Out of Hell</td>\n",
              "      <td>1977</td>\n",
              "      <td>0:46:33</td>\n",
              "      <td>hard rock, progressive rock</td>\n",
              "      <td>20.6</td>\n",
              "      <td>43</td>\n",
              "      <td>21-Oct-77</td>\n",
              "      <td>NaN</td>\n",
              "      <td>8.0</td>\n",
              "    </tr>\n",
              "  </tbody>\n",
              "</table>\n",
              "</div>"
            ],
            "text/plain": [
              "            Artist                      Album  Released   Length  \\\n",
              "0  Michael Jackson                   Thriller      1982  0:42:19   \n",
              "1            AC/DC              Back in Black      1980  0:42:11   \n",
              "2       Pink Floyd  The Dark Side of the Moon      1973  0:42:49   \n",
              "3  Whitney Houston              The Bodyguard      1992  0:57:44   \n",
              "4        Meat Loaf            Bat Out of Hell      1977  0:46:33   \n",
              "\n",
              "                         Genre  Music Recording Sales (millions)  \\\n",
              "0               pop, rock, R&B                              46.0   \n",
              "1                    hard rock                              26.1   \n",
              "2             progressive rock                              24.2   \n",
              "3               R&B, soul, pop                              27.4   \n",
              "4  hard rock, progressive rock                              20.6   \n",
              "\n",
              "   Claimed Sales (millions) Released.1 Soundtrack  Rating  \n",
              "0                        65  30-Nov-82        NaN    10.0  \n",
              "1                        50  25-Jul-80        NaN     9.5  \n",
              "2                        45  01-Mar-73        NaN     9.0  \n",
              "3                        44  17-Nov-92          Y     8.5  \n",
              "4                        43  21-Oct-77        NaN     8.0  "
            ]
          },
          "execution_count": 3,
          "metadata": {},
          "output_type": "execute_result"
        }
      ],
      "source": [
        "## HTTP URL to CSV data file\n",
        "csv_path = 'https://cf-courses-data.s3.us.cloud-object-storage.appdomain.cloud/IBMDeveloperSkillsNetwork-PY0101EN-SkillsNetwork/labs/Module%204/data/TopSellingAlbums.csv'\n",
        "## Read data from CSV file into DataFrame\n",
        "df = pd.read_csv(csv_path)\n",
        "## Show the 1st 5 rows of dataframe\n",
        "# print(df.head())\n",
        "df.head()"
      ]
    },
    {
      "attachments": {},
      "cell_type": "markdown",
      "metadata": {},
      "source": [
        "We can use `read_excel()` to read in an Excel file in a similar manner."
      ]
    },
    {
      "cell_type": "code",
      "execution_count": 4,
      "metadata": {},
      "outputs": [
        {
          "data": {
            "text/html": [
              "<div>\n",
              "<style scoped>\n",
              "    .dataframe tbody tr th:only-of-type {\n",
              "        vertical-align: middle;\n",
              "    }\n",
              "\n",
              "    .dataframe tbody tr th {\n",
              "        vertical-align: top;\n",
              "    }\n",
              "\n",
              "    .dataframe thead th {\n",
              "        text-align: right;\n",
              "    }\n",
              "</style>\n",
              "<table border=\"1\" class=\"dataframe\">\n",
              "  <thead>\n",
              "    <tr style=\"text-align: right;\">\n",
              "      <th></th>\n",
              "      <th>Artist</th>\n",
              "      <th>Album</th>\n",
              "      <th>Released</th>\n",
              "      <th>Length</th>\n",
              "      <th>Genre</th>\n",
              "      <th>Music Recording Sales (millions)</th>\n",
              "      <th>Claimed Sales (millions)</th>\n",
              "      <th>Released.1</th>\n",
              "      <th>Soundtrack</th>\n",
              "      <th>Rating</th>\n",
              "    </tr>\n",
              "  </thead>\n",
              "  <tbody>\n",
              "    <tr>\n",
              "      <th>0</th>\n",
              "      <td>Michael Jackson</td>\n",
              "      <td>Thriller</td>\n",
              "      <td>1982</td>\n",
              "      <td>00:42:19</td>\n",
              "      <td>pop, rock, R&amp;B</td>\n",
              "      <td>46.0</td>\n",
              "      <td>65</td>\n",
              "      <td>1982-11-30</td>\n",
              "      <td>NaN</td>\n",
              "      <td>10.0</td>\n",
              "    </tr>\n",
              "    <tr>\n",
              "      <th>1</th>\n",
              "      <td>AC/DC</td>\n",
              "      <td>Back in Black</td>\n",
              "      <td>1980</td>\n",
              "      <td>00:42:11</td>\n",
              "      <td>hard rock</td>\n",
              "      <td>26.1</td>\n",
              "      <td>50</td>\n",
              "      <td>1980-07-25</td>\n",
              "      <td>NaN</td>\n",
              "      <td>9.5</td>\n",
              "    </tr>\n",
              "    <tr>\n",
              "      <th>2</th>\n",
              "      <td>Pink Floyd</td>\n",
              "      <td>The Dark Side of the Moon</td>\n",
              "      <td>1973</td>\n",
              "      <td>00:42:49</td>\n",
              "      <td>progressive rock</td>\n",
              "      <td>24.2</td>\n",
              "      <td>45</td>\n",
              "      <td>1973-03-01</td>\n",
              "      <td>NaN</td>\n",
              "      <td>9.0</td>\n",
              "    </tr>\n",
              "    <tr>\n",
              "      <th>3</th>\n",
              "      <td>Whitney Houston</td>\n",
              "      <td>The Bodyguard</td>\n",
              "      <td>1992</td>\n",
              "      <td>00:57:44</td>\n",
              "      <td>R&amp;B, soul, pop</td>\n",
              "      <td>27.4</td>\n",
              "      <td>44</td>\n",
              "      <td>1992-11-17</td>\n",
              "      <td>Y</td>\n",
              "      <td>8.5</td>\n",
              "    </tr>\n",
              "    <tr>\n",
              "      <th>4</th>\n",
              "      <td>Meat Loaf</td>\n",
              "      <td>Bat Out of Hell</td>\n",
              "      <td>1977</td>\n",
              "      <td>00:46:33</td>\n",
              "      <td>hard rock, progressive rock</td>\n",
              "      <td>20.6</td>\n",
              "      <td>43</td>\n",
              "      <td>1977-10-21</td>\n",
              "      <td>NaN</td>\n",
              "      <td>8.0</td>\n",
              "    </tr>\n",
              "  </tbody>\n",
              "</table>\n",
              "</div>"
            ],
            "text/plain": [
              "            Artist                      Album  Released    Length  \\\n",
              "0  Michael Jackson                   Thriller      1982  00:42:19   \n",
              "1            AC/DC              Back in Black      1980  00:42:11   \n",
              "2       Pink Floyd  The Dark Side of the Moon      1973  00:42:49   \n",
              "3  Whitney Houston              The Bodyguard      1992  00:57:44   \n",
              "4        Meat Loaf            Bat Out of Hell      1977  00:46:33   \n",
              "\n",
              "                         Genre  Music Recording Sales (millions)  \\\n",
              "0               pop, rock, R&B                              46.0   \n",
              "1                    hard rock                              26.1   \n",
              "2             progressive rock                              24.2   \n",
              "3               R&B, soul, pop                              27.4   \n",
              "4  hard rock, progressive rock                              20.6   \n",
              "\n",
              "   Claimed Sales (millions) Released.1 Soundtrack  Rating  \n",
              "0                        65 1982-11-30        NaN    10.0  \n",
              "1                        50 1980-07-25        NaN     9.5  \n",
              "2                        45 1973-03-01        NaN     9.0  \n",
              "3                        44 1992-11-17          Y     8.5  \n",
              "4                        43 1977-10-21        NaN     8.0  "
            ]
          },
          "execution_count": 4,
          "metadata": {},
          "output_type": "execute_result"
        }
      ],
      "source": [
        "## HTTP URL to Excel data file\n",
        "xlsx_path = 'https://s3-api.us-geo.objectstorage.softlayer.net/cf-courses-data/CognitiveClass/PY0101EN/Chapter%204/Datasets/TopSellingAlbums.xlsx'\n",
        "## Read data from Excel file into DataFrame\n",
        "df = pd.read_excel(xlsx_path)\n",
        "## Show the 1st 5 rows of dataframe\n",
        "# print(df.head())\n",
        "df.head()"
      ]
    },
    {
      "attachments": {},
      "cell_type": "markdown",
      "metadata": {},
      "source": [
        "We can access the column \"Length\" and assign it a new dataframe."
      ]
    },
    {
      "cell_type": "code",
      "execution_count": 5,
      "metadata": {},
      "outputs": [
        {
          "name": "stdout",
          "output_type": "stream",
          "text": [
            "<class 'pandas.core.frame.DataFrame'>\n",
            "     Length\n",
            "0  00:42:19\n",
            "1  00:42:11\n",
            "2  00:42:49\n",
            "3  00:57:44\n",
            "4  00:46:33\n",
            "5  00:43:08\n",
            "6  01:15:54\n",
            "7  00:40:01\n"
          ]
        }
      ],
      "source": [
        "## Get column as DataFrame\n",
        "d = df[['Length']]\n",
        "print(type(d))\n",
        "print(d)"
      ]
    },
    {
      "attachments": {},
      "cell_type": "markdown",
      "metadata": {},
      "source": [
        "See illustration below.\n",
        "\n",
        "<img src=\"https://cf-courses-data.s3.us.cloud-object-storage.appdomain.cloud/IBMDeveloperSkillsNetwork-PY0101EN-SkillsNetwork/labs/Module%204/images/DataEgOne.png\" width=\"750\">"
      ]
    },
    {
      "attachments": {},
      "cell_type": "markdown",
      "metadata": {},
      "source": [
        "## Viewing and Accessing Data"
      ]
    },
    {
      "attachments": {},
      "cell_type": "markdown",
      "metadata": {},
      "source": [
        "We can also get a column as a Series, which can be thought of as 1-D DataFrame."
      ]
    },
    {
      "cell_type": "code",
      "execution_count": 6,
      "metadata": {},
      "outputs": [
        {
          "name": "stdout",
          "output_type": "stream",
          "text": [
            "<class 'pandas.core.series.Series'>\n",
            "0    00:42:19\n",
            "1    00:42:11\n",
            "2    00:42:49\n",
            "3    00:57:44\n",
            "4    00:46:33\n",
            "5    00:43:08\n",
            "6    01:15:54\n",
            "7    00:40:01\n",
            "Name: Length, dtype: object\n"
          ]
        }
      ],
      "source": [
        "## Get column as Series\n",
        "s = df['Length']\n",
        "print(type(s))\n",
        "print(s)"
      ]
    },
    {
      "attachments": {},
      "cell_type": "markdown",
      "metadata": {},
      "source": [
        "We can do the same thing for multiple columns. We list all the column names enclosed in double brackets. The result is a new dataframe comprised of the specified columns."
      ]
    },
    {
      "cell_type": "code",
      "execution_count": 7,
      "metadata": {},
      "outputs": [
        {
          "name": "stdout",
          "output_type": "stream",
          "text": [
            "<class 'pandas.core.frame.DataFrame'>\n",
            "            Artist    Length                        Genre\n",
            "0  Michael Jackson  00:42:19               pop, rock, R&B\n",
            "1            AC/DC  00:42:11                    hard rock\n",
            "2       Pink Floyd  00:42:49             progressive rock\n",
            "3  Whitney Houston  00:57:44               R&B, soul, pop\n",
            "4        Meat Loaf  00:46:33  hard rock, progressive rock\n",
            "5           Eagles  00:43:08   rock, soft rock, folk rock\n",
            "6         Bee Gees  01:15:54                        disco\n",
            "7    Fleetwood Mac  00:40:01                    soft rock\n"
          ]
        }
      ],
      "source": [
        "## Access multiple columns\n",
        "mul_col = df[['Artist', 'Length', 'Genre']]\n",
        "print(type(mul_col))\n",
        "print(mul_col)"
      ]
    },
    {
      "attachments": {},
      "cell_type": "markdown",
      "metadata": {},
      "source": [
        "See illustration below.\n",
        "\n",
        "<center><img src=\"../images/m04-multiple-columns.jpg\" height=\"80%\" width=\"80%\" /></center>"
      ]
    },
    {
      "attachments": {},
      "cell_type": "markdown",
      "metadata": {},
      "source": [
        "Use `iloc()` to access a value in DataFrame. "
      ]
    },
    {
      "cell_type": "code",
      "execution_count": 8,
      "metadata": {},
      "outputs": [
        {
          "name": "stdout",
          "output_type": "stream",
          "text": [
            "Michael Jackson\n",
            "AC/DC\n",
            "1982\n",
            "1980\n"
          ]
        }
      ],
      "source": [
        "## Access a value\n",
        "## Access value at 1st row and 1st column\n",
        "print(df.iloc[0, 0])\n",
        "## Access value at 2nd row and 1st column\n",
        "print(df.iloc[1, 0])\n",
        "## Access value at 1st row and 3rd column\n",
        "print(df.iloc[0, 2])\n",
        "## Access value at 2nd row and 3rd column\n",
        "print(df.iloc[1, 2])"
      ]
    },
    {
      "attachments": {},
      "cell_type": "markdown",
      "metadata": {},
      "source": [
        "See illustration below.\n",
        "\n",
        "<img src=\"https://cf-courses-data.s3.us.cloud-object-storage.appdomain.cloud/IBMDeveloperSkillsNetwork-PY0101EN-SkillsNetwork/labs/Module%204/images/2_loc.PNG\" width=\"750\">"
      ]
    },
    {
      "attachments": {},
      "cell_type": "markdown",
      "metadata": {},
      "source": [
        "We can access the column using its name as well."
      ]
    },
    {
      "cell_type": "code",
      "execution_count": 9,
      "metadata": {},
      "outputs": [
        {
          "name": "stdout",
          "output_type": "stream",
          "text": [
            "Michael Jackson\n",
            "AC/DC\n",
            "1982\n",
            "1980\n"
          ]
        }
      ],
      "source": [
        "## Access value with column name\n",
        "print(df.loc[0, \"Artist\"])\n",
        "print(df.loc[1, \"Artist\"])\n",
        "print(df.loc[0, \"Released\"])\n",
        "print(df.loc[1, \"Released\"])"
      ]
    },
    {
      "attachments": {},
      "cell_type": "markdown",
      "metadata": {},
      "source": [
        "See illustration below.\n",
        "\n",
        "<img src=\"https://cf-courses-data.s3.us.cloud-object-storage.appdomain.cloud/IBMDeveloperSkillsNetwork-PY0101EN-SkillsNetwork/labs/Module%204/images/1_loc.png\" width=\"750\">"
      ]
    },
    {
      "attachments": {},
      "cell_type": "markdown",
      "metadata": {},
      "source": [
        "We can perform slicing using both the indexes and the names of the columns."
      ]
    },
    {
      "cell_type": "code",
      "execution_count": 10,
      "metadata": {},
      "outputs": [
        {
          "name": "stdout",
          "output_type": "stream",
          "text": [
            "            Artist          Album  Released\n",
            "0  Michael Jackson       Thriller      1982\n",
            "1            AC/DC  Back in Black      1980\n"
          ]
        }
      ],
      "source": [
        "## Slice DataFrame with indexes\n",
        "print(df.iloc[0:2, 0:3])"
      ]
    },
    {
      "attachments": {},
      "cell_type": "markdown",
      "metadata": {},
      "source": [
        "See illustration below.\n",
        "\n",
        "<img src=\"https://cf-courses-data.s3.us.cloud-object-storage.appdomain.cloud/IBMDeveloperSkillsNetwork-PY0101EN-SkillsNetwork/labs/Module%204/images/4_loc.png\" width=\"750\">"
      ]
    },
    {
      "cell_type": "code",
      "execution_count": 11,
      "metadata": {},
      "outputs": [
        {
          "name": "stdout",
          "output_type": "stream",
          "text": [
            "            Artist                      Album  Released\n",
            "0  Michael Jackson                   Thriller      1982\n",
            "1            AC/DC              Back in Black      1980\n",
            "2       Pink Floyd  The Dark Side of the Moon      1973\n"
          ]
        }
      ],
      "source": [
        "## Slice DataFrame with column names\n",
        "print(df.loc[0:2, \"Artist\":\"Released\"])"
      ]
    },
    {
      "attachments": {},
      "cell_type": "markdown",
      "metadata": {},
      "source": [
        "See illustration below.\n",
        "\n",
        "<img src=\"https://cf-courses-data.s3.us.cloud-object-storage.appdomain.cloud/IBMDeveloperSkillsNetwork-PY0101EN-SkillsNetwork/labs/Module%204/images/3_loc.png\" width=\"750\">"
      ]
    },
    {
      "attachments": {},
      "cell_type": "markdown",
      "metadata": {},
      "source": [
        "---"
      ]
    },
    {
      "attachments": {},
      "cell_type": "markdown",
      "metadata": {},
      "source": [
        "## Exercises"
      ]
    },
    {
      "attachments": {},
      "cell_type": "markdown",
      "metadata": {},
      "source": [
        "### Music Album"
      ]
    },
    {
      "attachments": {},
      "cell_type": "markdown",
      "metadata": {},
      "source": [
        "1. Use a variable `r` to store the column `Rating` as a dataframe."
      ]
    },
    {
      "cell_type": "code",
      "execution_count": 12,
      "metadata": {},
      "outputs": [
        {
          "name": "stdout",
          "output_type": "stream",
          "text": [
            "   Rating\n",
            "0    10.0\n",
            "1     9.5\n",
            "2     9.0\n",
            "3     8.5\n",
            "4     8.0\n",
            "5     7.5\n",
            "6     7.0\n",
            "7     6.5\n"
          ]
        }
      ],
      "source": [
        "r = df[[\"Rating\"]]\n",
        "print(r)"
      ]
    },
    {
      "attachments": {},
      "cell_type": "markdown",
      "metadata": {},
      "source": [
        "<details><summary>Click here for the solution</summary>\n",
        "\n",
        "```python\n",
        "r = df[['Rating']]\n",
        "r   \n",
        "```\n",
        "\n",
        "</details>"
      ]
    },
    {
      "attachments": {},
      "cell_type": "markdown",
      "metadata": {},
      "source": [
        "2. Assign the variable `r` to the dataframe that is made up of the columns `Released` and `Artist`."
      ]
    },
    {
      "cell_type": "code",
      "execution_count": 13,
      "metadata": {},
      "outputs": [
        {
          "name": "stdout",
          "output_type": "stream",
          "text": [
            "   Released           Artist\n",
            "0      1982  Michael Jackson\n",
            "1      1980            AC/DC\n",
            "2      1973       Pink Floyd\n",
            "3      1992  Whitney Houston\n",
            "4      1977        Meat Loaf\n",
            "5      1976           Eagles\n",
            "6      1977         Bee Gees\n",
            "7      1977    Fleetwood Mac\n"
          ]
        }
      ],
      "source": [
        "r = df[[\"Released\", \"Artist\"]]\n",
        "print(r)"
      ]
    },
    {
      "attachments": {},
      "cell_type": "markdown",
      "metadata": {},
      "source": [
        "<details><summary>Click here for the solution</summary>\n",
        "\n",
        "```python\n",
        "r = df[['Released', 'Artist']]\n",
        "r   \n",
        "```\n",
        "\n",
        "</details>"
      ]
    },
    {
      "attachments": {},
      "cell_type": "markdown",
      "metadata": {},
      "source": [
        "3. Access the 2nd row and the 3rd column of `df`."
      ]
    },
    {
      "cell_type": "code",
      "execution_count": 14,
      "metadata": {},
      "outputs": [
        {
          "name": "stdout",
          "output_type": "stream",
          "text": [
            "1980\n"
          ]
        }
      ],
      "source": [
        "print(df.iloc[1, 2])"
      ]
    },
    {
      "attachments": {},
      "cell_type": "markdown",
      "metadata": {},
      "source": [
        "<details><summary>Click here for the solution</summary>\n",
        "\n",
        "```python\n",
        "df.iloc[1, 2]    \n",
        "```\n",
        "\n",
        "</details>"
      ]
    },
    {
      "attachments": {},
      "cell_type": "markdown",
      "metadata": {},
      "source": [
        "4. Use the following list to convert the dataframe index to characters and assign it to `df_new`. Find the element corresponding to the row index `a` and column `Artist`. Then select the rows `a` through `d` for the column `Artist`."
      ]
    },
    {
      "cell_type": "code",
      "execution_count": 15,
      "metadata": {},
      "outputs": [],
      "source": [
        "new_index = ['a', 'b', 'c', 'd', 'e', 'f', 'g', 'h']"
      ]
    },
    {
      "cell_type": "code",
      "execution_count": 16,
      "metadata": {},
      "outputs": [
        {
          "name": "stdout",
          "output_type": "stream",
          "text": [
            "[0 1 2 3 4 5 6 7]\n",
            "['a' 'b' 'c' 'd' 'e' 'f' 'g' 'h']\n",
            "Michael Jackson\n",
            "a    Michael Jackson\n",
            "b              AC/DC\n",
            "c         Pink Floyd\n",
            "d    Whitney Houston\n",
            "Name: Artist, dtype: object\n"
          ]
        }
      ],
      "source": [
        "print(df.index.values)\n",
        "df_new = df\n",
        "df_new.index = new_index\n",
        "print(df_new.index.values)\n",
        "print(df_new.loc[\"a\", \"Artist\"])\n",
        "print(df_new.loc[\"a\":\"d\", \"Artist\"])"
      ]
    },
    {
      "attachments": {},
      "cell_type": "markdown",
      "metadata": {},
      "source": [
        "<details><summary>Click here for the solution</summary>\n",
        "\n",
        "```python\n",
        "df_new=df\n",
        "df_new.index=new_index\n",
        "df_new.loc['a', 'Artist']\n",
        "df_new.loc['a':'d', 'Artist']\n",
        "```\n",
        "\n",
        "</details>"
      ]
    },
    {
      "attachments": {},
      "cell_type": "markdown",
      "metadata": {},
      "source": [
        "### Loading Data with Pandas"
      ]
    },
    {
      "cell_type": "code",
      "execution_count": 17,
      "metadata": {},
      "outputs": [],
      "source": [
        "import pandas as pd\n",
        "\n",
        "df = pd.DataFrame({'a':[11, 21, 31], 'b':[21, 22, 23]})"
      ]
    },
    {
      "attachments": {},
      "cell_type": "markdown",
      "metadata": {},
      "source": [
        "1. Display the 1st 3 rows."
      ]
    },
    {
      "cell_type": "code",
      "execution_count": 18,
      "metadata": {},
      "outputs": [
        {
          "name": "stdout",
          "output_type": "stream",
          "text": [
            "    a   b\n",
            "0  11  21\n",
            "1  21  22\n",
            "2  31  23\n"
          ]
        }
      ],
      "source": [
        "print(df.head(3))"
      ]
    },
    {
      "attachments": {},
      "cell_type": "markdown",
      "metadata": {},
      "source": [
        "<details><summary>Click here for the solution</summary>\n",
        "\n",
        "```python\n",
        "df.head(3)\n",
        "```\n",
        "\n",
        "</details>"
      ]
    },
    {
      "attachments": {},
      "cell_type": "markdown",
      "metadata": {},
      "source": [
        "2. Obtain column `a`."
      ]
    },
    {
      "cell_type": "code",
      "execution_count": 19,
      "metadata": {},
      "outputs": [
        {
          "name": "stdout",
          "output_type": "stream",
          "text": [
            "0    11\n",
            "1    21\n",
            "2    31\n",
            "Name: a, dtype: int64\n"
          ]
        }
      ],
      "source": [
        "print(df['a'])"
      ]
    },
    {
      "attachments": {},
      "cell_type": "markdown",
      "metadata": {},
      "source": [
        "<details><summary>Click here for the solution</summary>\n",
        "\n",
        "```python\n",
        "df['a']\n",
        "```\n",
        "\n",
        "</details>"
      ]
    },
    {
      "attachments": {},
      "cell_type": "markdown",
      "metadata": {},
      "source": [
        "### Working with and Saving Data with Pandas"
      ]
    },
    {
      "cell_type": "code",
      "execution_count": 20,
      "metadata": {},
      "outputs": [],
      "source": [
        "import pandas as pd\n",
        "\n",
        "df = pd.DataFrame({'a':[1, 2, 1], 'b':[1, 1, 1]})"
      ]
    },
    {
      "attachments": {},
      "cell_type": "markdown",
      "metadata": {},
      "source": [
        "1. Find the unique values in column `a`."
      ]
    },
    {
      "cell_type": "code",
      "execution_count": 21,
      "metadata": {},
      "outputs": [
        {
          "name": "stdout",
          "output_type": "stream",
          "text": [
            "[1 2]\n"
          ]
        }
      ],
      "source": [
        "## Return unique values in a column\n",
        "print(df['a'].unique())"
      ]
    },
    {
      "attachments": {},
      "cell_type": "markdown",
      "metadata": {},
      "source": [
        "<details><summary>Click here for the solution</summary>\n",
        "\n",
        "```python\n",
        "df['a'].unique()\n",
        "```\n",
        "\n",
        "</details>"
      ]
    },
    {
      "attachments": {},
      "cell_type": "markdown",
      "metadata": {},
      "source": [
        "2. Return a dataframe with only the rows where column `a` is less than 2. "
      ]
    },
    {
      "cell_type": "code",
      "execution_count": 22,
      "metadata": {},
      "outputs": [
        {
          "name": "stdout",
          "output_type": "stream",
          "text": [
            "   a  b\n",
            "0  1  1\n",
            "2  1  1\n"
          ]
        }
      ],
      "source": [
        "print(df[df['a'] < 2])"
      ]
    },
    {
      "attachments": {},
      "cell_type": "markdown",
      "metadata": {},
      "source": [
        "<details><summary>Click here for the solution</summary>\n",
        "\n",
        "```python\n",
        "df[df['a']<2]\n",
        "```\n",
        "\n",
        "</details>"
      ]
    },
    {
      "attachments": {},
      "cell_type": "markdown",
      "metadata": {},
      "source": [
        "---"
      ]
    },
    {
      "attachments": {},
      "cell_type": "markdown",
      "metadata": {},
      "source": [
        "Author(s):\n",
        "\n",
        "- [Joseph Santarcangelo](https://www.linkedin.com/in/joseph-s-50398b136/?utm_medium=Exinfluencer&utm_source=Exinfluencer&utm_content=000026UJ&utm_term=10006555&utm_id=NA-SkillsNetwork-Channel-SkillsNetworkCoursesIBMDeveloperSkillsNetworkPY0101ENSkillsNetwork1005-2022-01-01) \n",
        "  - Joseph Santarcangelo has a PhD in Electrical Engineering. His research focused on using machine learning, signal processing, and computer vision to determine how videos impact human cognition. Joseph has been working for IBM since he completed his PhD.\n",
        "\n",
        "Other Contributor(s):\n",
        "\n",
        "- N/A"
      ]
    }
  ],
  "metadata": {
    "kernelspec": {
      "display_name": "base",
      "language": "python",
      "name": "python3"
    },
    "language_info": {
      "codemirror_mode": {
        "name": "ipython",
        "version": 3
      },
      "file_extension": ".py",
      "mimetype": "text/x-python",
      "name": "python",
      "nbconvert_exporter": "python",
      "pygments_lexer": "ipython3",
      "version": "3.8.13"
    },
    "vscode": {
      "interpreter": {
        "hash": "2011e8f1b66e4ca782a16183c079a9a8ceaa771eb94b3143f514bb5560527e59"
      }
    }
  },
  "nbformat": 4,
  "nbformat_minor": 4
}
